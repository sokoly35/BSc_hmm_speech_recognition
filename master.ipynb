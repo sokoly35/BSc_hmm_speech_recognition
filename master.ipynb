{
 "cells": [
  {
   "cell_type": "markdown",
   "metadata": {},
   "source": [
    "- żeby konwertować .mp3 do .wav oprócz pydub potrzebny był ffmpeg\n",
    "    - ffmpeg został pobrany z oficjalnej strony dystrybutora i dodane do PATH"
   ]
  },
  {
   "cell_type": "markdown",
   "metadata": {},
   "source": [
    "# Setup"
   ]
  },
  {
   "cell_type": "code",
   "execution_count": 1,
   "metadata": {},
   "outputs": [],
   "source": [
    "# # OPTIONAL: Load the \"autoreload\" extension so that code can change\n",
    "%load_ext autoreload\n",
    "\n",
    "# # OPTIONAL: always reload modules so that as you change code in src, it gets loaded\n",
    "%autoreload 2"
   ]
  },
  {
   "cell_type": "code",
   "execution_count": 2,
   "metadata": {},
   "outputs": [],
   "source": [
    "from src.data.make_dataset import DataCreator\n",
    "from src.features.preprocess import create_dataframe, DataPreprocessor, noising \n",
    "from src.models.model_setup import gmmhmm, IwrGaussianHMMModel\n",
    "from src.models.model_selection import Noiser, GridSearch"
   ]
  },
  {
   "cell_type": "code",
   "execution_count": 3,
   "metadata": {},
   "outputs": [],
   "source": [
    "import numpy as np\n",
    "import pandas as pd\n",
    "import matplotlib.pyplot as plt"
   ]
  },
  {
   "cell_type": "code",
   "execution_count": 4,
   "metadata": {},
   "outputs": [],
   "source": [
    "np.random.seed(7)"
   ]
  },
  {
   "cell_type": "markdown",
   "metadata": {},
   "source": [
    "# Data Preparation"
   ]
  },
  {
   "cell_type": "markdown",
   "metadata": {},
   "source": [
    "### Dodaj padding do dźwięków"
   ]
  },
  {
   "cell_type": "code",
   "execution_count": 35,
   "metadata": {},
   "outputs": [],
   "source": [
    "dc = DataCreator()"
   ]
  },
  {
   "cell_type": "code",
   "execution_count": 37,
   "metadata": {},
   "outputs": [],
   "source": [
    "dc.generate_observations(200)"
   ]
  },
  {
   "cell_type": "code",
   "execution_count": 69,
   "metadata": {},
   "outputs": [
    {
     "data": {
      "text/plain": [
       "1.2384580498866213"
      ]
     },
     "execution_count": 69,
     "metadata": {},
     "output_type": "execute_result"
    }
   ],
   "source": [
    "# sr = 22050\n",
    "# dc.max_len / sr\n",
    "# > 1.2384580498866213"
   ]
  },
  {
   "cell_type": "markdown",
   "metadata": {},
   "source": [
    "# Preprocessing"
   ]
  },
  {
   "cell_type": "code",
   "execution_count": 6,
   "metadata": {},
   "outputs": [],
   "source": [
    "train_df, test_df, mapper = create_dataframe(how_many=200)"
   ]
  },
  {
   "cell_type": "code",
   "execution_count": 7,
   "metadata": {},
   "outputs": [
    {
     "data": {
      "text/html": [
       "<div>\n",
       "<style scoped>\n",
       "    .dataframe tbody tr th:only-of-type {\n",
       "        vertical-align: middle;\n",
       "    }\n",
       "\n",
       "    .dataframe tbody tr th {\n",
       "        vertical-align: top;\n",
       "    }\n",
       "\n",
       "    .dataframe thead th {\n",
       "        text-align: right;\n",
       "    }\n",
       "</style>\n",
       "<table border=\"1\" class=\"dataframe\">\n",
       "  <thead>\n",
       "    <tr style=\"text-align: right;\">\n",
       "      <th></th>\n",
       "      <th>path</th>\n",
       "      <th>word</th>\n",
       "      <th>label</th>\n",
       "    </tr>\n",
       "  </thead>\n",
       "  <tbody>\n",
       "    <tr>\n",
       "      <th>0</th>\n",
       "      <td>data\\test\\up\\up_28.wav</td>\n",
       "      <td>up</td>\n",
       "      <td>8.0</td>\n",
       "    </tr>\n",
       "    <tr>\n",
       "      <th>1</th>\n",
       "      <td>data\\test\\left\\left_35.wav</td>\n",
       "      <td>left</td>\n",
       "      <td>2.0</td>\n",
       "    </tr>\n",
       "    <tr>\n",
       "      <th>2</th>\n",
       "      <td>data\\test\\up\\up_31.wav</td>\n",
       "      <td>up</td>\n",
       "      <td>8.0</td>\n",
       "    </tr>\n",
       "    <tr>\n",
       "      <th>3</th>\n",
       "      <td>data\\test\\off\\off_16.wav</td>\n",
       "      <td>off</td>\n",
       "      <td>4.0</td>\n",
       "    </tr>\n",
       "    <tr>\n",
       "      <th>4</th>\n",
       "      <td>data\\test\\up\\up_33.wav</td>\n",
       "      <td>up</td>\n",
       "      <td>8.0</td>\n",
       "    </tr>\n",
       "    <tr>\n",
       "      <th>...</th>\n",
       "      <td>...</td>\n",
       "      <td>...</td>\n",
       "      <td>...</td>\n",
       "    </tr>\n",
       "    <tr>\n",
       "      <th>355</th>\n",
       "      <td>data\\test\\right\\right_7.wav</td>\n",
       "      <td>right</td>\n",
       "      <td>6.0</td>\n",
       "    </tr>\n",
       "    <tr>\n",
       "      <th>356</th>\n",
       "      <td>data\\test\\off\\off_29.wav</td>\n",
       "      <td>off</td>\n",
       "      <td>4.0</td>\n",
       "    </tr>\n",
       "    <tr>\n",
       "      <th>357</th>\n",
       "      <td>data\\test\\yes\\yes_17.wav</td>\n",
       "      <td>yes</td>\n",
       "      <td>9.0</td>\n",
       "    </tr>\n",
       "    <tr>\n",
       "      <th>358</th>\n",
       "      <td>data\\test\\down\\down_17.wav</td>\n",
       "      <td>down</td>\n",
       "      <td>0.0</td>\n",
       "    </tr>\n",
       "    <tr>\n",
       "      <th>359</th>\n",
       "      <td>data\\test\\no\\no_9.wav</td>\n",
       "      <td>no</td>\n",
       "      <td>3.0</td>\n",
       "    </tr>\n",
       "  </tbody>\n",
       "</table>\n",
       "<p>360 rows × 3 columns</p>\n",
       "</div>"
      ],
      "text/plain": [
       "                            path   word  label\n",
       "0         data\\test\\up\\up_28.wav     up    8.0\n",
       "1     data\\test\\left\\left_35.wav   left    2.0\n",
       "2         data\\test\\up\\up_31.wav     up    8.0\n",
       "3       data\\test\\off\\off_16.wav    off    4.0\n",
       "4         data\\test\\up\\up_33.wav     up    8.0\n",
       "..                           ...    ...    ...\n",
       "355  data\\test\\right\\right_7.wav  right    6.0\n",
       "356     data\\test\\off\\off_29.wav    off    4.0\n",
       "357     data\\test\\yes\\yes_17.wav    yes    9.0\n",
       "358   data\\test\\down\\down_17.wav   down    0.0\n",
       "359        data\\test\\no\\no_9.wav     no    3.0\n",
       "\n",
       "[360 rows x 3 columns]"
      ]
     },
     "execution_count": 7,
     "metadata": {},
     "output_type": "execute_result"
    }
   ],
   "source": [
    "test_df"
   ]
  },
  {
   "cell_type": "code",
   "execution_count": 8,
   "metadata": {},
   "outputs": [
    {
     "data": {
      "text/html": [
       "<div>\n",
       "<style scoped>\n",
       "    .dataframe tbody tr th:only-of-type {\n",
       "        vertical-align: middle;\n",
       "    }\n",
       "\n",
       "    .dataframe tbody tr th {\n",
       "        vertical-align: top;\n",
       "    }\n",
       "\n",
       "    .dataframe thead th {\n",
       "        text-align: right;\n",
       "    }\n",
       "</style>\n",
       "<table border=\"1\" class=\"dataframe\">\n",
       "  <thead>\n",
       "    <tr style=\"text-align: right;\">\n",
       "      <th></th>\n",
       "      <th>path</th>\n",
       "      <th>word</th>\n",
       "      <th>label</th>\n",
       "    </tr>\n",
       "  </thead>\n",
       "  <tbody>\n",
       "    <tr>\n",
       "      <th>0</th>\n",
       "      <td>data\\train\\go\\go_145.wav</td>\n",
       "      <td>go</td>\n",
       "      <td>1.0</td>\n",
       "    </tr>\n",
       "    <tr>\n",
       "      <th>1</th>\n",
       "      <td>data\\train\\down\\down_122.wav</td>\n",
       "      <td>down</td>\n",
       "      <td>0.0</td>\n",
       "    </tr>\n",
       "    <tr>\n",
       "      <th>2</th>\n",
       "      <td>data\\train\\yes\\yes_133.wav</td>\n",
       "      <td>yes</td>\n",
       "      <td>9.0</td>\n",
       "    </tr>\n",
       "    <tr>\n",
       "      <th>3</th>\n",
       "      <td>data\\train\\go\\go_176.wav</td>\n",
       "      <td>go</td>\n",
       "      <td>1.0</td>\n",
       "    </tr>\n",
       "    <tr>\n",
       "      <th>4</th>\n",
       "      <td>data\\train\\up\\up_13.wav</td>\n",
       "      <td>up</td>\n",
       "      <td>8.0</td>\n",
       "    </tr>\n",
       "    <tr>\n",
       "      <th>...</th>\n",
       "      <td>...</td>\n",
       "      <td>...</td>\n",
       "      <td>...</td>\n",
       "    </tr>\n",
       "    <tr>\n",
       "      <th>1995</th>\n",
       "      <td>data\\train\\up\\up_20.wav</td>\n",
       "      <td>up</td>\n",
       "      <td>8.0</td>\n",
       "    </tr>\n",
       "    <tr>\n",
       "      <th>1996</th>\n",
       "      <td>data\\train\\right\\right_163.wav</td>\n",
       "      <td>right</td>\n",
       "      <td>6.0</td>\n",
       "    </tr>\n",
       "    <tr>\n",
       "      <th>1997</th>\n",
       "      <td>data\\train\\up\\up_43.wav</td>\n",
       "      <td>up</td>\n",
       "      <td>8.0</td>\n",
       "    </tr>\n",
       "    <tr>\n",
       "      <th>1998</th>\n",
       "      <td>data\\train\\no\\no_64.wav</td>\n",
       "      <td>no</td>\n",
       "      <td>3.0</td>\n",
       "    </tr>\n",
       "    <tr>\n",
       "      <th>1999</th>\n",
       "      <td>data\\train\\go\\go_61.wav</td>\n",
       "      <td>go</td>\n",
       "      <td>1.0</td>\n",
       "    </tr>\n",
       "  </tbody>\n",
       "</table>\n",
       "<p>2000 rows × 3 columns</p>\n",
       "</div>"
      ],
      "text/plain": [
       "                                path   word  label\n",
       "0           data\\train\\go\\go_145.wav     go    1.0\n",
       "1       data\\train\\down\\down_122.wav   down    0.0\n",
       "2         data\\train\\yes\\yes_133.wav    yes    9.0\n",
       "3           data\\train\\go\\go_176.wav     go    1.0\n",
       "4            data\\train\\up\\up_13.wav     up    8.0\n",
       "...                              ...    ...    ...\n",
       "1995         data\\train\\up\\up_20.wav     up    8.0\n",
       "1996  data\\train\\right\\right_163.wav  right    6.0\n",
       "1997         data\\train\\up\\up_43.wav     up    8.0\n",
       "1998         data\\train\\no\\no_64.wav     no    3.0\n",
       "1999         data\\train\\go\\go_61.wav     go    1.0\n",
       "\n",
       "[2000 rows x 3 columns]"
      ]
     },
     "execution_count": 8,
     "metadata": {},
     "output_type": "execute_result"
    }
   ],
   "source": [
    "train_df"
   ]
  },
  {
   "cell_type": "code",
   "execution_count": 6,
   "metadata": {},
   "outputs": [],
   "source": [
    "train_dp = DataPreprocessor(train_df)\n",
    "X_train, y_train = train_dp.mfcc(12, S=0.045, R=0.05)"
   ]
  },
  {
   "cell_type": "code",
   "execution_count": 7,
   "metadata": {},
   "outputs": [],
   "source": [
    "test_dp = DataPreprocessor(test_df)\n",
    "X_test, y_test = test_dp.mfcc(12, S=0.045, R=0.05)"
   ]
  },
  {
   "cell_type": "code",
   "execution_count": 8,
   "metadata": {},
   "outputs": [
    {
     "data": {
      "text/plain": [
       "(1000, 12, 25)"
      ]
     },
     "execution_count": 8,
     "metadata": {},
     "output_type": "execute_result"
    }
   ],
   "source": [
    "X_train.shape"
   ]
  },
  {
   "cell_type": "code",
   "execution_count": 9,
   "metadata": {},
   "outputs": [
    {
     "data": {
      "text/plain": [
       "(200, 12, 25)"
      ]
     },
     "execution_count": 9,
     "metadata": {},
     "output_type": "execute_result"
    }
   ],
   "source": [
    "X_test.shape"
   ]
  },
  {
   "cell_type": "markdown",
   "metadata": {},
   "source": [
    "# Modelling"
   ]
  },
  {
   "cell_type": "code",
   "execution_count": 10,
   "metadata": {},
   "outputs": [],
   "source": [
    "model = IwrGaussianHMMModel(n_states=6, n_iter=20)"
   ]
  },
  {
   "cell_type": "code",
   "execution_count": 11,
   "metadata": {},
   "outputs": [],
   "source": [
    "model.fit(X_train, y_train)"
   ]
  },
  {
   "cell_type": "code",
   "execution_count": 12,
   "metadata": {},
   "outputs": [
    {
     "data": {
      "text/plain": [
       "0.951"
      ]
     },
     "execution_count": 12,
     "metadata": {},
     "output_type": "execute_result"
    }
   ],
   "source": [
    "model.score(X_train, y_train)"
   ]
  },
  {
   "cell_type": "code",
   "execution_count": 13,
   "metadata": {},
   "outputs": [
    {
     "data": {
      "text/plain": [
       "0.975"
      ]
     },
     "execution_count": 13,
     "metadata": {},
     "output_type": "execute_result"
    }
   ],
   "source": [
    "model.score(X_test, y_test)"
   ]
  },
  {
   "cell_type": "markdown",
   "metadata": {
    "heading_collapsed": true
   },
   "source": [
    "# Noising"
   ]
  },
  {
   "cell_type": "markdown",
   "metadata": {
    "hidden": true
   },
   "source": [
    "Based on the algorithm in:\n",
    "Timmer, J. and Koenig, M.:\n",
    "On generating power law noise."
   ]
  },
  {
   "cell_type": "markdown",
   "metadata": {
    "hidden": true
   },
   "source": [
    "## White noise"
   ]
  },
  {
   "cell_type": "code",
   "execution_count": 380,
   "metadata": {
    "hidden": true
   },
   "outputs": [],
   "source": [
    "y = np.random.normal(0, 1, size=3000)"
   ]
  },
  {
   "cell_type": "code",
   "execution_count": 381,
   "metadata": {
    "hidden": true
   },
   "outputs": [
    {
     "data": {
      "text/plain": [
       "[<matplotlib.lines.Line2D at 0x14b211b65b0>]"
      ]
     },
     "execution_count": 381,
     "metadata": {},
     "output_type": "execute_result"
    },
    {
     "data": {
      "image/png": "[encoded data removed]",
      "text/plain": [
       "<Figure size 432x288 with 1 Axes>"
      ]
     },
     "metadata": {
      "needs_background": "light"
     },
     "output_type": "display_data"
    }
   ],
   "source": [
    "plt.plot(y)"
   ]
  },
  {
   "cell_type": "code",
   "execution_count": 382,
   "metadata": {
    "hidden": true
   },
   "outputs": [],
   "source": [
    "y = cn.powerlaw_psd_gaussian(0, 3000)"
   ]
  },
  {
   "cell_type": "code",
   "execution_count": 383,
   "metadata": {
    "hidden": true
   },
   "outputs": [
    {
     "data": {
      "text/plain": [
       "[<matplotlib.lines.Line2D at 0x14b210fac70>]"
      ]
     },
     "execution_count": 383,
     "metadata": {},
     "output_type": "execute_result"
    },
    {
     "data": {
      "image/png": "[encoded data removed]",
      "text/plain": [
       "<Figure size 432x288 with 1 Axes>"
      ]
     },
     "metadata": {
      "needs_background": "light"
     },
     "output_type": "display_data"
    }
   ],
   "source": [
    "plt.plot(y)"
   ]
  },
  {
   "cell_type": "markdown",
   "metadata": {
    "hidden": true
   },
   "source": [
    "## Pink noise\n",
    "- szum gaussowaski z beta =1"
   ]
  },
  {
   "cell_type": "code",
   "execution_count": 368,
   "metadata": {
    "hidden": true
   },
   "outputs": [],
   "source": [
    "s = cn.powerlaw_psd_gaussian(1, 3000)"
   ]
  },
  {
   "cell_type": "code",
   "execution_count": 371,
   "metadata": {
    "hidden": true
   },
   "outputs": [
    {
     "data": {
      "text/plain": [
       "[<matplotlib.lines.Line2D at 0x14b1fb78580>]"
      ]
     },
     "execution_count": 371,
     "metadata": {},
     "output_type": "execute_result"
    },
    {
     "data": {
      "image/png": "[encoded data removed]",
      "text/plain": [
       "<Figure size 432x288 with 1 Axes>"
      ]
     },
     "metadata": {
      "needs_background": "light"
     },
     "output_type": "display_data"
    }
   ],
   "source": [
    "plt.plot(s)"
   ]
  },
  {
   "cell_type": "markdown",
   "metadata": {
    "hidden": true
   },
   "source": [
    "## Szum browna\n",
    "- szum gaussowski z beta = 2"
   ]
  },
  {
   "cell_type": "code",
   "execution_count": 372,
   "metadata": {
    "hidden": true
   },
   "outputs": [
    {
     "data": {
      "text/plain": [
       "[<matplotlib.lines.Line2D at 0x14b1fb43430>]"
      ]
     },
     "execution_count": 372,
     "metadata": {},
     "output_type": "execute_result"
    },
    {
     "data": {
      "image/png": "[encoded data removed]",
      "text/plain": [
       "<Figure size 432x288 with 1 Axes>"
      ]
     },
     "metadata": {
      "needs_background": "light"
     },
     "output_type": "display_data"
    }
   ],
   "source": [
    "s = cn.powerlaw_psd_gaussian(2, 3000)\n",
    "\n",
    "plt.plot(s)"
   ]
  },
  {
   "cell_type": "markdown",
   "metadata": {
    "hidden": true
   },
   "source": [
    "## Niebieski szum"
   ]
  },
  {
   "cell_type": "code",
   "execution_count": 387,
   "metadata": {
    "hidden": true
   },
   "outputs": [
    {
     "data": {
      "text/plain": [
       "[<matplotlib.lines.Line2D at 0x14b206be4f0>]"
      ]
     },
     "execution_count": 387,
     "metadata": {},
     "output_type": "execute_result"
    },
    {
     "data": {
      "image/png": "[encoded data removed]",
      "text/plain": [
       "<Figure size 432x288 with 1 Axes>"
      ]
     },
     "metadata": {
      "needs_background": "light"
     },
     "output_type": "display_data"
    }
   ],
   "source": [
    "y = cn.powerlaw_psd_gaussian(-2, 3000)\n",
    "\n",
    "plt.plot(y)"
   ]
  },
  {
   "cell_type": "code",
   "execution_count": 388,
   "metadata": {
    "hidden": true
   },
   "outputs": [
    {
     "data": {
      "text/plain": [
       "1.0006774255926991"
      ]
     },
     "execution_count": 388,
     "metadata": {},
     "output_type": "execute_result"
    }
   ],
   "source": [
    "np.std(y)"
   ]
  },
  {
   "cell_type": "markdown",
   "metadata": {
    "hidden": true
   },
   "source": [
    "## Fioletowy szum"
   ]
  },
  {
   "cell_type": "code",
   "execution_count": 384,
   "metadata": {
    "hidden": true
   },
   "outputs": [
    {
     "data": {
      "text/plain": [
       "[<matplotlib.lines.Line2D at 0x14b21021fd0>]"
      ]
     },
     "execution_count": 384,
     "metadata": {},
     "output_type": "execute_result"
    },
    {
     "data": {
      "image/png": "[encoded data removed]",
      "text/plain": [
       "<Figure size 432x288 with 1 Axes>"
      ]
     },
     "metadata": {
      "needs_background": "light"
     },
     "output_type": "display_data"
    }
   ],
   "source": [
    "y = cn.powerlaw_psd_gaussian(-1, 3000)\n",
    "\n",
    "plt.plot(y)"
   ]
  },
  {
   "cell_type": "code",
   "execution_count": 385,
   "metadata": {
    "hidden": true
   },
   "outputs": [
    {
     "data": {
      "text/plain": [
       "1.004367523462684"
      ]
     },
     "execution_count": 385,
     "metadata": {},
     "output_type": "execute_result"
    }
   ],
   "source": [
    "np.std(y)"
   ]
  },
  {
   "cell_type": "markdown",
   "metadata": {
    "hidden": true
   },
   "source": [
    "## Code"
   ]
  },
  {
   "cell_type": "markdown",
   "metadata": {
    "hidden": true
   },
   "source": [
    "### Example"
   ]
  },
  {
   "cell_type": "code",
   "execution_count": 401,
   "metadata": {
    "hidden": true
   },
   "outputs": [],
   "source": [
    "y, sr = librosa.load(r'data\\train\\yes\\yes_93.wav')"
   ]
  },
  {
   "cell_type": "code",
   "execution_count": 394,
   "metadata": {
    "hidden": true
   },
   "outputs": [
    {
     "data": {
      "text/plain": [
       "[<matplotlib.lines.Line2D at 0x14b204bc040>]"
      ]
     },
     "execution_count": 394,
     "metadata": {},
     "output_type": "execute_result"
    },
    {
     "data": {
      "image/png": "[encoded data removed]",
      "text/plain": [
       "<Figure size 432x288 with 1 Axes>"
      ]
     },
     "metadata": {
      "needs_background": "light"
     },
     "output_type": "display_data"
    }
   ],
   "source": [
    "plt.plot(y)"
   ]
  },
  {
   "cell_type": "code",
   "execution_count": 396,
   "metadata": {
    "hidden": true,
    "scrolled": true
   },
   "outputs": [
    {
     "data": {
      "text/plain": [
       "[<matplotlib.lines.Line2D at 0x14b202aac10>]"
      ]
     },
     "execution_count": 396,
     "metadata": {},
     "output_type": "execute_result"
    },
    {
     "data": {
      "image/png": "[encoded data removed]",
      "text/plain": [
       "<Figure size 432x288 with 1 Axes>"
      ]
     },
     "metadata": {
      "needs_background": "light"
     },
     "output_type": "display_data"
    }
   ],
   "source": [
    "plt.plot(noising(y, 0, 0))"
   ]
  },
  {
   "cell_type": "code",
   "execution_count": 397,
   "metadata": {
    "hidden": true
   },
   "outputs": [
    {
     "data": {
      "text/plain": [
       "[<matplotlib.lines.Line2D at 0x14b204d2850>]"
      ]
     },
     "execution_count": 397,
     "metadata": {},
     "output_type": "execute_result"
    },
    {
     "data": {
      "image/png": "[encoded data removed]",
      "text/plain": [
       "<Figure size 432x288 with 1 Axes>"
      ]
     },
     "metadata": {
      "needs_background": "light"
     },
     "output_type": "display_data"
    }
   ],
   "source": [
    "plt.plot(noising(y, 1, 0))"
   ]
  },
  {
   "cell_type": "code",
   "execution_count": 402,
   "metadata": {
    "hidden": true
   },
   "outputs": [
    {
     "data": {
      "text/html": [
       "\n",
       "                <audio  controls=\"controls\" >\n",
       "                    <source src=\"data:audio/wav;base64,UklGRnzVAABXQVZFZm10IBAAAAABAAEAIlYAAESsAAACABAAZGF0YVjVAAAAAAAAAAAAAAAAAAAAAAAAAAAAAAAAAAAAAAAAAAAAAAAAAAAAAAAAAAAAAAAAAAAAAAAAAAAAAAAAAAAAAAAAAAAAAAAAAAAAAAAAAAAAAAAAAAAAAAAAAAAAAAAAAAAAAAAAAAAAAAAAAAAAAAAAAAAAAAAAAAAAAAAAAAAAAAAAAAAAAAAAAAAAAAAAAAAAAAAAAAAAAAAAAAAAAAAAAAAAAAAAAAAAAAAAAAAAAAAAAAAAAAAAAAAAAAAAAAAAAAAAAAAAAAAAAAAAAAAAAAAAAAAAAAAAAAAAAAAAAAAAAAAAAAAAAAAAAAAAAAAAAAAAAAAAAAAAAAAAAAAAAAAAAAAAAAAAAAAAAAAAAAAAAAAAAAAAAAAAAAAAAAAAAAAAAAAAAAAAAAAAAAAAAAAAAAAAAAAAAAAAAAAAAAAAAAAAAAAAAAAAAAAAAAAAAAAAAAAAAAAAAAAAAAAAAAAAAAAAAAAAAAAAAAAAAAAAAAAAAAAAAAAAAAAAAAAAAAAAAAAAAAAAAAAAAAAAAAAAAAAAAAAAAAAAAAAAAAAAAAAAAAAAAAAAAAAAAAAAAAAAAAAAAAAAAAAAAAAAAAAAAAAAAAAAAAAAAAAAAAAAAAAAAAAAAAAAAAAAAAAAAAAAAAAAAAAAAAAAAAAAAAAAAAAAAAAAAAAAAAAAAAAAAAAAAAAAAAAAAAAAAAAAAAAAAAAAAAAAAAAAAAAAAAAAAAAAAAAAAAAAAAAAAAAAAAAAAAAAAAAAAAAAAAAAAAAAAAAAAAAAAAAAAAAAAAAAAAAAAAAAAAAAAAAAAAAAAAAAAAAAAAAAAAAAAAAAAAAAAAAAAAAAAAAAAAAAAAAAAAAAAAAAAAAAAAAAAAAAAAAAAAAAAAAAAAAAAAAAAAAAAAAAAAAAAAAAAAAAAAAAAAAAAAAAAAAAAAAAAAAAAAAAAAAAAAAAAAAAAAAAAAAAAAAAAAAAAAAAAAAAAAAAAAAAAAAAAAAAAAAAAAAAAAAAAAAAAAAAAAAAAAAAAAAAAAAAAAAAAAAAAAAAAAAAAAAAAAAAAAAAAAAAAAAAAAAAAAAAAAAAAAAAAAAAAAAAAAAAAAAAAAAAAAAAAAAAAAAAAAAAAAAAAAAAAAAAAAAAAAAAAAAAAAAAAAAAAAAAAAAAAAAAAAAAAAAAAAAAAAAAAAAAAAAAAAAAAAAAAAAAAAAAAAAAAAAAAAAAAAAAAAAAAAAAAAAAAAAAAAAAAAAAAAAAAAAAAAAAAAAAAAAAAAAAAAAAAAAAAAAAAAAAAAAAAAAAAAAAAAAAAAAAAAAAAAAAAAAAAAAAAAAAAAAAAAAAAAAAAAAAAAAAAAAAAAAAAAAAAAAAAAAAAAAAAAAAAAAAAAAAAAAAAAAAAAAAAAAAAAAAAAAAAAAAAAAAAAAAAAAAAAAAAAAAAAAAAAAAAAAAAAAAAAAAAAAAAAAAAAAAAAAAAAAAAAAAAAAAAAAAAAAAAAAAAAAAAAAAAAAAAAAAAAAAAAAAAAAAAAAAAAAAAAAAAAAAAAAAAAAAAAAAAAAAAAAAAAAAAAAAAAAAAAAAAAAAAAAAAAAAAAAAAAAAAAAAAAAAAAAAAAAAAAAAAAAAAAAAAAAAAAAAAAAAAAAAAAAAAAAAAAAAAAAAAAAAAAAAAAAAAAAAAAAAAAAAAAAAAAAAAAAAAAAAAAAAAAAAAAAAAAAAAAAAAAAAAAAAAAAAAAAAAAAAAAAAAAAAAAAAAAAAAAAAAAAAAAAAAAAAAAAAAAAAAAAAAAAAAAAAAAAAAAAAAAAAAAAAAAAAAAAAAAAAAAAAAAAAAAAAAAAAAAAAAAAAAAAAAAAAAAAAAAAAAAAAAAAAAAAAAAAAAAAAAAAAAAAAAAAAAAAAAAAAAAAAAAAAAAAAAAAAAAAAAAAAAAAAAAAAAAAAAAAAAAAAAAAAAAAAAAAAAAAAAAAAAAAAAAAAAAAAAAAAAAAAAAAAAAAAAAAAAAAAAAAAAAAAAAAAAAAAAAAAAAAAAAAAAAAAAAAAAAAAAAAAAAAAAAAAAAAAAAAAAAAAAAAAAAAAAAAAAAAAAAAAAAAAAAAAAAAAAAAAAAAAAAAAAAAAAAAAAAAAAAAAAAAAAAAAAAAAAAAAAAAAAAAAAAAAAAAAAAAAAAAAAAAAAAAAAAAAAAAAAAAAAAAAAAAAAAAAAAAAAAAAAAAAAAAAAAAAAAAAAAAAAAAAAAAAAAAAAAAAAAAAAAAAAAAAAAAAAAAAAAAAAAAAAAAAAAAAAAAAAAAAAAAAAAAAAAAAAAAAAAAAAAAAAAAAAAAAAAAAAAAAAAAAAAAAAAAAAAAAAAAAAAAAAAAAAAAAAAAAAAAAAAAAAAAAAAAAAAAAAAAAAAAAAAAAAAAAAAAAAAAAAAAAAAAAAAAAAAAAAAAAAAAAAAAAAAAAAAAAAAAAAAAAAAAAAAAAAAAAAAAAAAAAAAAAAAAAAAAAAAAAAAAAAAAAAAAAAAAAAAAAAAAAAAAAAAAAAAAAAAAAAAAAAAAAAAAAAAAAAAAAAAAAAAAAAAAAAAAAAAAAAAAAAAAAAAAAAAAAAAAAAAAAAAAAAAAAAAAAAAAAAAAAAAAAAAAAAAAAAAAAAAAAAAAAAAAAAAAAAAAAAAAAAAAAAAAAAAAAAAAAAAAAAAAAAAAAAAAAAAAAAAAAAAAAAAAAAAAAAAAAAAAAAAAAAAAAAAAAAAAAAAAAAAAAAAAAAAAAAAAAAAAAAAAAAAAAAAAAAAAAAAAAAAAAAAAAAAAAAAAAAAAAAAAAAAAAAAAAAAAAAAAAAAAAAAAAAAAAAAAAAAAAAAAAAAAAAAAAAAAAAAAAAAAAAAAAAAAAAAAAAAAAAAAAAAAAAAAAAAAAAAAAAAAAAAAAAAAAAAAAAAAAAAAAAAAAAAAAAAAAAAAAAAAAAAAAAAAAAAAAAAAAAAAAAAAAAAAAAAAAAAAAAAAAAAAAAAAAAAAAAAAAAAAAAAAAAAAAAAAAAAAAAAAAAAAAAAAAAAAAAAAAAAAAAAAAAAAAAAAAAAAAAAAAAAAAAAAAAAAAAAAAAAAAAAAAAAAAAAAAAAAAAAAAAAAAAAAAAAAAAAAAAAAAAAAAAAAAAAAAAAAAAAAAAAAAAAAAAAAAAAAAAAAAAAAAAAAAAAAAAAAAAAAAAAAAAAAAAAAAAAAAAAAAAAAAAAAAAAAAAAAAAAAAAAAAAAAAAAAAAAAAAAAAAAAAAAAAAAAAAAAAAAAAAAAAAAAAAAAAAAAAAAAAAAAAAAAAAAAAAAAAAAAAAAAAAAAAAAAAAAAAAAAAAAAAAAAAAAAAAAAAAAAAAAAAAAAAAAAAAAAAAAAAAAAAAAAAAAAAAAAAAAAAAAAAAAAAAAAAAAAAAAAAAAAAAAAAAAAAAAAAAAAAAAAAAAAAAAAAAAAAAAAAAAAAAAAAAAAAAAAAAAAAAAAAAAAAAAAAAAAAAAAAAAAAAAAAAAAAAAAAAAAAAAAAAAAAAAAAAAAAAAAAAAAAAAAAAAAAAAAAAAAAAAAAAAAAAAAAAAAAAAAAAAAAAAAAAAAAAAAAAAAAAAAAAAAAAAAAAAAAAAAAAAAAAAAAAAAAAAAAAAAAAAAAAAAAAAAAAAAAAAAAAAAAAAAAAAAAAAAAAAAAAAAAAAAAAAAAAAAAAAAAAAAAAAAAAAAAAAAAAAAAAAAAAAAAAAAAAAAAAAAAAAAAAAAAAAAAAAAAAAAAAAAAAAAAAAAAAAAAAAAAAAAAAAAAAAAAAAAAAAAAAAAAAAAAAAAAAAAAAAAAAAAAAAAAAAAAAAAAAAAAAAAAAAAAAAAAAAAAAAAAAAAAAAAAAAAAAAAAAAAAAAAAAAAAAAAAAAAAAAAAAAAAAAAAAAAAAAAAAAAAAAAAAAAAAAAAAAAAAAAAAAAAAAAAAAAAAAAAAAAAAAAAAAAAAAAAAAAAAAAAAAAAAAAAAAAAAAAAAAAAAAAAAAAAAAAAAAAAAAAAAAAAAAAAAAAAAAAAAAAAAAAAAAAAAAAAAAAAAAAAAAAAAAAAAAAAAAAAAAAAAAAAAAAAAAAAAAAAAAAAAAAAAAAAAAAAAAAAAAAAAAAAAAAAAAAAAAAAAAAAAAAAAAAAAAAAAAAAAAAAAAAAAAAAAAAAAAAAAAAAAAAAAAAAAAAAAAAAAAAAAAAAAAAAAAAAAAAAAAAAAAAAAAAAAAAAAAAAAAAAAAAAAAAAAAAAAAAAAAAAAAAAAAAAAAAAAAAAAAAAAAAAAAAAAAAAAAAAAAAAAAAAAAAAAAAAAAAAAAAAAAAAAAAAAAAAAAAAAAAAAAAAAAAAAAAAAAAAAAAAAAAAAAAAAAAAAAAAAAAAAAAAAAAAAAAAAAAAAAAAAAAAAAAAAAAAAAAAAAAAAAAAAAAAAAAAAAAAAAAAAAAAAAAAAAAAAAAAAAAAAAAAAAAAAAAAAAAAAAAAAAAAAAAAAAAAAAAAAAAAAAAAAAAAAAAAAAAAAAAAAAAAAAAAAAAAAAAAAAAAAAAAAAAAAAAAAAAAAAAAAAAAAAAAAAAAAAAAAAAAAAAAAAAAAAAAAAAAAAAAAAAAAAAAAAAAAAAAAAAAAAAAAAAAAAAAAAAAAAAAAAAAAAAAAAAAAAAAAAAAAAAAAAAAAAAAAAAAAAAAAAAAAAAAAAAAAAAAAAAAAAAAAAAAAAAAAAAAAAAAAAAAAAAAAAAAAAAAAAAAAAAAAAAAAAAAAAAAAAAAAAAAAAAAAAAAAAAAAAAAAAAAAAAAAAAAAAAAAAAAAAAAAAAAAAAAAAAAAAAAAAAAAAAAAAAAAAAAAAAAAAAAAAAAAAAAAAAAAAAAAAAAAAAAAAAAAAAAAAAAAAAAAAAAAAAAAAAAAAAAAAAAAAAAAAAAAAAAAAAAAAAAAAAAAAAAAAAAAAAAAAAAAAAAAAAAAAAAAAAAAAAAAAAAAAAAAAAAAAAAAAAAAAAAAAAAAAAAAAAAAAAAAAAAAAAAAAAAAAAAAAAAAAAAAAAAAAAAAAAAAAAAAAAAAAAAAAAAAAAAAAAAAAAAAAAAAAAAAAAAAAAAAAAAAAAAAAAAAAAAAAAAAAAAAAAAAAAAAAAAAAAAAAAAAAAAAAAAAAAAAAAAAAAAAAAAAAAAAAAAAAAAAAAAAAAAAAAAAAAAAAAAAAAAAAAAAAAAAAAAAAAAAAAAAAAAAAAAAAAAAAAAAAAAAAAAAAAAAAAAAAAAAAAAAAAAAAAAAAAAAAAAAAAAAAAAAAAAAAAAAAAAAAAAAAAAAAAAAAAAAAAAAAAAAAAAAAAAAAAAAAAAAAAAAAAAAAAAAAAAAAAAAAAAAAAAAAAAAAAAAAAAAAAAAAAAAAAAAAAAAAAAAAAAAAAAAAAAAAAAAAAAAAAAAAAAAAAAAAAAAAAAAAAAAAAAAAAAAAAAAAAAAAAAAAAAAAAAAAAAAAAAAAAAAAAAAAAAAAAAAAAAAAAAAAAAAAAAAAAAAAAAAAAAAAAAAAAAAAAAAAAAAAAAAAAAAAAAAAAAAAAAAAAAAAAAAAAAAAAAAAAAAAAAAAAAAAAAAAAAAAAAAAAAAAAAAAAAAAAAAAAAAAAAAAAAAAAAAAAAAAAAAAAAAAAAAAAAAAAAAAAAAAAAAAAAAAAAAAAAAAAAAAAAAAAAAAAAAAAAAAAAAAAAAAAAAAAAAAAAAAAAAAAAAAAAAAAAAAAAAAAAAAAAAAAAAAAAAAAAAAAAAAAAAAAAAAAAAAAAAAAAAAAAAAAAAAAAAAAAAAAAAAAAAAAAAAAAAAAAAAAAAAAAAAAAAAAAAAAAAAAAAAAAAAAAAAAAAAAAAAAAAAAAAAAAAAAAAAAAAAAAAAAAAAAAAAAAAAAAAAAAAAAAAAAAAAAAAAAAAAAAAAAAAAAAAAAAAAAAAAAAAAAAAAAAAAAAAAAAAAAAAAAAAAAAAAAAAAAAAAAAAAAAAAAAAAAAAAAAAAAAAAAAAAAAAAAAAAAAAAAAAAAAAAAAAAAAAAAAAAAAAAAAAAAAAAAAAAAAAAAAAAAAAAAAAAAAAAAAAAAAAAAAAAAAAAAAAAAAAAAAAAAAAAAAAAAAAAAAAAAAAAAAAAAAAAAAAAAAAAAAAAAAAAAAAAAAAAAAAAAAAAAAAAAAAAAAAAAAAAAAAAAAAAAAAAAAAAAAAAAAAAAAAAAAAAAAAAAAAAAAAAAAAAAAAAAAAAAAAAAAAAAAAAAAAAAAAAAAAAAAAAAAAAAAAAAAAAAAAAAAAAAAAAAAAAAAAAAAAAAAAAAAAAAAAAAAAAAAAAAAAAAAAAAAAAAAAAAAAAAAAAAAAAAAAAAAAAAAAAAAAAAAAAAAAAAAAAAAAAAAAAAAAAAAAAAAAAAAAAAAAAAAAAAAAAAAAAAAAAAAAAAAAAAAAAAAAAAAAAAAAAAAAAAAAAAAAAAAAAAAAAAAAAAAAAAAAAAAAAAAAAAAAAAAAAAAAAAAAAAAAAAAAAAAAAAAAAAAAAAAAAAAAAAAAAAAAAAAAAAAAAAAAAAAAAAAAAAAAAAAAAAAAAAAAAAAAAAAAAAAAAAAAAAAAAAAAAAAAAAAAAAAAAAAAAAAAAAAAAAAAAAAAAAAAAAAAAAAAAAAAAAAAAAAAAAAAAAAAAAAAAAAAAAAAAAAAAAAAAAAAAAAAAAAAAAAAAAAAAAAAAAAAAAAAAAAAAAAAAAAAAAAAAAAAAAAAAAAAAAAAAAAAAAAAAAAAAAAAAAAAAAAAAAAAAAAAAAAAAAAAAAAAAAAAAAAAAAAAAAAAAAAAAAAAAAAAAAAAAAAAAAAAAAAAAAAAAAAAAAAAAAAAAAAAAAAAAAAAAAAAAAAAAAAAAAAAAAAAAAAAAAAAAAAAAAAAAAAAAAAAAAAAAAAAAAAAAAAAAAAAAAAAAAAAAAAAAAAAAAAAAAAAAAAAAAAAAAAAAAAAAAAAAAAAAAAAAAAAAAAAAAAAAAAAAAAAAAAAAAAAAAAAAAAAAAAAAAAAAAAAAAAAAAAAAAAAAAAAAAAAAAAAAAAAAAAAAAAAAAAAAAAAAAAAAAAAAAAAAAAAAAAAAAAAAAAAAAAAAAAAAAAAAAAAAAAAAAAAAAAAAAAAAAAAAAAAAAAAAAAAAAAAAAAAAAAAAAAAAAAAAAAAAAAAAAAAAAAAAAAAAAAAAAAAAAAAAAAAAAAAAAAAAAAAAAAAAAAAAAAAAAAAAAAAAAAAAAAAAAAAAAAAAAAAAAAAAAAAAAAAAAAAAAAAAAAAAAAAAAAAAAAAAAAAAAAAAAAAAAAAAAAAAAAAAAAAAAAAAAAAAAAAAAAAAAAAAAAAAAAAAAAAAAAAAAAAAAAAAAAAAAAAAAAAAAAAAAAAAAAAAAAAAAAAAAAAAAAAAAAAAAAAAAAAAAAAAAAAAAAAAAAAAAAAAAAAAAAAAAAAAAAAAAAAAAAAAAAAAAAAAAAAAAAAAAAAAAAAAAAAAAAAAAAAAAAAAAAAAAAAAAAAAAAAAAAAAAAAAAAAAAAAAAAAAAAAAAAAAAAAAAAAAAAAAAAAAAAAAAAAAAAAAAAAAAAAAAAAAAAAAAAAAAAAAAAAAAAAAAAAAAAAAAAAAAAAAAAAAAAAAAAAAAAAAAAAAAAAAAAAAAAAAAAAAAAAAAAAAAAAAAAAAAAAAAAAAAAAAAAAAAAAAAAAAAAAAAAAAAAAAAAAAAAAAAAAAAAAAAAAAAAAAAAAAAAAAAAAAAAAAAAAAAAAAAAAAAAAAAAAAAAAAAAAAAAAAAAAAAAAAAAAAAAAAAAAAAAAAAAAAAAAAAAAAAAAAAAAAAAAAAAAAAAAAAAAAAAAAAAAAAAAAAAAAAAAAAAAAAAAAAAAAAAAAAAAAAAAAAAAAAAAAAAAAAAAAAAAAAAAAAAAAAAAAAAAAAAAAAAAAAAAAAAAAAAAAAAAAAAAAAAAAAAAAAAAAAAAAAAAAAAAAAAAAAAAAAAAAAAAAAAAAAAAAAAAAAAAAAAAAAAAAAAAAAAAAAAAAAAAAAAAAAAAAAAAAAAAAAAAAAAAAAAAAAAAAAAAAAAAAAAAAAAAAAAAAAAAAAAAAAAAAAAAAAAAAAAAAAAAAAAAAAAAAAAAAAAAAAAAAAAAAAAAAAAAAAAAAAAAAAAAAAAAAAAAAAAAAAAAAAAAAAAAAAAAAAAAAAAAAAAAAAAAAAAAAAAAAAAAAAAAAAAAAAAAAAAAAAAAAAAAAAAAAAAAAAAAAAAAAAAAAAAAAAAAAAAAAAAAAAAAAAAAAAAAAAAAAAAAAAAAAAAAAAAAAAAAAAAAAAAAAAAAAAAAAAAAAAAAAAAAAAAAAAAAAAAAAAAAAAAAAAAAAAAAAAAAAAAAAAAAAAAAAAAAAAAAAAAAAAAAAAAAAAAAAAAAAAAAAAAAAAAAAAAAAAAAAAAAAAAAAAAAAAAAAAAAAAAAAAAAAAAAAAAAAAAAAAAAAAAAAAAAAAAAAAAAAAAAAAAAAAAAAAAAAAAAAAAAAAAAAAAAAAAAAAAAAAAAAAAAAAAAAAAAAAAAAAAAAAAAAAAAAAAAAAAAAAAAAAAAAAAAAAAAAAAAAAAAAAAAAAAAAAAAAAAAAAAAAAAAAAAAAAAAAAAAAAAAAAAAAAAAAAAAAAAAAAAAAAAAAAAAAAAAAAAAAAAAAAAAAAAAAAAAAAAAAAAAAAAAAAAAAAAAAAAAAAAAAAAAAAAAAAAAAAAAAAAAAAAAAAAAAAAAAAAAAAAAAAAAAAAAAAAAAAAAAAAAAAAAAAAAAAAAAAAAAAAAAAAAAAAAAAAAAAAAAAAAAAAAAAAAAAAAAAAAAAAAAAAAAAAAAAAAAAAAAAAAAAAAAAAAAAAAAAAAAAAAAAAAAAAAAAAAAAAAAAAAAAAAAAAAAAAAAAAAAAAAAAAAAAAAAAAAAAAAAAAAAAAAAAAAAAAAAAAAAAAAAAAAAAAAAAAAAAAAAAAAAAAAAAAAAAAAAAAAAAAAAAAAAAAAAAAAAAAAAAAAAAAAAAAAAAAAAAAAAAAAAAAAAAAAAAAAAAAAAAAAAAAAAAAAAAAAAAAAAAAAAAAAAAAAAAAAAAAAAAAAAAAAAAAAAAAAAAAAAAAAAAAAAAAAAAAAAAAAAAAAAAAAAAAAAAAAAAAAAAAAAAAAAAAAAAAAAAAAAAAAAAAAAAAAAAAAAAAAAAAAAAAAAAAAAAAAAAAAAAAAAAAAAAAAAAAAAAAAAAAAAAAAAAAAAAAAAAAAAAAAAAAAAAAAAAAAAAAAAAAAAAAAAAAAAAAAAAAAAAAAAAAAAAAAAAAAAAAAAAAAAAAAAAAAAAAAAAAAAAAAAAAAAAAAAAAAAAAAAAAAAAAAAAAAAAAAAAAAAAAAAAAAAAAAAAAAAAAAAAAAAAAAAAAAAAAAAAAAAAAAAAAAAAAAAAAAAAAAAAAAAAAAAAAAAAAAAAAAAAAAAAAAAAAAAAAAAAAAAAAAAAAAAAAAAAAAAAAAAAAAAAAAAAAAAAAAAAAAAAAAAAAAAAAAAAAAAAAAAAAAAAAAAAAAAAAAAAAAAAAAAAAAAAAAAAAAAAAAAAAAAAAAAAAAAAAAAAAAAAAAAAAAAAAAAAAAAAAAAAAAAAAAAAAAAAAAAAAAAAAAAAAAAAAAAAAAAAAAAAAAAAAAAAAAAAAAAAAAAAAAAAAAAAAAAAAAAAAAAAAAAAAAAAAAAAAAAAAAAAAAAAAAAAAAAAAAAAAAAAAAAAAAAAAAAAAAAAAAAAAAAAAAAAAAAAAAAAAAAAAAAAAAAAAAAAAAAAAAAAAAAAAAAAAAAAAAAAAAAAAAAAAAAAAAAAAAAAAAAAAAAAAAAAAAAAAAAAAAAAAAAAAAAAAAAAAAAAAAAAAAAAAAAAAAAAAAAAAAAAAAAAAAAAAAAAAAAAAAAAAAAAAAAAAAAAAAAAAAAAAAAAAAAAAAAAAAAAAAAAAAAAAAAAAAAAAAAAAAAAAAAAAAAAAAAAAAAAAAAAAAAAAAAAAAAAAAAAAAAAAAAAAAAAAAAAAAAAAAAAAAAAAAAAAAAAAAAAAAAAAAAAAAAAAAAAAAAAAAAAAAAAAAAAAAAAAAAAAAAAAAAAAAAAAAAAAAAAAAAAAAAAAAAAAAAAAAAAAAAAAAAAAAAAAAAAAAAAAAAAAAAAAAAAAAAAAAAAAAAAAAAAAAAAAAAAAAAAAAAAAAAAAAAAAAAAAAAAAAAAAAAAAAAAAAAAAAAAAAAAAAAAAAAAAAAAAAAAAAAAAAAAAAAAAAAAAAAAAAAAAAAAAAAAAAAAAAAAAAAAAAAAAAAAAAAAAAAAAAAAAAAAAAAAAAAAAAAAAAAAAAAAAAAAAAAAAAAAAAAAAAAAAAAAAAAAAAAAAAAAAAAAAAAAAAAAAAAAAAAAAAAAAAAAAAAAAAAAAAAAAAAAAAAAAAAAAAAAAAAAAAAAAAAAAAAAAAAAAAAAAAAAAAAAAAAAAAAAAAAAAAAAAAAAAAAAAAAAAAAAAAAAAAAAAAAAAAAAAAAAAAAAAAAAAAAAAAAAAAAAAAAAAAAAAAAAAAAAAAAAAAAAAAAAAAAAAAAAAAAAAAAAAAAAAAAAAAAAAAAAAAAAAAAAAAAAAAAAAAAAAAAAAAAAAAAAAAAAAAAAAAAAAAAAAAAAAAAAAAAAAAAAAAAAAAAAAAAAAAAAAAAAAAAAAAAAAAAAAAAAAAAAAAAAAAAAAAAAAAAAAAAAAAAAAAAAAAAAAAAAAAAAAAAAAAAAAAAAAAAAAAAAAAAAAAAAAAAAAAAAAAAAAAAAAAAAAAAAAAAAAAAAAAAAAAAAAAAAAAAAAAAAAAAAAAAAAAAAAAAAAAAAAAAAAAAAAAAAAAAAAAAAAAAAAAAAAAAAAAAAAAAAAAAAAAAAAAAAAAAAAAAAAAAAAAAAAAAAAAAAAAAAAAAAAAAAAAAAAAAAAAAAAAAAAAAAAAAAAAAAAAAAAAAAAAAAAAAAAAAAAAAAAAAAAAAAAAAAAAAAAAAAAAAAAAAAAAAAAAAAAAAAAAAAAAAAAAAAAAAAAAAAAAAAAAAAAAAAAAAAAAAAAAAAAAAAAAAAAAAAAAAAAAAAAAAAAAAAAAAAAAAAAAAAAAAAAAAAAAAAAAAAAAAAAAAAAAAAAAAAAAAAAAAAAAAAAAAAAAAAAAAAAAAAAAAAAAAAAAAAAAAAAAAAAAAAAAAAAAAAAAAAAAAAAAAAAAAAAAAAAAAAAAAAAAAAAAAAAAAAAAAAAAAAAAAAAAAAAAAAAAAAAAAAAAAAAAAAAAAAAAAAAAAAAAAAAAAAAAAAAAAAAAAAAAAAAAAAAAAAAAAAAAAAAAAAAAAAAAAAAAAAAAAAAAAAAAAAAAAAAAAAAAAAAAAAAAAAAAAAAAAAAAAAAAAAAAAAAAAAAAAAAAAAAAAAAAAAAAAAAAAAAAAAAAAAAAAAAAAAAAAAAAAAAAAAAAAAAAAAAAAAAAAAAAAAAAAAAAAAAAAAAAAAAAAAAAAAAAAAAAAAAAAAAAAAAAAAAAAAAAAAAAAAAAAAAAAAAAAAAAAAAAAAAAAAAAAAAAAAAAAAAAAAAAAAAAAAAAAAAAAAAAAAAAAAAAAAAAAAAAAAAAAAAAAAAAAAAAAAAAAAAAAAAAAAAAAAAAAAAAAAAAAAAAAAAAAAAAAAAAAAAAAAAAAAAAAAAAAAAAAAAAAAAAAAAAAAAAAAAAAAAAAAAAAAAAAAAAAAAAAAAAAAAAAAAAAAAAAAAAAAAAAAAAAAAAAAAAAAAAAAAAAAAAAAAAAAAAAAAAAAAAAAAAAAAAAAAAAAAAAAAAAAAAAAAAAAAAAAAAAAAAAAAAAAAAAAAAAAAAAAAAAAAAAAAAAAAAAAAAAAAAAAAAAAAAAAAAAAAAAAAAAAAAAAAAAAAAAAAAAAAAAAAAAAAAAAAAAAAAAAAAAAAAAAAAAAAAAAAAAAAAAAAAAAAAAAAAAAAAAAAAAAAAAAAAAAAAAAAAAAAAAAAAAAAAAAAAAAAAAAAAAAAAAAAAAAAAAAAAAAAAAAAAAAAAAAAAAAAAAAAAAAAAAAAAAAAAAAAAAAAAAAAAAAAAAAAAAAAAAAAAAAAAAAAAAAAAAAAAAAAAAAAAAAAAAAAAAAAAAAAAAAAAAAAAAAAAAAAAAAAAAAAAAAAAAAAAAAAAAAAAAAAAAAAAAAAAAAAAAAAAAAAAAAAAAAAAAAAAAAAAAAAAAAAAAAAAAAAAAAAAAAAAAAAAAAAAAAAAAAAAAAAAAAAAAAAAAAAAAAAAAAAAAAAAAAAAAAAAAAAAAAAAAAAAAAAAAAAAAAAAAAAAAAAAAAAAAAAAAAAAAAAAAAAAAAAAAAAAAAAAAAAAAAAAAAAAAAAAAAAAAAAAAAAAAAAAAAAAAAAAAAAAAAAAAAAAAAAAAAAAAAAAAAAAAAAAAAAAAAAAAAAAAAAAAAAAAAAAAAAAAAAAAAAAAAAAAAAAAAAAAAAAAAAAAAAAAAAAAAAAAAAAAAAAAAAAAAAAAAAAAAAAAAAAAAAAAAAAAAAAAAAAAAAAAAAAAAAAAAAAAAAAAAAAAAAAAAAAAAAAAAAAAAAAAAAAAAAAAAAAAAAAAAAAAAAAAAAAAAAAAAAAAAAAAAAAAAAAAAAAAAAAAAAAAAAAAAAAAAAAAAAAAAAAAAAAAAAAAAAAAAAAAAAAAAAAAAAAAAAAAAAAAAAAAAAAAAAAAAAAAAAAAAAAAAAAAAAAAAAAAAAAAAAAAAAAAAAAAAAAAAAAAAAAAAAAAAAAAAAAAAAAAAAAAAAAAAAAAAAAAAAAAAAAAAAAAAAAAAAAAAAAAAAAP//AAD//wAA//8AAP//AAD//wAA//8AAP//AAD//wAAAAD//wAA//8AAP//AAD//wAA//8AAP//AAD//wAA//8AAP//AAAAAP//AAD//wAA//8AAP//AAD//wAAAQAAAAEAAAABAAAAAQAAAAEAAAABAAAAAQAAAAEAAAABAAAAAQAAAP//AAD//wAAAAD//wAA//8AAP//AAD//wAA//8AAP//AAD//wAAAAABAAAAAQAAAAEAAAABAAAAAQAAAAEAAQABAAAAAQAAAAAAAQAAAAEAAwADAAEAAQADAAMAAQABAAAAAAABAAAA/////wAAAQAAAP///f////3///8AAAEAAAD/////AAD//wAA//8AAAEAAQAAAAEAAQAAAP//AAD/////AAAAAP//AAD//wAA/f/9/wAAAAD//wAA//8BAAMAAAD//wEA//8BAAUAAAAAAAAA//8AAP//AAAAAAAAAwADAPv/+/8AAAMAAQD///f/9////wMAAwAAAAAAAwABAPv//f8AAAAA/f/7////AAD/////AQAHAAEA+f/z//n//f8AAAAA9//1////AQAAAAAAAAD9/////f////3//f8FAAEA+/////n/+/8FAAEA/f8AAP//AQAAAPf/9f/5//v///8AAAMAAwD7//3/+//1////DQAFAP3///8AAAcADQADAP//AwAAAPn//f8DAAkABwADAP//+//9/wEAAwADAP3/8//7/wUAAwAHAAMAAQAPAAcACQAgAB4AGwAeABMADwAXABkAIgAeABcAFwATABcAJgA0AEEAOgAqACgAMABXAHsAhQCoALcAgwBiAHcAywAoASYB+wD5AP8AEAEtATsBVAFYASgBCQEWASQBTAGaAacBaQFKAUoBQwE7AQUBxwDYAOYAywCmAHQAdACoANQA2gCaAHYAkwBoAE0AkwDgAFABigESAZ4AiwDSAGkBpwF/AUoBLQFvAZoBOwEcATUBBQHDAG4AXgC/AK4ALACn/wX/pP6y/uL+Df/Y/kP+p/0E/cz8Cv0+/WX9M/1r/MX7qPv/+6v8If0G/Zb8OfxS/Mb8Ov2n/fr9Pv50/lX+BP70/T7+zf5e/3//Nf/c/qD+dP5g/oH+y/7//sH+7v35/HX8gfzc/AL9p/z/+2T7/vq8+nr6RvpM+nT6ePon+p/5UPln+cL5Ovqn+uz6HftD+1r7mPtH/Fn9f/5U/5L/if/U/7cA7wEVA+wDagTDBBAFTAWxBYkGpgdvCIYIAQiFB8kHqwhuCZsJNAmECPUHvwfJB/0HGAicB2EG6wTeA4sDtAOgA7YCHgFs/x3+dP1C/dL8tfsh+pj4n/dZ9z73tvbB9bj05/OK85DzlfN08zHz3PK78gDzfPPh8y70dPTX9JD1gvZJ99X3Pfi3+KH5/Poq/Mz8Sv0m/pT/MwEtAkICPALhAh4EnQXwBp4HtweWB40HGAhqCbAK+QqFChUKKgrFClQLYgtiC68LvQs3C8sKJgszDDQN9AwpC2EJ+AiyCcEKRQuLCvwIfwc0BjUF7wQKBbMElwOCAaT+YPy9+9b7WvvG+Q/3R/Sl8pzxL/C97pXtKewl6pHn8+Sk4yDkx+Qi5LjiceGV4I/gP+Eh4pPjguXX5ujn5elp7M7uTfEu9Nf3RfwsADwCegMGBv4JLg7kER4U7xQlFgUYABqGHKwetR4jHZ4bMBscHIkdix1cG9AYBRdKFV4UWhSTEycSOBANDXQK9glVCmYKeglFB78EiQMvBBAF/QRtBN8C4gBVAF4AfwBlAVwBv/8Z/tb8KvwO/Gb7gvm69qj02fO/8g3x0O7k6/Dp1OjA5ujkf+Q05BHjxeDT3YvcMd4J4c7i9uJU4o7iB+VI6WXtE/Ax8lb1WPlX/fEALARtCOINLxK1FKkWLRntHH4gWiKSIvshniL2I1kjuyFnIFgfrR/xHtMa4Rb1FJ0ToRIREVQO3QvuCYsHBAXuAyoERwRgBNoDkgGJ/1r//f8iASkCfQH1/1z/w/7I/T7+S/8D/wf+w/uq+MH3GviR9yX2BvOl7+zt6+xI7K7qK+hR5xXmbuN74YLfut9h4sfhAN863ZXcW98P443kBOY95yXpiuzo7oPylfe9++wAFASSBL4IpA7+E1QZOBoKGvodECLqJAomMiQAI3gjUSQLJaUj4SDCHaQaxBkGGXgWTRRSEYUNdQvTCVYIhQdrBacCXgFgAXUBFAGWAOv/b/9L/4X+cP6H/5L/r/8HAHj+eP1h/Qf8Bfyv/Dz7QPpU+SX2gvMQ8xTzEvJl77fr5+hb6Tnrlen+5afinN5v3m/iHuRK41ngW9x23SniN+Xy5gPoU+o07uHwQPPY9WP5v/8OBRIIGgv8DIcQTBbvGFMa6RwSH40h+SGtH3EfVyEEI/4i/B/AHEMbtBq4GkgZFBaLEwES8hCbD5UNLQx7C64KPgkgBzYGxwbsBmYGVAXNA+4C+gIVAzUCHgEcAeQApv++/bn7dPsQ/Jf6Zve09EL0fvQa8gHvl+xO6YnnJud/5T/lGuV04Gvbh9pD20LcGd312uDX8djG25/cKt5D4cHjkeYl6iPtk/A19oH7Ov5dApYI0QyLESQXZRkrHEshxiMYJVMnPyjzKDgqoylhJ5smUydzJkskrCHbHSAbPBo1GU8X4RO8EPEOywzQC6YKzAfHB94HtQSRA8UDUQOBBI4EoQLYAGT/OwC+AUwBfwBf/j/8Bv3M/DT67/iJ+KX2E/R18l/w0+2l7HzpjeSu4zPlseUD5JzdJNe41k/aH92e2gnW/dbH2d/Zx9la2ojemebu6nDqm+qV7bLzC/sLAe4F6gkXDW4QgBOdFooc7iM2Jz0maCROI8ol2yoJLDcp1SaoJTMlOCSFIZ4eaR3fHS4d3BjuEycSHhKvEbIQJA7oCgUK7AlhCMkHjgcpBowFgQRQAi8BagAwABkAwP3F+0n7Y/pZ+nX5afYq9HXyXvF78VPwGu5B6z/nkuRF5EjlBOa55HHhi9zt2BvZ7tlW24Xdc9vB19TX3dm83Ozfr+K15bvoY+z97hDwQ/Vk/JEALAaYC+oMgg+wFCUZIR3jIEAj5SPmJGUmJSYtJ+sp7yhCJpAluiTsI6UjLSK8H1kd0Bv7Gh8a5RgrFhMT0hEPERMQmw8MDwcOJwyXCR4I5geLB58GLwXuAuP/Z/1z/G/8lPyB+zL4PPTa8TLx3/DE7yHto+mR507muuPB4Azfm9/g4O/eFNua1xbU4tNJ1qDWHtev10rVydOd1Q/ZW91/4bPkY+bn6KbuHfOM9ZX6UwDwBVMNShL6EkcU1BiYHgYkuyiQKXQn+ifBKKwoIixyLiIsGikDJSIifCPBJAkklSEhHSkZchYIFlsXghUaElcQGA7LDLwMIgtgCvkKlwnXBqcEYAN4AlgBSwBS/wb+3PsU+UL3a/Yv9rP1zfHj7ODr3Ovy6sTp++Rb3/Xe5uDW4QTi3N7/13LSp9KB1/naKNq71pHSIdJf1vLYzdrb3w/jdeQi6BHqAett8DD4r/+xBZwHpgc/CoAQMxgNHmIhjCIsIkAjkiazKUMrgytkK0oqEyjGJmUmeia6JkEliCJ1H0YcxxqIGfkXphetFZkSERFqDg4MoQwuDbYMZAujCHYFtgLKAXYCcgJKAZn+Qfux+ML2I/f290P1gfHi7RbrCuxl7JDoxeN44AbgoOCg4Lrg09xs1vfTuNJi02vYgtnv1JbRptDj0YLV3dk03YzfSuMv5sDlSejI79v2+/xOAjcFJwj8DEER+hPDGDMgHCWCJkIntSbSJUMotSwPL5cuYCz9KJAmrSatJncllCV1JVUhZhsoGGwXXhf7F3YX5hOjD10N5Qw4DTINoQvICM0GzAV8A1gBGAEuAOX9mPvO+dj4QPcH9ULzyfAM7yzuNeue6PvnoeYs5JHgB95E397gX9+j2bbSStLs1obZndgt1GrQ/tHA1dfYGtpo2gXe0+JI5uPpyOt97vn0BfuNAPgFlQnqDaYRnRNZF1gcaSL4J80nZCXeJWcntylzLMwtsi1bK0YnESRlI8MlJigpJkggqBr3F5oYCxukGukVUhJqEXYQLBDbD9wNLwtxCP8GcgZCBYMEMQIC/ib8C/tz+cH4iPau8wHy+O8F7lbrd+i953bm7ONq4RTf3d9k4QrfQdoQ1IDRv9Z/28faA9dn0evOWdI32FXdNd9637jgDuK85bXrl/D19Q37rv2vAcUHbQynDwgTPhebHAEikSQTJC4kpCXPJ9orti5WLcgq4iitJmYloSYoKL4mOSOoHlAZnhePGsEbEhlQFa0Rbw+ZDzIQiA99DiENQwo1BzIG8AbRBkEE4QGHAJn9Tfsq/KX8/Pka9SbxEvAC8Hnvwuz/5xblceJG3/bg/ePk4QDc+9Rt0WrTstaG2GHWStGHz1jRpNS91zfYXtqr38HjXOc66dnpbe+49ov7SgE1B30Lqw7cEPYTnBjLHhol2SbWJTUm6SbMKUQuXS57KwwqPykwKFsneSZoJSok6CCHGyUZnxowGnYXWBW1Ep0P9w4GEMEOBgzPCv4Iewc3CLQF/wC5AHsBTf8C/Xn8x/sR+Ev0RvO38TjxrPHw7GTn5eXe47HhUuJs5J7kkN/t2HbVBNVp2LPa09aY09jTsNNM1PjVmtco2mLdQ+GW5GHmzugO7ALwyvUN/FkC2gfRCb0KmA7NFKob4yDBIvMi/iMzJmAoWSpWLNYskStMKg4pwieZJ50n6yUzI4Ig9B0gHPYajhmsF54V4ROAEtMQMQ9tDvANnwxNChwIfgZ1BGcCQwFgAF7/h/4E/U759PTA8+b0+/Rt8j7sROYj5ibooeWF4DPft+GU4dTdTdnU03zSCdcz2FbVmNMz0Q/Q8tIm1tTXA9qS3iPiHuLQ5OrqL++/9B37bv7EAj0IBAydEBYWbhp+HYAgUySrJg8oiCpwK0srCyzsK5crVSvUKbwnrSUgJegkEiL9Hhgc7RjaGBIZiBbfE0ERTg+/DnUO4Q5RDeIJpwidBvMDZARfA1MAXP/Y/kj9ofr096H2YvWi9Lnyi+2g6mjqUugV5t/ic95r3m/iOOR53gnUqM8+007YF9ov1fzOxs7g0F7T4NZC2OjZNd4p4urkfuYr6RXwBfiJ/i4EhQd0CuUOEROQGN0fTyVcKCAp9CftKOUsVDBdMfEvhy6bLsQstShSJvUl9yXBJAkhVByQGF8WcRVRFMYSwRDeDSMMEAxxCx0KqwjeBsYEZgM2A4wCngG1AEj9cvp9+2j7Pfkd947z+PCT8BrvWuwg6A/jROCR4MDjTOVP4PbY8tJY0KDUYdkM2CTUh89PzKvNmtCw0z3Y+ttN3SDeN+GS5Zvp1O+C9jT74wGECCsLew7+EigXix7hJoIqBip5KawqMyzLLrsyPTOdMQgxxiy4J1ooGimNJy8mrCHkG/UYnRYBFREUGhLTEHcOkQrzCNYHeQdTCbkHyQMvArAAcAAJAVL/6f01/Kr6C/xX+oD2HvaK87XvB+8u7dTre+td5k7fetxv35njl+Jw3ZbUKszlzvLVH9Ys1ArR6swqzbrO4M+R02XZut+p4oXjCubB56btRPkNAFwE1gp3DkwSRxdGGkAgOSg+LYwvPC5iLJ0tGDCzM3g1vzJ+MEsu2CnuJ1EoRCdqJbchrRvwFh4VvRQHFDsS1w+sDJcJ9AilCJMGCgYCBjQDcwFQAdz+If0X/vn8Hfrx+fX5VvZ482/zJvHe7crrcOcM5brmhOM/3RvdGeCQ34zbRNa2zw3MY9Fs1wTWf9PAzjbI2cs31KDX6duw37TfGuLc593twPJq+LIAeAa3CtoR3RUaGLsekSQJKSMuHi84LuUvuDHXMS4xrjF9MtIwcS1pKQQmWCUkJfMi+R7yGYQVrREdD04Plw81DmQLEweyA2cCQwM0BpEGGwOY/xT95fws/m39PfxD/Jb7DPlC9r31UPWE83Py9e6G6eTn5uZC46HfGN5q4HTjX+L322DR4ct8z0rUw9nz24HTo8vIy/TO59W53Znis+UO5sHnhuzL8S77JASbCHEPnBR6FhEdpSNLJ0Msqy/4McA0yTXzNY80kjLcMrMyZTEyL4gq+yXCIr4gox8xHI8XFxN/DXQKtgkiCI0HaQW/ABH/mv9e/7v+zf28/Sj+pf23/Af7sfmZ+gn8VPz6+tX3cfXY9WP2YvSm8ZTulekK5nXk2uAU3grfN+He4TjdXNQOzv/NCdMs1uPUXNSe0cPNB9He1PTWv96f5WDoVuxs7vDwTvkFA6gKlxBIFnEcvCD8I2MnwioAMQ04lzooOYg2pTQMMyYy9zOPNLIx/SzRJMIdWhw5HMEb/hhOEoYMlAc4A0ACPwGaAOEBYABX/Xn7pfmd+VL8r//1/4D9kP1U/cv62/qJ++X8EQCN/vL6Qvmx9fnyUPLk8arxSuwX43rcdtl93cDj+OIL3UjSW8gCyfbMOdDa1CTTHM1oykPKDM4V1nPfH+aT52PpOexl8OP88QcBC84RFBn4HKwkFCo+K78v4DW8OqI8tDv1ORw2FzVMNy41dzObMYwpjiOCHwYaGxonGhAVnQ/7BzUC4wE2APX+YP/p/NX6J/pB+c75evrS+2D+P//3/nz9gfvW/FT/qgBaAYn+svog+2P9KP4s+4DzUe3364nr1+ps5wve+daN2Qbf/+CK3F/PscPjxOLMvNJg1DzPn8f8x27PWdYC3RnkYOiv6x3wuvQq/A0GDQ5NFMIZuR90JxstPTBzM7s1DzmrPbA/gT93PB83ijM4MVcxCzKILNglGyD4Fv4SzRM+EJwNkQrAAqL+g/y/+D35Kfq3+OT46vdz9vb3EPqW/PT+z/5T/sP+YP+kALEBUALjAq8Bs//K/zP/bPsV+BH1I/Co7Wvs4+XN3b7Y3tb32+3i/N470Q7Eyb4WxAbOh9PK0WfLCsf8yP/N09VM4q/sSfFH9BT1FPYdAJIPyxpcIu0mnSduKvgxlzisPB1B70OyQr9Aiz8DPVQ6fDimNVsx1CweKFMg3xZYEqQQEQ5VDb4JSAFw+xT2tvB98rz2Tfhs+Mv0bvBI8PHy5Pch/QMARQFFAQsBAAAx/4gCZQUIBmkIegYUAj4C3P4K+fL2dPHG7EntCehi3gXX99Hn1ELcaNr4ztnBjroAv/nJuM41yu/EA8Qpx0jP5ddc3VLl6O2c8YL28P6FB/sRxRsqIU4mVi08NCM6nT4jQmFEqUQyRUtG+kQZQtE+8DiOM98xMy0JJFkdRRf4EL4POg0aBU8Akf3+9u/yR/L6783wFPUJ9VDzpfM58pzyO/iT/RsCaQXVA+8B1AG0AtgHigs2CvYIIATm/pYBlQOSAdX9XPIZ53bjWd8D28zVwc0mzbPRb9GTzNDAKLV7tle/U8h3zeLJU8XkxeLJk9M430vqLPdw/pL/FQMGCXcUUiUaMJE0qjidO/A/aEU3R9ZHZkouTPVKzEb9P104rTN+MKwqxSSUHzsYqxGzC9MCkfte+P31avSS8kXu2+lU6N/pyOyG7+bx0fO99XP4pvu5/swB4QULCkIM5A0WDxYO0w3hDgEOuAx7C3EITgVKAW76K/Oh7OflkN7U1HvK5sbAy4XQ582kwjSyc6k2sWW+fcZsyYDE2rwvvsvGrNLn4l7xYviP+2AAyAisE/ofLiv1Mso6bUPfSENMBE9RUCBRv1A5UH1QBU0VRgI+QTMTK7UoqiRZHd0VXQzrAXj6HPY88wPx9+4J63XkUeBt4R7kFuhB7lHx3+8Q8DXzj/fy/nQGZwhmB68I3Qu3DUwO5Q+ODzMMuwteC4MGnAT2AkL3v+ot5p3g39gk1FXMOcTWyS7THM1dv8+yA6hdrfHAX8z8znrOvsg5x37OUtua7p4AXQzVE2cTvBM7HrUpmDUKRHxLGk5OUTlRZU/QTsdPsVGzUXVQUEpdO6MtGCVYHngd2htPERUGqfyT81zvjOxn6D7m2+Pe4Jvfjt/94QbmhOlT7lP0zfqEAQoFZgZTChUQvRWgGpscvxsLGygbGRpzGIUY6BdgFMIPPQhS/I3xFep04/ndE9ZmxoK0sqpWrMW1gb3xucOrYZ3rmL6gAbCav6bJgMxty0LMQNVR58T8jRC6Hb0ipifFLxA3vT9NSWFP4VWLXfVg8F9lW8ZU+k4CS2tKtEisP+0zPybDFCsJ8wS3ADL+PPuF8Rbl/NtU1zTW/ti93iXgLN3u3NPcpd+U7DH59f8iB8EKUAxuE48a0B+1JlUqaSqhKisp5SaXJO0edBcAE0wSWhKaDhMDtPBk3g7SV8uqxV27E6ssmy6U/ZpvqmKzeK3DnvySvJbUrKLGJdaK287b0dxj5jH5aA63Inw0TD6jQElDVUiQTV5UdlxCYsplfWebYrhWQks+Qm85dzMmL/wmdRtRDej7Je2E5q/liuV+4kbcWdWJ0OjP4dLt18zec+UY6WjqMO3J9HkAJA05GLkegSHHJQksSTLgOOY81TtgOeM3LjXBL4cnAB1AEvwJqANI/Cj0xuzn4oPTqcGdscOkLJt+kuGI1YVYkt+mrrLbrhCgi5R+nSW6wdek6nzzuPTe9K38RgxRIFk4+UwQVGlRcE/WUNdVsF2vYW1fR11tWxRUNEkpPoYwryJjGUURIgiwAAb3AucB2JLQDs4wz7zSyNEczW/NwtH81RbeVen18XX5cACTA/sHqBTFJCUxjDlaPVE8rDxpQHNBC0AgQOc9nzc0MQEpvBy4EEYGNPti8gjtJOUM2aLNXsNEuK2t7aIql7uO9IncgwGAmoggn165hshcw9qyH66dwQbjLABCDxIS9RH6Fccd7SjUOZJNFlvNXCNW6E+hT59RvE7SRqlAOUDnQFQ64ynnFXAGAP6A+rv4WvUo7qHiHtRbyIXG/81S12LdLd8Y3r/eUeT47GP3ZAOuDG4QQhMIGcIgLyoSNJ06cj6QQcs/4TfMMNMtGCxlKlYmnxyeEVgK0wIF+ajxhuwl5oDfFdfqyeG9NLixswStI6bZnMuRkY0Ck6iexrAwxXLQv9B3zgTPNdjQ7k0JjhmqHlMdMxl5G3spQDvWSZZU/Va+T59H1UL8PVY6jziSMy8s3ybzH88UjQrhAVz4Q/J98VPwp+zd5obcZdIL08/dc+mB8W70L/OJ9TP/RgmfD+YUBBmiGwQg5iXZKsIwSDcmOdg1TzFtLNUn/yS6IGwXhgtPAGP28+5z6XHiCdq30+jP7sxpyhLIC8ZNxWHEUsC7uZaztq4dqg6mp6a3svDLr+gO+n34/+qr4gzsAwQCHZwrEC38Jugh4iGbJsEvmTq3QMs+OjcLLnInEyVxIhgc3xX8EtMQAA3LBvb9hvaw9GD1CfXS9c/36PcI97P2HvYm+In//wdqDl4UbBfoFEwSuRQiGx0kjSv4KfwgAhpBFx0WPBdxGJIVNhAyCQj9qO6L5CzdAtaK0YjOrskpxV/Bx7squQ+/k8grz3nRfs4/yunOEd046vLwyvJg8mb1Yv7yBQ4IjAuhE/IagB1ZGokTghCyE1MUPQ6GCcYLVhGyE3oN0ACc+e79DAUNBsQBLfzU+C/6z/3FAAQFrgqkDSYObhCwFFQYMBq6GcMYBRuxH5wixCNaJVQmEyV1IlUgXSDLIeEfzxfiDfsHwQaiBgMEav7D+PD0IPFq69TkjN+I3LPa4tdg01rOj8mGxSnESsd8zjTWDNhc0AzFWcLDz0DpdgCuBg/7YewE6kL3wguBGtQb/hPEDMQLwRFNG2Eg2BslEpwLsgz6E2cZuRQFCFb82vXb85z1pvip+c/3GfPB7cPug/jhAekBzfpi9W35uwfyFkgdTBzeGoMbJx+KJosugjPsNO8yyC9jMAI0/DMLLykq7idyJy8mgCDTFmoOlAgxAtr7Jvj79WPz1u+c6gPljuGc3q7ZdtWt1CnViNTf0uTQG9BB0JPMJcJ4tXus4qjWqWWtdLJuvPLPFOttBYYVFBbrC5IFcw6bJP07jUhLRk075TAyK4wpmyquK6YoZR+QEXoDKflW8lTrWeMv3q3ebeL040LgGdp11y/bMuPy7HP45wXAEk0a/hkjFqwXViMTNdpDPUmWRihCiT8SPck4WTQ5M4M1UjaYMGQl7BroFM8QqApbAir73/at8izrKeLE3Mnc897V3xfgyuGV4zvhZ9nW0cjRgtgt3oTcwdPuyKy/o7epsM2rQahbpI6iIqwsyenyLhTPGl8J+Pbn+U8UiDbKTu5V9k63PzAvNyXEJsowTjc1MMkdSQpH/vn4UPIB6EDfy9yc4RboiOlr5lThZt3+3iXmQfEV/sUG/wndC+4PGRpOKZ42fD6DQJk+Mj7SQIVD5EMsP4014iuWJV8jiiO0IIcX6Aqi/7756/ko+7r5Gfe79Ljz5/Ne8gjwzu/A8LHylfTP85Hx2+1x6JTl7+WV5pzkktt3zdTAMbdEsG+pIJ/Jk1aLnIs4nSbAvOnSCGMPogM6+vIDuSKbRV5atFwpUVdCDThNMssxtTICLvwj4RUFCCAAAflG72PlTtui1tXYo9tb4GDlm+bw50Xo6eg28Yj9xQqDGOUfZyMyKJIs6zMqPCM+Az22OoI3lDbiMnMpFiDlGNQU1xPTEJQL1AcGBQQD7AIhAxcDJgPLAJP9H/5HAG8BJAH5/Fz5bPry+ob6HPkp84DtYOiw4FPcgNlg1BfQu8dCu2mwkKPgl5qR2It/ilOR2qHUw1DvEBIzIlgcvA9OEjwn4EZDYblnFl4JTaU9LTdMM1YsNCGxEWgG8QDX+kLznebl1xvQEc0K0RLe3urm9O32du0e6LDtA/tMDjoaWx2OItUmlStNMmczQjTPNe8wxCzXKpMnJSaIH4oSqAp7COQKvRAHEbIMGQlJBBwBnwJJBtkMhxQFFysVPxJqDVcJCQfEAbP7GfcJ8S7uGe6f6V7k7t2S1G7Q08yjxBC+m7QvqkqmJqGYnOCbxpbllZehh7ly5JMUrTO8PjY1IiUyJHwwJ0QoV9JazlGrQeksIB77FEsNtQfi/iT1ie4y513gOdjpznHNt9OD4JXxAfyDANwBvf5cAJcGNg1eGAAgkSElJAojQSKmJUkkeiOaJUskeyVxJcEeMhrxFHgNDAsCCaUIJg69ECcQhA9YC2MIxggMCGwJOg0qDmoN2ws1CJMGnwaAAjb9Mfl+89TvH+xG4/zcodgK0lXQp877yeHIOsJbt2SzXq/frY2vaaennyegJaaDv/3nyxAxN9lHOD4jMF0m6SxnRdVWvFkYTp4yqxk6CnUBjALzAED2rOpL4FDeZOTr5YjiDNyu1pLbdOfR9yAK/BOYFVQRgQtXEO4aoCGvI1kdaBgdHe4gryJgIdcZfRfIGEAX+RgLGHsSjA+aClwIAg+JFMMXGhlkFK0RdxKkEGkPwQ0GCbEFIQMHAF4AMQJOAXQAAwCy/e/7ovfH7SjnluQ74q7j1OHU2vXXdNKxyl3IfsIivdu7U7Krqe2l2J6eobKu5sJQ66YXmjX9RVM/DjCLLtwy3T3tSsRIFEDBMnkcKQxDAIH1GfP57l7oMeb34c3fJuEj31DfTOK55yj1MQSCD0MVdRJvD4cQlxM8GbkbFBwpH1wfdB2pGXARXg1ZDM0JxgvSDgESuxfGFUsOUwrKCLEOLxm+HSkgxCAVHRUb2Bj/FDoUyBLBDqALRghQBRgF3AQHA9IBf/+8+vr30PW98RjvrulE4nvhf+F04MjhU90y2ZLaLdWmzTTFerUrrQ2rxqZAqmqr2aadrSS9y9zmEA47ok/TTqI4cCsmMqk94UsiTXI7tymgF4QIyAR//3X4APMz6Mjhr+I+4/zlmuVT4KffU+Rt8JUDZROBGxsaXBLjDusRfhlfICQfwhn+EyEPaw/jDyQO6AwjCFwEGAf+C2MTzxepEugMeQv7Dk4ZVSE5I9MjhyHAHYMaBRVEEEcO4QsdCeQGAAUmBEMEqwIW/1X9zvy3/Gr+7/vm9MzueOdV5B7oGugy5gbj+Nko1mHVoc+FzXrIf73ltmus1KKepVmo260tu23KYuv/GjdAuFVRUqg7vy/EMMM5EUktSxpAuDBpGN0C5fbP7fHr1+qE4jHba9XV0uHYtuDF51bvOfXd/cMKgRf4IHUjXSBjHGcZ+RdMFaQRohAoEecSeBMGD/oJ+gUtArYCCAYvC4sTYhiHGBAY6BaWGNAcqh5lIO8iSyRRJCkgJBjuEIwMsgp0CcEH4wVqBFQE1QIz/x/9GPwE/ssCUwKu/TT3gu1Y6MTlgt9n3C7a99c/28TYSs+Ix0y9zLfSuby3wLdxuYK0SrN1tpbAD+BPCS4u80lPT7NGuz9uOLQ36zxiPKk5zTGVIBUQr/9F7unhSdf30PDTo9kz3/TiweGL4PjiX+lg9Y4EXBJJGyAeSh3mGyscWBzsGTwXNRUNFJQU0hLSDrkLhQcWBLkDMQU3C9kSfRWRFKsR4w9yE1QY+Ru5H5IiXCXCJsQjXB5eGPgSqw4XCqoGKwUlBbAGxQblBRsGDAVkBBIE/gFpAr4CZP6/90rszN+a2orYtdjR2V7Urc4HzcrLBs8J0Z/L8sWyvt+3zbilutq8GMMNyn/bWf3kJRhNzmIEXB5Gqy/HJEwsoDjcPH01sR/gA2HshNvv1DbWq9dp2B/ZodtK47bsRfLY8iDxQvOe/sMR7iQcMKIv2iUaGwQWKRaeGD4ZnBWdEP8K0QNZ/Zj4Ifdn+oH+7QHPBuoMkROiFyEWxxOjFqkfsCrHLx4sciTsHR0a6RWiDkQGFwAf/qz+sP5D/20BLgQRBuQDVP8m/tYAJwWHBuL/0/R/6hrimt1I2wPa6tw94WXivd691JHJs8PswX7CN8NowsXDKccKyKjFdMKsxt3bwf9pJshB5EjrQN82XjNON4874TdcKycaRglv/FXzqeuZ467ZCs/PyEDM/Nne64n3sPco8hTyH/6jEtkjkCmtJTcfIhyrHJ0cPBp4FtwR3wwoBzsBa/2T+3H5O/Zt8wn1iP2hCYYTbhcIFiAUuRXkGg0hFSWvJcojzyB2HVkZoRNbDNoE9/6g+y36d/kp+Rn6M/3fAVcGEAmACRYIcwUjAh7/L/2D+8v3LfCp5VvcGNgP2S3cKN4D3orcJNp81mvSSdCM0R7UPtNozPbCrb0nwaDMTNwL7jgCLBi2K0g3+ThlNE8vqywZK6onDSHqF1UN5wFn9ljsHuXF4EPezdyn3IbeiOJH6KXvnvh0AmAL6xGCFgUbSCByJE8kex43FacMZAfDBC0C3f1e+Ozzo/Ia9S36s//NAxMG4AczC/0QHhgPHrwgISAyHkYdYB5+IHghjh9qGv4SmgpbAjT7Svay9Jv25vqm/18DwAVYB9IIfQpvDG0OmQ9tDqoJwAEr+fPybfAj8B7vdevx5Vbh09/u4NzhVeAd3czbWd9j5iDrteeM26TMfcO1xK3NFdfQ2tnYatdx3pzx7gzKJvA10TfPMW8sbyyQL60vpiiaGxENogDA9uTtSOUQ3kvaFtuj3+Xl/+uP8Y/30/6fBvgMwxBlE4UX2x2QI5EkbR/TFrMOwggWBNT/+fzY/J7+jv8T/uD7IPwmAHYG+gxAE6MZNR/gIdkgUR5NHVge6B5nHP4WvBCqCs0DYvsU8/Ttfu1f8Hr0VPni/yIIIxCfFT8YqRl/G6gdlh6dHOoW4A0JA5r4/O+z6Brh7did0mPRjNVv28re396Y3pHgy+Pk5Abistyc183TlNC/zY3M2s1i0ErSa9R925TsHgjmJ+dBs03ESIo3TiOcFQoTpRguHu0bzw+0/YzrU91S1M3QPtOh2zHoc/XW/0AF2wXLA4QCawXkDe4ZvCRrKeQl5huOD6kE1Pxy92HzmfBj8M3z1vmB/ycCFwKAAqAGyg4zGJQfoSMmJTkl/CMTIdccdRjqFCUSNw8rC8wF7/8V+6/4L/nu+/f/IQXaC50TDRpvHFcahhaDFBwVxBVAE6MMqgOw+vzy7+zG6GHmoOTk4Y/dxNhS1UHUiNWO2ADcWd3V2TfRMcepwB+/pL9Dv7K/CcaI1Gzna/lkCv0eLDhPTbVRrUGDKJcXABdzH8oiUhmHBvnyNOTm2hvWWdWr1+jawd3W4Q/qafaRAsAJkgtlDLAQnhhKIIAjwCBdGeMP6gZaAHH8WPms9EXuRumn6V3wE/oWAocGmwnODkMXrCCNJxsqJimrJgAkOiEHHnYaoRYGEsYLBwTa/PH4Lfmk+9v9w//WA+ULFxYZHlshaiGkIRgjuCNqIaUcExdjEB0GbPfm5xvdPtkM2c7XcdQV0sHT29gi3jPhKeLe4U/gCd2G2PDTjc+vyoDFF8LZwgTILNBv2wbtpgf9J6RDVU9OR2AyWR2dEoMU+BzDIc8abAdB7yrdR9ek2u3eo96722vcGuQS8KH6cgCCAg0EoAcqDg0X8x8gJWUj0RovDyEFkf7v+Rz1W/Be7lPxOfhQ/yEDiQPoA14INRKPHkMomCvaKMAjbyBlIPkhHiLoHr0YsREQDPgI+QemB9sG6wVwBqgJ5w7sEw0Xtxh8Gu8cCh/AH2Afhx5WHNkW0Q0UBPH8P/hM8nPoAN2G1UTV5tks3gLfnN343Jbeq+GW5ArmK+WJ4aHb1NQ/zuvHtMEWvSC968Ns0L7f5PAVBrAg1zusTC1K+zXyHMcNvQ3lFU8aARS3BCHz5uTI28nWXtTN02XVB9o94iXtc/ixAbMH+wouDToQihWnHF4iTiKuGpwOzQNx/cz5g/Vd8M3tgvAA91L9UgE/BDkItA3sE5ka0yGDKFwsLCxcKWsmJyRDIbwceBc6E1sQhw2VCSMFFgLWAY4EwAnoEHMZMSI3KbUsLCzLKIskmSCAHMYWXA5/A4T3M+x64+Pesd4k4SvjjOKw3z7dy92F4QTmVOiT52DltONr4mHfStl90V7KXMQjvmq4pbf/v+rPM+Go8HwCIxzpOelNFUzzNn8eDhL8E50a1xqXEPT+wes23J7TStIx1enXb9gh2XveSeoI+TEEqgeZBaIE4gk6FIcdmyB0HaAXgRFsCkoBfPcG8Mzsl+1Z8Rn3SP2+Ac0DnwU4CvcRJRozIEUkriffKa4onyNwHVcZgRdMFc8Q8wryBbQCgwAD/0P/zwLdCdISVhu9IaYlpCdPKLQnhyXLIfgcZhfREMoIff/D9ansHuUI4PPdWN6f35HgluH949jnaOv27LbsPuxj7C3sD+pK5Q3e5dTlyszBV7uJuL+5U78syfTVC+RA9NkJvSUxQRVQuUrJNUofYxPDE/kY7BnKESIBjOxc2mjPUcwQzszRiddm4DvrrvSy+l3+pwHcBMkHWQxFFSghECn9JfsXpAYh+v/0TfRf9BX0R/Tn9Uj5Mv7VAx8Jsg2AErsYMSAKJzwrCywSKqMmDCMWIHId6RmHFPcNLQitBD4DmQL5Af4BLATCCYASSBwjJEsoZSlcKe8oDydvIlwbRBMMC+ECLvuq9PPueeja4Mva4Nle3ofknuh/6jXs5u1b7bzpCuY+5mrq4u1969Lhw9PwxR68/LcquR++dsVjzkTYwuJg76MBExszNoZHi0YtNtIiSxeWFC4UNhCxBzP8IO9S4gbZjtV01ifYgtkg3X3lHfHN++UC0QbvCBMKcws6DxAWthzmHVUX/AseAbP5S/WK8lXxYPLj9Rn71AAIBh4KYg3bEJoVvxtzIoso1iwoLuor4yYhIXUcGhkZFq8S1g7WCgcHNwSDAysFFAhUC90PmhdgIoUsUTHuLrwnIyBPG3gZQxiHFKEMwAG+9oDt3+V835Tbwtsp33rizeP35MLoT+5y8fPvs+wa7Enuxe7M6WHgh9bXztXI/cIMvbq4Krk8wXnQbOGX7bj0+f6BFCQy7Eg3S+05XyOQFSsTHhW2EzMMq/9T8Cjh29XQ0A7Rg9OP1m3bDeQT8Gf8VAUnCU8JbgmIDGESphcdGYwW7xFTDNoEcvvl8tTu1O8O8wr2TvmR/nYFqQvpD6YT5xihH+clCCqTK6EqSidOIlMdyBm5FwIWjRMdEDQMrQhEBjwFZQXTBnIKExGpGVkh3CVpJ6MnUSfpJTMjtx9BG1UUcArx/w/49fLH7RXnaOH03xTiCeQm5KTkj+cW6+/rR+qj6dbrWO7F7d/pjeQk3m/VMcvmwvC+Br5QvmnBosod2eTmte/y9oEETRt0NExEnkOMNEAg2xBgC/wMgw0uBif3leZ52knULdLN0hvWiNuJ4Zfn+e6P+IQCrAnqDDcOKhBbE3IWhRf7FAMOngM3+cTy1vGB9LL3BvpI/Mz/4wSqCs4P4RMmGHkelibYLEItGSg9IvcfISBkHl8ZVRRKEpQRbQ6jCCwE/wOqBlEJCgwwERIZuCBqJVsnDyh6J5Ekyh9HGxoY5BSZD8oHi/4w9UntlOio56Dou+i15+zntOre7Xnu/uzw7Prva/Nx84jvReqG5Y3gA9pf0lnLNsYiw5fBosCmv+q/yMSF0BPh3vG7AbUUby16RZlPAUSUKRgRAQdFCgoQSw60Aq7xUuGd1ajPkM7H0B/VDtul4j7sv/d8A04M1w8ODygOxRCIFp4bbRwPGLwPTgXy+jrz1O8x8HPy6fV4+0sDSAu/EFkTTBWxGJcdsSKzJo8oZyd+I7MeBxtpGEwVRRHVDRAMsArcB1QEBQM1BeUI5wslDy8V5B2FJYMoHScnJH0h7x73G6cYdxTcDWIEgPqt87Lw9+7r6yvodObq567qRuxW7JTsUe498Un04faN+NX31vKE6d/e/dY+0xrR8MzDxda9OLjGtpi6dcR/0/zjEPJd/j0OESVSPb1K8kS7LxoYjQlJBn4IkgjtAUv0MuNk1KLMkczJ0K/V8dq14t7tGfqyA8YIZAoxC6wN7xL8GbUfWSBCGmsPLATx+xf35/NX8ZHwgPM0+jMCpwgdDVERmRYcHCMgliLTJEQnJijKJSQh7RxTGr8XYxMBDvIJIAhHB0YG4QVsB6AKFA5xEfMVPRznIq4ncSlNKEQkSx3gFA0OxQpuCUcGb//b9jHw+OzF65HqSOl06eDrJO/m8E/w4O6u7i3w7PFc8izxpO6P6oPkPt1T1mDQWsqWw8q9kbsmvT/AscPByTPVM+V49l4Iph0DNsZIQUoJOLQdaQu7B/4LOg1PBnn5A+u53WjT6c3HzT3RCNYE3PfkbPG2/qEI4wzXDC0MGA46E2sZPB0lHNgVHQyrAfv4afMf8YvxVfSO+aoAvQe2DJUPlBJXF7EcUSALIgYkISfLKPUlUB/gGCkV1RKrD1AMKQs6DJcMZgrMB1YIjwzMERIWMhqQHyIlKCg8J3UjqB6lGXUUXQ+uCgAGYAA1+f7wSule5Dbkv+gl73bz3fMa8kHxnPIR9fr2x/d+9971jvLR7VLoc+Ix3M/V7s8IyxTHvcOIwDO9xrpavFvFc9Us5570QP4aC0IguDixR9ZD4i/1F7EH8AK2BYYIpARP97jj0NE/yQnMl9UG34fkV+ec64/0iAH9Da4UCRTTDxoO4hHBGC4d9hrkEWMFTvo89JPzvfXT9075rPuz/yAEhQd9CtoO1BSkGgkf0CLpJrkpQSjwISMa/RSyE1MUhxR2Ez8RSw51CxkK7AoTDSMP/RDkE7sYjx46I/IkJyOTHsYYdBN1DzMMgAjDAyH+3fdi8QTsren36gHuFfCV8CTxGPN/9ZT2GvYo9R/0KPIl78zsgOzS7DLqneK11wvNLcWcwLa+m757vx/BiMRry0fWmeNy8c7/YxDCI6c2jUKwQYIzSx7IC9ECowJBBMcArfZd6Q/dGtSNz1PQKtbB3kfnTO+D+EcDtgxRETkRTxDgEX8VRRhiGBsWDBLbC10DJ/oY80LwpPHK9TL7/wDJBhkMSxAtE38VhxjCHAQhayNXI+QhNiDwHQAauRQZENYNrA0uDo4OzA6gDocNLQyuDH4QYRaJG3ceDiCHIXciTSFjHaIXQxHFCj8EHf7r+Pf0YPI/8UXxh/Fw8Z7xN/Pe9VP33PWU8pvwefF+877zMvE+7XPpCuaf4njfPt1j2+vXJNHMxwW/M7qnuoO/Qcf90BncPecR8VP6cAYaGJwstjupPfYx4R9AEBoH8gJJAJD8WPYN7dTh9df80uzT3dhQ30LmEe7X9tr/EAigDtQSmhT1FIEV8hY5GIsXExQ5DrgGTf6E9ubxRfLR9pD8AQEUBFwHygudEHcU+hb9GIMbvR7zISwklSSlIk8eeRg0E58QHhGZEjMSFA9iCwEKuQvODmYRcBMOFpkZLR3GHxMhyCAJHm0YSxEiC0EHgQSoAPz66PSC8IvuMu4o7sXtUe2T7e3u2fBJ8pzyGvJP8Ubwwe4p7XHsmezK68PnauBQ2CvSXM5Gy7PHK8TOwRTBV8Ltxl7QDt7d7Bn6ywZ4FtgpTzsZQus5XSdwFJgIKgSOAmr/Nfky8DHlSdpc08/TJNvQ5HHsw/Hy9wUBEgtAEscURxSVExwUlhUAFxEXSRTJDcQEYvxo9yH2vPau9zn5ffyjAYUH4QxsEWkV6RjHGy4eqSBOIzAlAyVBIqYdlhgZFJ0QSw44DTYNmg2gDRMNggzPDIcOeREJFY4YcRtGHZkdKRwSGcUU4Q/cCtkF9QCO/BL5mfZw9L3xge7a6zvrEe1d8JPzovVC9rH1SfSt8pPxOvE08XjwNu4s6qzkkN7v2KfUtdEKz7zLL8jsxT/G1cidzHvRiNjC4pTvk/16DIocHCxgNgU2tip8Gk8NFQdMBQsD4f1v9ofuNucP4ardM94t4hTove6p9iIAFQm/DicQcQ8XEOES+hVdFzYWYRNQD90JBwQm/wP8SPrz+Az5mvyVA4ELthA1Et8SVBXOGSweNiCTIMggCSG+ILcePRuFF9ETchDeDWcMcgzuDKcMCAzWCx8N7Q/nErsVPxgLGuIa2RkRF9cTmRCRDTgKwAXkADX8+veu9Nrx1O8/75jvhvAN8X7w7e/z783wP/Lv8gDzG/P88nvyWfAc7EHnmeLr3iXc49gf1eDQV8woydLHqsjfy1HQetbI3kPob/Jk/B4HJBUBJd0xhTXCLIQc3QxFA38Axv8U/br3F/Cr6E3jx+Bn4urmhOzl8or5RQGuCScQ8hPoFP4TWxP6EgQTixPKEjIQcQsKBbn/GPz1+bf59vrF/t4EjwrgDmYR9hJlFdEX/hmZHAEfKCF0IXQeJRrzFdISCRHcDt8MDgzEC0IMnwyyDPINYw+LEMcR2xJUFasYnRrDGksY+BOED4MK3QX6Aa39QvkR9JrukOsa6wbtJfDH8UPy+/Ey8bTxufKC89Xz9/Ek7+XsUutU6/bqaehg5L3ej9mg1v7UmtSi06rQt83pyyjNhtJd2ZHgMuc47Vr2PwRyFowpDTXQM9ImVRTXBrwCvQQ3BwcEUfuB8RTpieST43DkrOcB7P7w1fdU/0EHIg72ELIQvQ4+DS8P+BJwFocXghNVDLsEov6E/L38q/2//wACdQXVCbAMpQ7TDxERohQEGTYdbyCKIP8ethydGUAXZhQyEX4Phw63DhAPeg3OC70KnAqKDI4O9hCaFLcXXRooGxgZZRbGEpoOEAveBh8Dqf/C+gz2rPE77i7teuxa7MPtr+/78gr28PYX9+v1TfS888ryLfIJ8VPt+ejz5Nvi0eOq4x/gQtlN0E7KssgDysrNTtGM1PLYed2s4+Trc/VGAvgQYh9PK2ovxCrEH9YRVgfhAZj/Lv/E/LL3bPEV6jHlR+Qp5tzqt++B9Ln7NQQPDXwTHhSkEa0OcA3EDzUS1BKBEUsN8QhIBYEBN/9f/YT8f/6eARcGJgukDiMSFBUJF2sZlRpLG5kc8Rx2HV0dVBsIGWsV+BB4DfwJYQgQCRUKBAwPDcgMkQ3KDmQRZBUYGCcanxpYGBQVChCUCugGgwPWAAT+fvmM9QXyAe8w7hHuhu/d8pT1Kvh7+bv4E/ib9gP1j/Rd8xjyK/BQ7P7oKeYJ5JfjHOJ439jbS9b30fDPTdDH067Wu9cz2IbYYdxF5PDtlvlCBcUQ8hw7Jg0r5Sl0IQwW4Aq0Aj8AIACU/8D8qfUa7vXoPeei6uHv6vQC+rT9SgJvCMENcxJTFB0TFBL/EPIQyhFREJ4N8AlYBb4CBQEgAD8BUgJtBKYHKgqZDbwQqRLkFM4Vnxa1GEsaQhwwHVgb6xiSFW8SQRG8D14OOA0gC3AKbgoJClgKywmRCU4LfQ28EKMTTxTyE40Rmg22CSsFiAH1/j/8cvpi+Br2ifQz8njwBvBT8BvzRPZP+OX5DPmb98T2pvQ684Hxc+7v7OrqPegl5pLhAN052trXqdhe2jnaRdpC2GHVwtTM1DPYY9+V5vLtCvPM9Zb7PgXnEtwhUyrOKd0g7xLYB4ACbwLeBOwDeP4p9urtT+oW62zug/JJ9Fz1kfeB++MCdgpKD3UR+g+FDsAPpBE2FLUUiRH1DZcJjgWXA2UB1ABdAgEEkgc7C70N3BBSEhcTohT1FFIWORjpGFsaHRrzFzgWTxOSEWwRrw85DiEMEQl5CBYI5gdyCd0J5grEDN8Mtg1QDmANGw1tC68I6gYJBBIBsP6W+635f/il9vv0K/P18YPyMvRG9uD3qPhe+Ev3afbu9DjzyfFK76jtD+1s60nqAegu5ILipuBv3p7d79pu2ZHaDdpY2mza0NhK24bftuNd6invePRA/q0INRXyIAEl0yNVHUgT7AzjCGQGDwb4Ah3+Cvla8ujtdeyM7GHvo/Lx9Wr71gGICN4Nlw8aDz8Olg7kEKETZxXtFOIRYA1WCJIEwgIrAvgCNwS4BTEIXAp6DLEOERCtEQYT8hMUFlgYURpuG7IZLBf3FNUSORLgEGsOxAw6CkQIjgfrBfoFEQd/ByIKtgyaDo4RZhFbD9gNcgqCCK0HcQRIAnP/iPqL9/jzxvBm8djx+/KO9Zb1xfVU9tr09PSY9bj02PQf9JryCvNY8iLvoOpB5HHfH99k4Kbh5OEd3wbc2tr/2aDaZdy+3AfeeOCZ4rTn5u7+9h0Dwg/PGQshbSAjGg8UCQ6cC28M7wpTCccGGgGY/Lz3Z/Ld8BDwPvCu8+X2j/u5ARIF2gfuCVMKqww8D9sQIxMbEzURTg8vDCgKOAkwB6kFcwT3A+cF9QdyCdgKLwsxDDEORxCwEyYXPhk4GgAZNBf+Fk0Xwxc6FzgUehACDd0JgAhUCC8IXwjzBxcH+wc2CqMM8Q71Dt8MDgu+CLwGGwZSBB0C8/+i+0340fYc9Zj1TvZk9V/2fvba9L30PPNJ8jb0xPPA8mnyre8D7yTvTuxL65vqZ+lx6zHrhefV4yjdyNdW18PXDNuA37DgxuJc5cvmaurZ7b/xwvpLBl4S4RxOIMIdkBh1ERcMzwnCCCUJIQnfBZYAj/p29BPxiPBb8aD0Cvn3/PEBjwbsCUUNGA74DMsMmQzYDWMQyRCiENEP/AyqCsoHqwQmBDsEQAXnB+wJ9gw6EHERmRL0Eh0TCRVKFpEXWxmOGakZRRh1FKoRBg9ADbANzwzMC0YLBAlECLwIvgiYCikLtAmACbUIigjDCVoI1QVAAyr/lPxT+wD6bvph+j/45fVE89HxN/Pw9K314PW29DrzxvLq8QDxEfFV8GHvDO9d7SPszOup6Rzoj+bh4rrgvd4p3CbdHt4L3vTffOBM4o/ncuqO7OTubfB0910CBAyFFPYWiROVD3sKogeYCGsIfwfYBDn/yfuG+t/5U/se/K77HPxp/Ir97wAcBYoICwqmCZoIaQj0CZ4Lawy8DAQMAQtVCp8Jnwn4CTsKkwoeCiAKggvyDPUO9BB5ET8SOBM0EzwTPBMAE4cTWhR5FOgT8RI9EVYPbw7WDY0NiQ3EC9UJgAkfCYYJpgmcB8MG1wYfBn4GmwV0A7wCjwAf/lv9Nvu++eb45/W99Cj12vQ59m/2ovSf8zDxEu/E77rwLfPg9WL1pvRh8+HvJe0P6jTmy+T841TibOEd4Lne/N5K3/neFN/a3jffIOJA5m/rg/Lg+Gz+dQRlCNAKdA0mDsUNmQ0jDCQKqAeIBAoCav+Q/Tf81PhA99r4CvpK/UEBfwGZAsoENwT/BBwIgQqXDVMQMBAfD6kOrg3KCyAKMgnKCDAJDwrvCt8LigzEDCMMtwuLDVYPChCHEZ4RJBHSEjATxhLJEwYTzBGoEWwQBBAKEGgO0wx9CuIHYgdSB+IHHwmACH0H/wapBWoE4QKwAGr/9f6V/s/9mvxD+2f5mfcU9oX06vOQ8/7ycvP680X0E/QH8lHwyO8z70rw+/Hh8l/01/Px747rf+ez5CDklOQa5bHkqONK4lHgWeCO4pTk1udE7AjwkPMC9vL23fd0+kX/cAOVBu4J5AlwBxEGKgOsAJYBPwEx/6z+jf60/iAB5QSgBqQGsgZ5BG8CswTLBvsHkQqTCjoJyQn4CbAKeAw0DU0NpQwCDB0MtQtrDDEOSg+yENsQpw+fD0oPww7pDmYOSg8qEQMRWxBtD7kNDQ2RDMoLFAwyDVgOyg7UDr0Odg1rCwAJeAZ6BVIFzgQ5BCoDGQLcAMH+Nf01/FH76vrZ+VP4xvbN9HHzffKW8lH0QfV49lb46PcG90n1UfG+75Dvve7270LwTO/l75ruWOx/68rof+WE48jhSuL75DDn2ude54vnhujJ6q/vOvRu9xn7Ev3u/WAALwKbApkDqQQABUoFtAUjBdoDJgOvAZb/iv/gACMCYgQDBwgIwwcNB/0EogPbBUwIvgmlDC4OXA5IDz4N2QkOCZoIhAmPDBQP+xELFF0TpBEOD3oN4g22DZAO8g8dDwAPGA+5DWIOPA+7DeMMmwwdDB8New45DgANjAuuCVYILwh1B7QFyQN9ASoAyP/B/ov+kf52/XT9GP0m+/r69vov+fH4XPky+I/30PZP9OPyGPNg8prxQ/H+77vupu267DDtm+3L7RruX+z76kPr6emI6QnrpOpF6v7p1Oen5tXm5ueL6pntJPIO9m/2w/d++Z/5+/wBAOj+bP9DAPf+XgB4AxAFkQa2BuADywD1/2gA6gA2An8DUQO0A4AFuAZBCKIKMwuHCuYKLwvpCy8OVA8UD7MOLA1ODLYMOAx6DKQNdw5REL8Q5w73DcQMDgycDQ0O9w2IDqgNeA1rDtYOzw8dD/4Lwgl7CJoIsAm+CMMGEAWFA40DewREBacFagRAAvv/PP4h/m39jftw+rX4+Pbl9iX2O/Xa9dL1TvUn9sr2SPbK9az0kvKw8UHy+/IH9Af09fEi7ynsZupR6ovqyuvM7AzsLeyc69ro8+d76Lbp4O3F8SHzW/Mo8n/xXfPv9nT7Gf6l/dT8ofxC/tUC9gYOCLoGCQPH/t39MABhAjkEJQVZAzoCaAMuBF0GDAlWCHAHjQfmB5ALMQ96D1kQfhAMDz4QxxFzEcoRURFWDzkOgQ0VDZUNFw1aC3QKmgrsCgwLCwttCwIMXQyhDNQLLAoXCskKaApkCv8KAwt0CvEI/QabBWsE5gO/A6ECSgF0AAAAAQAm/4793/xa/IH7YvsH+2H5qPeZ9g72kvZR9132U/Sa8nbxh/Fe8tjyEvPa8u7xp/CS7znv0O6c7tLv1fCk8Q7zQfIV8AzvWe0a7Kfso+z27H/ude/M72nvYO998Tr0vvYW+Sf6cvvh/ef/aQK8BdcGkAVtBGoDDwNIBWAHwwbpBRwF3gMWBIMEKgSnBO0FBgg7CqELxQ1AD5YOIg6XDSQNsQ7lD7YP3w8LENsP1g5FDToMiAs2DBUN7wtkC9gKPwhoB/cHwwcbCdQKvQtKDKAKlAhFB/cEFgWMCEELOAyyChMHXATVAikCBgIFAYz/If5Q/eH9dP7c/vf+Afyk9zf2xvay9875Yvsr+jv4sPdb98r2GPbq9Gj0fvRF9NH0qfVg9Sb0YvIi8aHwdvDD8aPz6PRl9pb23PTp8rLwmu8y8OPwrfJ89LD0GPZ699f2H/d49wL3IPg7+e/5u/uB/JL8Rv02/X79yf4kAFUDcQgfDVUQ/RAxD1AMQgnHB1wIsgkLC2cL+QrLCtUJZwgzCDcI/wcACegKKQxhDG8MVQzjC18MPg1RDaAObhCZD9YNOgwGCeMFOwS4ArICgAVrCFsJCgnWBzAG7QWoBmYGmwXMBGwDoQL0AvYCfAKCApcCUAEo/+f9/Px5+/z68ftI/Dz7RPrX+fn4P/ie+KX5Yvt5/Fz7K/r1+LT2EPZa9mj1KvUq9UL0k/Nt8/X0Y/b09An0I/RM87L0OPck+O/4wfdk9Qf1OPRC9Bn3+PcT99n26/Ul9qj34vf9+FH7Mfzx/Ff+pP6k/l7/O/+b/v//CAKXApoDrwUHB+IHEAhjBr8DBALCAfACOgaRCugMBw1aC4sHIwXjBcsG4AdMCcYIbAcBB/gGhQcACTIKEAkyBtYEwAX3Bx0KHgq3CC4HXQUIBR8GcgZbBpQFWARrBFQEkwPkA/IDNAOZAvMAEf/5/uX/2ACSAT0B9/8R/9P+Kv6d/cD95fye+5b7VftR++f8gv3c/Cv8LfrD+DX55PhS+aL7GPwf+gv4G/dw98P3cvhj+Vb4CPcp90L3Q/gr+S748vf49wT3c/hC+q/4Xfe+90L3ovfZ+f76xfqw+gX7ZPzu/dr+fwDsAPT+w/4sAE0AiwAUAUUBrwEYARkAQQDiAMYBbQKsAiwDKgNDA7YDLAPmAywGrAaABsMGcQWaA1MDVgTQBZUG/AV1BKwCRwGUAfMDpwVvBRQFIAR2AuMCkAUxCAgJZAf3BFkDFALMAVEDpwS3BKYEQQMkAKL/pwGYAZwAfQAs/7b+OQHlApkCyAIvAXn8zPnL+vP7ev22/tr88PpT+1f7JvvH+w788/xL/hL9TPp5+av5FPna+Lf5A/ta+3L6bPrE+nz6nPvm+076+vrW+9n62fq0+uH6lvwG/R39Fv3U+wn8Hvzu+5X+zP8w/x4Av/6x/JP+swBYAdgBCAJdAiUCVAE4ALT+5/+5A4AFTAXgBA0EqgN4AzID8gNHBP4CmwKcAyoESAWfBhMGQAWxBHgDagPLA0UDVwMRA8oCIAQ5BAkDYgNQBI4EKAT3AzcENANrAhkD9QEHAIr/pv7e/p4AeQD5/xkArv7H/qYA3v8S/3IAcgDoAI0DMQS+AnUBagC/AF0CGwPdAXX/K/3++ur6Yv7LAB4Aj/6B/H37XvuH+wL+VP8k/kP+YPz/+O/5JPyl/ej+W/1m/NH9Xf2J+3z6n/q/+1T8hP3i/4EAVv+T/uj+M/94/hv+tv5L/wsAYAFhAmQBGQDaAIsA5P5z/7MAXgGxAbMBTQPgAyECtgKNA3wCSwNNBGAD6QFuAHsA6gCc/yj+3f3l/7wC6gKyAjADiAJZAsAChQOSBIEDOAOgBJUCSQClAd0CAQTuBcYF2AOhAToAsgAMAZgArABPAIf/Uv8N/2z/gQBmACwAIgG3AUgBqgBuAO//5P71/n3/i/74/dj+zP/x/6//vQAtAYn/8/+5ANr+xf63/07/XP8s/l39NP5k/PD64vuF+178Tf7h/UT9M/2d/ZH+fP49/30AQQDHAC0B4v/1/mr+zf2I/Zv9OP7a/mT/HP+5/kcAYADL/qT/df+8/cv9GP0Z/cX+0/7I/54AB/+W/9gAkQApAVcAmf6T/sn+VwAEArsA0P8gAPX+kf0j/tIAHQPLAtQBEgGH/8n+6f89AcQBKwJ8Aq8BYAD//x4AlgBaARoBxQDzAd0BnP8P/3f/X/6N/lUAQQGBAdYAh/+R/p394f0k/23/r/8oAGYAzwAsABj/pP7P/V/9Mf0Q/bv+h/8j/mz+b/8s/9T/eQAw/2z+Mf8P/1/+Sf9XAIf/p/2l/JD9bv4R/jL+R/4j/nD+ufxw+jL71vyr/df+zP9s/x3+T/6i//L+6f1q/n7+uP7K/zIAmAAWAfX/nv4x/wMAOwBFAZoBewBcADEB0AEoAYn/2P9eAH//TwBRAKL+4P6P/nr+XgBO/4L9i/4e/xkA7wG6ArIC5gAZAMABSAGqAAYCXgGDAFYBsAAa/5v+Hv/n/zAAzwCzAYoBdwGvAYMAhf9cAJwAdf8P/0f/S/93/97/twADAVL/pf08/v/+I/56/j8Aif8k/qL+X/6e/k0AEAFAAsYCewEMAd7/3v6eAKwAP/9H/83+u/6n//H/8/+t/2D/z/6o/vv/pv8e/24AZP+k/sP/rv7N/p4AiAHxAW3/Rf63AH8AkgEBBB0CPQGz/1T8uP4eAegAJAOlAnYAPwD9/l7/zP9L/uoAZAMCAh0DCQR3ASoAAAAe/8f+rP5+/pX+k/4U//X/oP9q/8sAFgHg/5r/+//zAKcC6gIBAXT+AP5TACsCigLPAqMCFwJ7Ab0AVQA4AFEAGQCH/1L/5P5//wMB6/9//jX/C/9D/2gAb/9F/of+Vv+mABIBywDDAHAAcgAJAIn/9QBaAcr/8/8wAIv+uP0y/t394fyf/XH/v/75/Mb9Df8i/2YATgEP/1T9mf7M/0EAbADK/5YAhAKXAnUB+//m/pb/8/8z/8P/vwB0AHAAtQBc/+D+FgFlASr/Wf7h/Wn9ov7q/lf9yPy4/Wb+eP4S/xz/tP7G/03/2f0W///+7v1W//X+cf3l/aL+IACDABT/uf+/APv/gf6K/SL/DwCF/gv/ZAB5AGwAHgDgAKIAw/4VAHcBoP+m/sH+0f4w/tL8dP2+/bn83v45AWYAov8k/xn+D/4m/zgA0AAgAUMBUAEkAO797P0k/8P+ev7y/hUAyQBL/9f+Ev/G/dH+cAAP/y39jvzg/u//pfxj/dj/Y/37/Gz+G/6Q/8cAywAWAZwAQwH+AbkAcf+K/28BNQGm/0ICKwKF/wUDtANk/8j/ZgDz/28CbwJ7/83+bADHAPL+Wf44/rz93v/zAMj/AwCe/2z/ZADr/0kA8wDqAIICsQH3/kcAAAP0AuYAvQAfArcAngG2A0n/Nv6KAX3/ZgA4A+X/OgC6Au8AAAI6A7sAZAD3AL3+x/sx/Fz/VP+n/Zr/lAFW/0792P+Q/5P6Uv2VAu79CfsVACkCPQBeAH8DNwVhAkn/nACHA/UA9P22AssDGP/K/xj/Zf3Q//z8Zvs//1n+Av6F/7v+pP5A/f79M/+n/Gb/EgG9/rkBngBe//gCS/8i/+8BD/65AdgD2P69AeMB/f/VAuD/aP/qACb+UAFHAEH7c//BAEUBDwYuA///iwA1/5YAfQBg/mgAqgDN/qn/WQDQ/5D/mP+z/47/WP9uAMoBZADv/1QBBf9e/Pv8mv/QAKf9eQFDB9L/8f/4Br//3/yc/yv9vwDgAKL/IAQF/2P9qwFb/Tn/3QF//0gCpP5h/UoCjP1v/a3/efwP//L9ff9rBCf9u/5UBAX/JAAw/lv+EgWa+x39/wYJ/Dz+kASu+6oARwHv+88DaAAV/ogEvf7p/w8Ebf0N/gMAaP/g/xL94P8PAHn8eQGn/2T8ygHl/7T+ewBf/ggCSgLj/54EhQMUAcABKv/cALcBrQE7BS0BOgBRAyj+dQGvBST/Tv/A/Qn7TAKrAV7/LQJd/uoAUARo/wQCAAPBABkDOf//AHgF9P7CASoENP79A1sCt/zpBL0AjPyeBJT/P//ABRMArQH3A83+NQI4AsYB1QVi/zv/lwO7/IH/HQOy+2D/2QLa/Mv+twHr/63/2v5U/z0AkP+FAJ4AVP+H/hb/MQKWAZf+gQGAAqn9Lf0FAFj/yf4HAZYApv6H/4n+Bf/oApj/y/47BKz+p/xiA37+Uf78AnD67fwWBXD+Pf8AAj79RQH+AeD+zgGn/7sAsgOL/on/9QAP/un/D/+5ACEDB/9TAo8CV/4RBPEA7/xgA97+L/2ZAub+s/8SAlcAmgCr/f//5wEm/ngDfAJ4/rgDf/6T/rUEfP3uABEDYPy4BY0DHvxlBfcALP6/A5T8zQCcBEj9OgOKATH9bwWY/8T8BwRZ/lL/8wS5/6T/hQDp/X8BbAOi/2X91/1O/yYD6AKe/DgAuAP3/N0B9gJK+t0CRwP0+qcC0/5u++8E3/3f/DMEW/5YAXwCkvy7AbX/5f1kA57/cgDHAL381AFe/x3+2AMk/r//7QFD+7wCRgK3+9gDc/8C/RwEaPu0/swFZ/oH/9QEiPxWAUICh/s4/hv+GP/WAej+ngA/ACf9gwDU/0v+YABJ/+L/GwAgAKkCPf8T/tQBXgB/ACwAhf45AWr+Xv/1BBf+Kv8UBVf7zf3XBfD9p/+LA0r9JgC9AeH9xv9q/8X+C/8J/l4Ahf/K/5wBFv2WAL4CrPqp/2kCpPvPAOP/H/vxAaYAsv4rAbv8wf6//rj62gEDALP7jwO7AIj9ngGI/RT/cALs/fv+g/9Z/iL/q/zx/8kADfzNAOIAsv4uBPD+Sv39A3j9Gf3wAnb+WgAgAOn5SwCgAXb7ewCnAuf9aP/fArMAK/zU/Db+pfwmAGQB4fwq/mL/3P57AVf+Kf3hAkv/GfuuADQAdP1PA0sDr/z7/icC3f27/m0C7v2j/HMBFP+f/YoCCf//+08DrgBO+SwAcAPE/SIBYAR+/gf+KAOgAOP8awFbAu7+DAKEAbT9cQH3AYUAUwMcAST/sf88/tIACQGf/VkAMQKF//L9/f9AAi7+V/6TAx7/zvzvAMX/yP9yADD/lgA3Ac8Af/4LAB0FjP8R/0UE5/1pAZcDwvqIBMYC2PRQAnkEafqPAuQApv7SBEf/8P6GAcP+OwBf/Ub9bgBT/uoAOgDF/lwA4vtgAUgCjPk+AxACFfvLBnb+AvrSB8/9pfzrBF36sv0uAOT6nQJU/QD+dAnU+5/6RwZi+7/75AOV/sQBcQFX+vsAoQFF+/MBMQHt+ZsClAHM+MQE9gJb9jQD2QKH90MBQ/5p+YUEYP/N+k4Bbf9k/2IAOAANAEX8JgEkAWn6zwBW/3b7SAIu/2QAggGA+cQBHQK4+gcErv69+2MGYvxQ/ZkFCvmu/mwGFfvv/xgE4/wDAAwBUf75/7UAOwC2/hYBYQIA/a39vwD8AVwEtP7C/FkDggFa/1kAMP+QAf//cv7yAg8Ai/5wArn+9f7yAlf+0/2OAjsBzv/uAEH/+/5TAk4B2v/3Az0B7fzNAvEAPPvxAAkBYP+7A+H9Nf1zBZL/7v1EBR4A/P01AjH/p//eADn/bANTAlH+igKvAS7/ZwJU/9T/MwQz/en/rgZg+aP8AwsW/O/5UAgC/l3+iQfj/BMACwOQ+ecCWwLv+WsEMgDv+5kFbf0Y/WgG2P/Q/63/SP2zBKv8s/nQCB0DZPvUAUsAcAB5Aez9AQCmAP0AkgF4/qEBQQEM/akC6QEj/l8C1/70/ggGh/4X+x8Dyv/I/bQDJAGv/+kBrv53AOUCh/6mADID7v4N/4sAQQBTACz/PALHA6AArwGF/2T+DQS1/5X9dQXiAFz87wFuADH/2gGJADUCnwJU/aj+fQM6AEH/CAVt/+D4pAP1A2n5XQJEBqP5Lf38BWoAv/wBAfcD6/85/AMBIwL7/jsBhQD//zoCQv3Y/ncE5/w6/WAD6f3QAV0Dc/g5AbgGD/uQAVkDj/rHA5MA4PeVBdwD4fldAtoBQv0MAd7+OADnAsD8tv1sA5MAmf39/9YAu/7X/eP9vQDLAyH+GP1tBJL/jPweBOb+BfuJAwMB5vr1/vwBs/9h/UEBeAMv/UL+FAKT/l4BngDd+s8C2wKa+eYAXwN7/OAAfwGp/cr/jv8aAYwBJv7NAFb/3/wxAsz/bv5oA2z/LP4aAb3/bwFU/yP+3wJd/rz9IARN/079dwFNAMEAXgDE/Qv/CQGgAMj9CwDEAsD8r//DA4n7fQAfBdj7xAELBOv4zv/IBOv8QwCvASL8VP/OAdb/PwF7APD+bwKYAJ77YgFFA9T7sv7jAQL+uwFfAkj9kQAUAkv/9wAbAMD9MQFXAhv9AP4HAwn/Cf/RA8j8Vf3pBLj96P6yBTH98v02Awf+jQD1AKH8EAF/AGL/dgL0/Uf/lQML//f/cQEA/h0AwQD5/pQAjAEiAYH+Kv82A6f/cf2DAMz/awGxAdv9TwDrAfX/HAEeAW3/Zv4vAcoCzPyH/mYDXP+BAfMAnvwJAygAg/4hBrv85f0gCKD7yPybBUb9WgCnARv9uALY/nsAoAZx/A//xARF/jMBnP80/jwDCv0JACQE2f2JA9r/IvucB5YAWfoaBbkA/f5QAmv9nACCAu8A2gC2/QICdgCw+6YEqAMi/78AqfzCAo0DW/0mBH37+fuwDVD8Vfd4CTb+Ef8+Bkz6zgHUAQf7KQjY/7P5cQfWAB7/pwLF+j4CKANL+xcDQgL+/ZMA9/7YAygD/PxKAscA9P3dAWL/ZAGOAaD8oAEzAWD+QgLe/kcAsQSn/ywAZwEB/48AHQD5ADD/SPzqAhgBT/7aBHr9zf3LCdX+rvhXA88CLgBq/nr92QJqAPv+MQJH/skA3QJX/ewAIQLy/hcCkv/0/ZQBvf59/8cDWgDv/Kb/MgNBAHr9TgJxAQr9IAAvAVcA4ACt/yQBIgAN/jwCWgAH/AMBVQKs/kcAuwF7/y7/9QD5/4n/7wHU/7r9HAGRAM/9KACMAugAi/4q/yT/uP7yAtMCAP4D/5j/bf8QArn/l/0JAeoCLv+N+74B5ANw+9r/AgXn/GL+2AH7/nkBAQDe/pQBuf6TAB0AsPvqAnYCNfwnAocAc/xjAlgBNP7LALAAzf6x/5IBD/4s/gsEh/4v/dEDBv5g/xMDnPsXAmMCnfmgBHgC0PmDBHQAHvxvBKj+CP0/AKj+zAGn/aQAygXz+SUCoAfv9joCdQWM9UICfgKl+goGX/27/NwHIvsFAJkGd/g+AlQFgPcLAX8ElPwJADkBTf9//Ob+eAWY/yz+XwIwAAADLf3N+gYGAv0O/FQHkvlr/dUISfv1AacEvvdFBFICufjpBL/8rvsADGv9tvdJBg8AK/zGATsAsf/F/qb/fgKcACb/lf7sAF0CVP33/p4AhvzfAQ0D2vwHAcICuv1i/j0BYAHN/i7/wQAE/qYAPQEH/FICSwNB+xAC7gKZ+kMBYwKO/HQCFwA++hkDdgM5/NYAmACW/IsD/gFq+wMB4P9l/Z4E//4q+z8Ebf/x+1cDVv9A/rYD7v4t/VsCKAFI/Ff+tAJJ/hb/1gOY+6n/nge/+Nb8YAqA+tL4bAZBAPH8cABzAb4C7fzp/WADxvzL+6EBAgMmAXL7JgD4BdD86P4mBN35vfyvBXj+ePtnAZIB1f5SARsDsv2r/JQBfwGV/rn8VAFJBLb6zPwrBd38qv6/BNT8mAAMAkH73gPYAQz56QFfAuP8Av60/ucEEwAr+e4FkwKI+bQD7v6O/HgFTPqf/UcKRvo9+TAH+/5K/LYD2gD5/LT+JgNcAFn7XAGuArj+ZP9U/T8BlQO/+xT/CALn/ekBLv8J/hgEKf0W/3IGivyx/OMB5fzx/9AAGf7zAT0BqgB/ANP+rwGc/nj+jwJw+wT+JATY/FgBmgTJ+sH/KgbV/s36YP9OBJz/0PxVAqT/+f7fAVj8Zv9fA7b+/wAuACT/EwPd/BH/8AWy+977JAQ6/qz+6gNU/1/+FgKYADX/XgEk/tL7VASaAyz74AD4Aob9YgCa///+BQMq/vz97gM2AGL+ewE5AcMAIP8U/5MAHf59/1cCc/+kAGQBrv3KAvIDQ/xkAOEBH/0WBAAAEvmvBJYAP/vpB4cAqPvKBRv+9/4vBff7BwDxAcD84gO//v78ZAem/jv8qQXqAH79EwD8AaYAoP6JA97+W/1TBtT78fwQCCj7nAG0Bjr3jQYKBdHz1AigA031AAnn/7L3kghqAC394wQ4/Rb/LAR7/x/+UgEXA939YgCCBbP7/P39A0z8aQGIAqf9SgVg/sX7fgjPAHD7LwHg/koBfQA4/YkALAD5A1gB4/p8BekBuflZBU0A9fvpBOj7BP68Bpr7Zv5/A+H9NQXUAYz5cAPnAYH8BQNY/yj8swE7AQsAVv9z/18DuwAw/qAArv73AHACZPx/AMgCI/3CAo0ABPpWBHkB7PqlBbIA7PuMBIr94v5VBpX6gP2jBQL9//7WAXv/TwMA/s/9lAVm/hL85QIrAUH/0P+nAdoAJPzSABMDSP2p/1EATQBfBTX/+vomA70Dyv1Q/eAAeQBS/ZYAegLJAGIBrP6wAEcDGP2r/wUBWPxFA5wAjfstBSIAVPxiBB3+9/9eBMT69QCGAk76pwVpAjz3KATkA6j6TgGBAQv+AwDMAWUCP/zl/Z4Euv1g/wIDDPrvAOMEKPtlAZYAqvt6Bv/+kvmABpn9J/qPBhH+0fssBNj+N/+JAPn72gGPA9r7v/wjAsX/x/5DBHn8OfgyCZEC6fOsA6kCF/hFBKECyfu7AFT/ZAADAE79tf/K/Pv/JwK5/OUBOv6n/BQI2PyA+coEJvx4/rcBbPvcBAL+mvkKCd39P/l3BGf9xf+FAH37ogTX/nL7rAMG/d7/SAIX+7cBav+2/XYFkvzA/T8EOPvx/+gCevrc/9kCZP5sAAYCfP5t/dUDpAD1+M8CagNp+YwBmgQY/MP+AwQgAP/7tQGyApH7NgDTAib/QQHX/e3/GQNv/JwBQQAN/N4G8P2i+0wI+fv3/ioGHvjnAiYEx/fuBfUARvkcB+4AQP01AoX+oAGe/3n/gALg+wwC8gKY+80DDQAv/DkEFwAAAJr/MP7nBGD+e/8hAvP5fwe7AMjy4wtVA7bztQh3AFX9XAe493kAmgcl+e8AJgAP/nMF8PqiACEG9flZAqMCe/u2A/D+b/0XAw//VwDs/sP/tgJk/N8B7wCW+yoHwP04+mQKVPyV+i4HLPtkAB8DS/hSBd0CF/pZBUv/Yf0xBXH9u/6SAU/+kgF2/h4AeANp/EMAOAOX/sUAvf67/54D6P5e/5MAVQCjAfz82gD8At77RAISAj79dgX7/sT8Awf4/a/8LgP+/SsC8/8F/JcGOACU/CcGF/7X/kkGIvz2/fYFrf9p/D8BLQWS/8X75wJbAp4A8QBO/MYEuwTk+GIEbQRi+MoE6AL++QQFAwG0/bYFBf/S/9QE4/3K//EByf6NADAAewFkADr9pwRiBL/8PQCeAZwAHQPr/yX9dgAxBO4AUvwjAoQBc/zGBKEBofo3BdwBYvtdBVQBC/wsA2T/Pv2FAygBvv3DAN0C6ABU/57/CwBEAjH/Pfz8AosAK/3LAx/+LP9iB8/7M/2UBdL8JAGsAlf7VQJ2ACr/DAKM+R8D6QXT9ycCzwJQ/FAFVvz9/xQIRPb9AAsH1PVIBUAD1faICaD+TfeoCl/9ePqmBmr7TQD9AyD5hwMLBO/5aAPWA/37av9D/2gAjgXh/SD7cwTD/mf9Vgcd+2z6TAmc/Db9mQbF+F0DrQh19gIDCgUx+TkEI/7M/PMIAP2c/J4BQP1LBsP/zfoNBk79Mv7wBTj9ZAGMASr+8QQG/Sj+XgRu+3QCUgQ1/EUDX/5//JsG+//n/WYA8P64A+H94/3RBv3+Ef9aBDL+R/9RAOAAggLx/AwBXwJF+74BjwJv/ekBBgIWATb+H/28BvMBVftmBAcA3vsmA8f+Wf6aA4X+bP/kAxH/of2CARgBbgDrAdH+L/yNAMsCIAHsAAAAhf8pAdAAXf5JAFsCTP1a/8cDePvj/QIFUv2NAE4ESPxDAXgCRP1bAm8B3gBgALb6lgFUAXT7bgNMAbb+OwGW+24DOwWh+hgB1ADi/loE7fnL/V4IHf7T/u0BoP9QAg37cAB7B4r5sv67BIn7KAEq/3D+Iwjr/C/9hwb6+rUAbwgH+1X+cQQI/Vn+4ABa/zsBVQAX/jUCBQRF/Mb93gZsAH/8KANm/zz9cgJ7Abf/5AAxArv/qfy+AQsDQ/7K/7kAsf+5/9X+qwEXA00AfP7i/78E6gBn/BEDSwCT/gQFefx9/M4EK/zt/y4Hb/zs/U8Dv//SAaIAPQC6AnH8lf56BtX+2/p+BV0Dr/l6AkkErfl4ApMD0vngA/UAZvtRBzv8sPvXDA38bPoeCsD6ZPxKCXj9AP1nATH92AGMAqX9wv01AmAE3fz6/WsFh/8s/p4BRwDvAe795/2UBJj/B//QAYD91AFkARD83QEBAVP+LwEA/twA/wPI/dj/LwTK/4z9FwJJAwn80f2SBeD+V/tcAQMBNgABAMUAcQEp/fwBegPs+6oDOgLe+PEEsAIZ+tgEmv8K/YkGoPut/WEIevoq+5YHIgAz/NoA8//i/6ADBALE/KUCfAOt+cQCnQZe+eL/ygIJ+yQDBQEt/MMDB/8HAF8FhftN/18GTv1A/gQFHgDJ+vwB9AWE+aL+tQu0+hH4iAhz/8n79wQBAEL9gf+EAf4C4v6yACUCbf+rAsP/Ef7lAaL+twG1AS77FgKUAP37WwWFAHP8EwboAPT6nAGUBFD/FPynBQsE2vWyAEoJoPzs/ggCxPwdA8YBHfsbApMCPfwzAocEU/v3/ksHXv8E/t4Ef/8b/twA/v2aAcYBeP0WAVEAMf0VANcCewRkAFb8HAGBA3YAQ/5uAJMCp/2F/wYFxv3k+3wC1QLaAXn/g/4ZADP/qwE3AUMAtgJc+0H/NAkH+6773gqD/536HwP9/ocARwPx+6D+5QWa/0L6FQP3A6b7EgL5BED92P+aAIP//AKTABwBHP9X/acF/P3y+oIIUf4g+0sG9Pom/mIH3frjARwItfnP/m4Gsv7N/n8D5ADx/PMAXAG8+sMAvQNb/TYC5ADP/dQEcv44/WMGagB1/4IBj/vQAAIDYv+zAXj94v7yA7797gBvBJr7dv7IBIr/cv1SATUBHv/VAlICEPwvAegCc/zhAuQD5PsP/6IAVv9m/+b+8wTxAEX7EQRm/5/9KAf1/Mr94QXy+vEBtAPG9n4FOwSX99oHiAHb9okGAwE1/IcE6fzP/skDvv1DABsA7gD5A2L8mP/FAxX+mQLl/2D7LgQo//j6VgRKAf78BwDBAPgCEQDq++EB5wSw/hn92QLWAO/7rQHpAav9awGm/yL/IQK5/CT/IQM9/2cBuf6n/fsEIgDp/QMBdv6PAwsBO/z2Arv8Y/3XBUv7ov/xBK74RQP+BZb4cAJZAi/8OQV//1v9XwKJ+8gBbwQQ+tb/hAKD/s4Bjf7D/kACC/7c/y8Bav+nAaT+lP/oArb9Xv99AWz+zAEk/1f97AMR/sX63QJMAb3/hgH3/tQA6/81/QIC1AEd/n/+qf9WAZP++P3fAb3+ngC9Awb9kwDCAnv7pACtAc/9FAGo+9f+JwWy+uQASQZQ+cwBDgWt+ZQEBQRm91wBVwPp+Y/+KgNZ/r/8NgPQAXv7sgKOAu77gwTKAZD5DQMGArr5Tf84A5r/r/zv/98B/Pza/ygDmP+cAHL+5P6wAtj8XgE3BMz4CwDBBGD7xwD//jH86wUN/lD8zgWh/ED9XARC/jkBOwHk+zkBdgCe/gAACP1lAUsA2vu1BG8B1fqyA6AADfzPAp7/MP75AdX9Pv5mAFH+MADr/6b/YwIgAAMA+wCA/cH/DgGM/Y8AtwA6/XsAN/9O/YUDTQBu+84EdwQT+q//SwQ/+3/8BANi/8H+rgA7/3kBZv9m/JwDpQJx/G8CigFi+wkAm/4M/egDtP27+40HfQAG+ooFiQCh+psFrgAj+hMDR/8X+7ACzf6/+8ACCwHF/qAD9AK0/fT9GwIiANj8UQB0ALv+FwBC/XD+kAH2/cQBAAXL/iQARQEL/iAA9f4bAJgBp/ri/8MEl/r3/j8EZPzCAn0E4/m9AQoGp/qL/rQFOv06+isCdAIW/UUA7AKy/bD+/gEs/7MAjwIVAC4AVf5S/0sDAP1n/RsGNP6q+hQFogAF+2IBbwGOAbQC2vzi/hIENADB/s8AEAFi/2v8RwBVAyr+Gv9UAUH/1gGY/9j+AAbB/+X8gAbC/Zj5Cwa//qH6lwZm/8v6pQWeAKr7fAPAAigA6wEsAB4Ajv/s/ZQBgQCQ/DMB+gGe/gUDXwJX/VQBPAKc/jEB4wJcAML9jv9MAmf8eP7JBsz8AP3LChkAG/rmA97+1P/BA/X7wgKkBLv42gCXBS77HgCUBb//XgASAsr/ywCv/6v8zwATAwv/TgH1AY79WAHIAVj/DwTQ/5n9CgXa/7f8aQGh/TH/IwPaAKMBmP/i/1kDAwA/AY0APv2YBEwBPPvRAnL+AfwlBVD/B/4wBkkAsv7WAwcAjf5v/3P/rAOpAdj7lv9yAvT9/P1GAhMDVAEyAOoA6ADg/2L/H/4OAZECY/1aAXYCpfrAAm4DRPr9BHcBpflSCBUAufj4Bl3+0fvYAyP9iwOBATT6kAi5/3f2fAVwAEX+tAJr/P8D5f9Q+YUHt/+2+pcGBP7L/mIEMvuv/yYBiv3hAZ39aABVArr6XgTUBDz6BgL6AV/97ACc/MEAeQS5+Wv9gQN//JYADgUO/Xb+2gMU/8j/JwJq+2j+OwSt/VT9QQBC/WT/rwFOARkAj/7pAcr/ev08Ajb+Tf6AAuj7Qf+uAtL8rgAi/3H9AgNd/WAASAVN+wb+oAGO/eYAuP0m/vsDcv6m/lUC8v7/+xD9CQSW/2b7ugbl/Qf4rgYs/o/7wAVK/DD/SQTU/DgAqf0H/iABgfhcBJcGsvS6AvsHBvds/+IGKf1y+mYDXAR891b/XQUS9hcCTAU/9cUGRgXM9mgGNP7++VwKg/ut+RMGD/sb/UADy/4L/+T70gGRBmf8U/48Aj7+IP8XAPUB7P5a/GABa/2S/x4Eyvnz/5MGWPw1AeUBrvtaAbb9WP9+BfT6H/7EBaX9Rf6B/4X+JwX9/wr6rALsA9L8tv6EAbv85/9pBTb9Ov7lBZn9nf39Axv9GP9JA4T8AwDuA+f8u/5gBGj/3/x4Ao8DLADL/V/+5ANKARP7jALYAY/6ygJ2Ajr9yQMeAeb+TAIU/90B6/+D/HYF4P/F+yEG3v7c+8ED/f4aAYACBP5jBQ4BsPoWBR8C+/t3AU8AKAGZA8f+k/73AKMBjwAX/ooC5gNV/m0BuwMA/mT+CwN+Arb+av92AzcBC/4VAJ4BIwJi/zX/0AWkAO77Xwa9AIL59wcSBBb5jwPCAQL9rQVi/1n7tQTeA3sB2v9U/SEClQIGAhIB0ftJBGYGOvvzAFIBdPuVBQsDtv09BFD/4P9OBIL9rf+9AXsBFAVN/lcAygQ6++f/fwOr/VsD7gCTAJoElvtLA/IDTvYYCGQHHPZ9B40DkviABiv8r/xyCQD6AwFsCdv5EgKRAqH8XAgN/F77LQyg/Ef8NAZ1+T8B5QRG+rQFqQJC+scGhAFg+/ADIgB//3QD9/7s/tb/xf+nAnYANfzK/z8IWQJC98ABQAXR+lkD9wPA+fICkwN7/KcBCf/p/f4CkwCQAeX/TP0+Ap/9T/7ZBSj8rv38CP3+2Ps2A9X+Sf7x/2L/8ANH/vP5rwRfAmP6OADiAFABzgT7/B7/CgX8+V3+ZAf5+P75lQYFAMv9sADG/fUA1AEu/zMBwQBy/nL+pwFiATD7if4hAoH8nv8dApn+3AAU/2T/JANh/ST+PgIG/ib/7/8L/5ABz/1A/oACkP1d/VEDbwE4+5n96wTi/iv6WQMQAZX7LwJ+Aq79mf0CAoYB/PnNAGADnfd5AZAE//c0AxMDdfnMBewApflxBTIAZfqrAUEBRv1U/OwAmACI/OMBGf7m/hcJIPuP+vQIh/uU/GoGXfrn/VICSvznAeYAS/5P/jX9gwbJAA76QgV2/Vz8XAfy+tn9XwVu+JwBeAY1+cgB2gOX+gcBygEr/dr/1gB7AHf/gQB1Aav9oABNA8r8+f5DBD3/tP7xAHv8Wv+gA9T8pP7hBb3/SP1TA6cCrf3G/KYDZAPF+u4AOAPZ+nMBvgHv/EQFZP+w+wcHFAH+/LQCcv4yAD4C9v1YAQkB9v2qAJIBJAHO/0UBaQI2/c7/MAO5/qcB8wEZ/QcBtgK5/5r/mgFhAuX9AAA8BcP+9P0hAgD+HgCoA9b/rgByApv+cv7aBIcDR/wHABcC8//LA139c/zZBmT+Yf1LB4L9of2UBT3/ngBbApf+QwHUAYcAlf15AC4GlftA/s8Jffya/LgF1vwMAfcD3/wpAjECKgDNAJD9WQJ7AZQAVATN+rUAXgfC+fUBIQPX98wH2QLD92wJ2gAJ+J4HKwEJ/MME2AG+/RH+3wKKAsv7FgLGAiD8bwEBAeMBewQl+oP//wc2/TT+fwNs/+//qP4iAZAEYPz4/S8ELv7e/8MDB/4PAC4Dov5gAKEBT/6gAcgBrP6gAeb+eP2HA7sAPP4qANr+YANhAub7NABxAR8CYAOR+qb/hwdt/A38HQMyAGr/FwAmARcAuf4GAur9if8hBm39Bf9tBOf8tQAqAAT+PAWJ+xv+jgfh+VoAvQS7+KsFhAGY+IYJ7/8H+zwFH/rIAsAFbvdhBigBh/V+CKAARvrwBd38gwA6A7D7AQfw/X/4igsC/hD5oQnk+yL8bwhv+QP8zwk7/wT6hgJXA4n+uP7EAeUB9wAc/33/CgI7/03/wAH//lkABwAB/+oDFf45/N0FUQA+/aAD7f8MAVYBx/u4AsEDt/zQ/5wBdgD5/i7/PgNK/RX+Lwi0/gX8XASR/QQCcwWf+QgCwQSC+QAD5gMH+wcBMACn/94D8v4wAGYAk/1YBCECUf7cAc/+lgEAAvz6TgL9A7P8XACFADYAEAE2/aoD9gI/+40DiAII/dMDp/8V/lICa/2/A54DrPc2AoAF7figAbgGZPxg/80D4P6m/9sC8/9Q/44Ce//R/QUDCQEY/Y7/qAASAtoAhP04AuMCVP3e/7ICewF/AH/+7wDIAjj+Lv5BAaoAcADz/xL/jwCWAW4AXv8uAMIBpwHv/+D/LQGF/6T/KQKV/pH+LAPX/mb+6QGg/kACRQEo++MFhwMN+OgDBQOc+34Gv/6C+UcGLP4W/QoGffsc/9cF2vtZAD4CgP09BAAAsv22A0T9mADeBPX53/01Bdj/g/6S/6oAFv9y/n0Ecf8v/YwFG/2p/PEHbf3c+wYFZvyB/rEFSPyb/VwETv0S/ecEZAAO/CQDAQHO/BQEyv8o+1sDWP9T/mIEwftX/UsE8/yQ//ACTv0LAKABGwBO/wv+GQP7AIv7/QD3AMH+9f/l/fkApgAh/YcAxf9/AJMAxvx9A8EAXvsMBZn9tfkXB0/+qPvXBZL8DvylAZH9OgJHAW39jAEC/nH/5wIh/Z7/pAC+/VkCUwAG/Vn+Df6RAnAA0fopArQC1vycAKn/Hf0XAgMBdv4oAd/9AP31A3n/F/r8AdgA9fyOAgf/n/2sApP+UP91/+f8bAbcAar3BwGMAQb+FgEp/UMBLQFr+vIDCQGx+fEE0P9L+xUGUP8H/DoCQ/5TAPUAgP3OAYv+bf3+Ah3+mf4FA6z+sf8aARj/WQBA/u8AMwQ1/LT+dQTN+kD9RAaR/u79lwKh/YUAnAEO/SoDjQA9/KUFtf+L+o4Fgf9V+xEET/54/rEFjf7a/OQA4//3AVwBrP5qAFgBHgD5/7sBjf4+/WAEWP89/I4Hkv9l+UQF9/4W/UAGm/6mAI4EU/qS/8kDGP+MAqP95f3LBsf+sfw0Ayr+kP8VA0kAsAPg/8b5xQMEBfT6ZwEcBYL69/9dBvv7ZP8RBNT75wJHBNv5vwN5BIb5qANUBNP6jAGBAYf+GATF/h78PwSzAdb8/QDnAQ8ATAEbADAArgLL/Qv+LAZ9/wH7sQTzAP/7RgKNAFcAswEU/eUBxAKK/HYCbgOw/QcAgQCyAAkAkf1qAxcCe/smAecBVf7gAEf/gQDoA1kAPP4F/3QCjgF4+yUCVgTg+3kBUAF0++gCiv+X/SkGtv4t/b0Dtv7BAGIBEf5+Ahn+4v/MBSL70f3sA6X8HwIpAQv7lgRCAsL9AgKw/f//5wEY/+gDav4d/k4ERvqyAIcGuPY/AaUIXvmYAWIENvqSAaMBdf8FBC7/QwAbAL/7NgOvAan9WwIP/lMALgPR+3ADMgN5+KYEaQW3+dEDZgMZ+o4CZwL5/BQCJgDs/ekBif9H/+oDngBF/DsB3APY/i4AjQNy/kv+EAJH/2wAIwKV/osAWQAj/aoDJgSg+4P/dQU/ABX+vQF8AiIAYv7xADwCov6n//kAhf7jAlkDkf0WAagAKv61BPkAmf7FA2n9GgEFBAn4sgNkB+D1cgMYCI33OQFdA6X8/wStAZn+SwAS/zwF7P12++4FzPzNAJcFYfcoBykFDPBTCeAHafPxCLIC8PcCCfz8+/uWCOP6i/5hBW39DgLg/zT+fgLh/F8CKANV+/ADvgJI/OX/MP4sA5gB0vkbBkADrvfCAr4Bd/zqAp7+8v6wAt39mACUAFT94QGiAMH+cwHa/3T+7P6FAPEARwD3AQz9zfsxBEsAwv2uA1f9vfy0A3AAgwDU/xb9MAOPAFr7GAF2APD+kQL6/Y37eALKAu/8Hv9jAk/+B//1ALL++gGX/gH7UgVLAGL4BQR2ACn6AQTQ/8787gOy/Q78BQQVA8r9v/zEAXIAk/uOAoEAxPo7BdwBwPmVA+QAHfvDA+IAffx4A0wBhv3EAsH/cvrMAToCVPwaBOUBOvdfAosGqvuB/uwAPQHPA+r7PP3VAzz+c/9YARH+2gAw/97/IwMG/fn+/gLI/ar+xgE8A7sAHvxdAxIBK/lTBq0E9vdwAjgDEPwTA28BV/4XAn8AKQHsALv+fQAbAOcBLwLp/2IDRf7A+msFwAKR+w4BUAEHAN7/gf7MBF0CHfu+AcoBOv4zBMr/4vukAwEB+/xcAd7/EwB2Atf9uf/yA9f+6P7yAmABdwGBAKj+pwGzAUcAtf+0/esBuQFm+0AD+QY4/W//RgJ//7EEKgB++usE4QIm+xQE3QJ5+SYANQRi/m//6AD4/RICXQbe/mz7xAIFAUr94AOwAE76NwFpAYb9eQEY/yr/ygSt//79WwJe/zIAZQIL/zgA0gCw/v//AwCoALkBmf73/jwCOwDg/tEC9gLi/j8A5ABb/sQBIgEM/e8AFv8O/MEDGgTG/c/96QGXA3385/wnBRH+1f1TBib8JPv3BNr+Mf3mAJ7/SgF0/lT/YASb/on+2wJ7/1D/Gv+cAKcCjvxJ/+MCsP0jArIAgfwhBg4BUft4BcH/u/vPA00AxQC/APD62AOoAzL75wLmAGL75wJsAFT/3gMT/pr/9gLn/fv/Pf9A/WgDngAr/ZIBCwAF/34CkwKC/YX7EQS+AsL6LgSeAyL5LQIJBNz8fQEFAXH/pQEx/zEBzAE3/5EA/QDXAlz/3fwhBWYATPyxBDn/Q/8sA7z6hQS+Btv2DgI1BxD5VP+9BEX+MP7vAcEDeP3f/e0EeP3C/aYEHf1A/jgCvf4NAyABMf0dArf/cv6lAeX/MwHtAXH/Bf9aAA0DyP8X/hkDnP6//J4EmwIC/kf/TgGCAlL/DQDvAav9qQEuAxf7IAB/BD385v7EBcP/GvwZAiMCsv1lAakBqPtJ/8MDUwBN/o/+ZgASAeH9If7NAJoA8v5t/1EDAAJi/EP+OAI6AJD9oP/SAXT+ov6IAoMAXgAHAQ3+EwDvAJz/kgHz/wn/+/+p/9oAeP3f/UsDw/5K/fEA9f9eAdj+m/74AoT9xf+hAk76dwGsA1b57/95AYL9wALe/iL/QwP3/Oz+wAKe/2j+Ef4eAS7/Xf04A779zvw8AzP8D//TAnn87gIgAC38hQYq/qX6xwNf/VL/QgIb/bgC5P5a/N4EGwCp/0QCD/71Af/+S/68BeP87PtWBHz91PxvAtr/bf1JAH0Ea/0N+8EEx/6w/UcGQfwc/I4EsP5y/jD+nv4PBFf9rP7BBKr+ewHQAWb+hwOr/aX9dgV8/a39QQPo/vsAJAEb/q3/KP+1AQwCpv/dAdX+0/43BAUBUP2Z/XIAoAH2/RwBzQA9/OEC0AEo/gQD+v0s/tEDOf9t/0v+cP79A/H8j/4HBFH67/8EBc37aAB/AQL+fgK7/zYAMQHn/SECTf4G/Y8D7fwN/+wDZvzpAaMCjvzkA4/+vPrTBfsACP2EAZP9lgBbAlr8ZgBVAMX61AHmA/j6B/45BbP/JvwAAGAAGv/4/Yr/rQGc/O79sgLC/Nr+aQL++rn/UATY/G3/OAIH/u3/5gDe/hH/p/9gAG4Aov8T/sX/VgEE/awAXwPX+ncArQRk+7kBegL4+d0CKQEy+kACN/8C/d8Ctv69/6QAzvzIATX/4f0EBln+i/pHBKD/JPydAu//iv2K//z9f/8RAHr9ZAHfAaX8JAEUArD6vwBQBA/7I/7EAhH+xf81/7z9rAOtAYv+6gB//mAAGwPa/1sCFAKu/YQBJgGe/AMA+QBQ/a7+FwJNAIr8HP/dAV7/AwCx/8v7/v15AFz/AQBV/h/98f+i/yH+6v7u/hcAuAKYAd399/8SBIn/s/xGAjwCuv3R/RsAZwFL/tn9fwPU/wP7FwL1AeL7cgC6Aoj9yP0LAXf/zvw6/hkAjv/X/kD+KACrAQf+A//KAgH/jf63AVL/M/8//0j9EwD9/5v+IACl/FD9ggGN/hMA2AC5+wMBzwMv/VT9cv6BAPAC0vxx/bsBDf4qACMCs//1ALv+2P/wApP+nP//AGIAVQMM/d77/AFZ/ncA0/51+R8FHwLm+CkCjv8L/+QDB/tqAHMBRvmfBVoBRPm8BRX+R/zXBQn7Zv/GBX/8ZQLYAFj8zAW1/+D7cAJN/2D/nv5V/ogCo/23/58CqPsvAYQC4PugASMCWv/iABv+XgG2AiX9aP8KAlUA0/1X/ngDlACc/hcDav7I/Z0C2P65/oMA1f6Y/9H+1f6q/rL+3AFS/Q38dgN0AJj8av9kAfACR/8k/zMBQfwkASMD7Ps0A0AC4fnqAk4CRP0XA3b+0f3PA9H+lf50AJz+rQHo/v78wgHh/er7uwBv/2L/RwFL/sn+fQBZ/Zj/hwPL/Qf8mAGi/4X+GQJw/nH8VwDJAKYAZv+z/KT/fAK3ALMAHQAh/d7/7gLV/X/+mQML/ur9bwRe/yj+RAJ2/ioA/gFJ/jUCUQAm+2ECXwKY/GQA3P9i/L3+//9VAM/+8P1bAl4AqPs/AKkBMv4iACIBJABuAOr+bAC0An3/if9rAgUB+QBwAJv9uwERBlQByv0U/4H/+QBBAVH+S/8oARL/Yv+F/wv+WQC5/3r+vQFU/639JgFJ/4cAwgJf/tgA0AGc/BABHwMsACYDuwB2/lcCCQEcAaABC/5aANQBaP/p/5H+jP/WAQb+3/25/7b9A/81/xH+mgBt/27+SQD3/ID9EwOwAN39NAAbAKwAZQL5APv/hwB7AQMBC/85ARsC5P6UAekBNv2eASgDB/wv/XkBggEHAYT9Svx5/3QAdwDB/mb8Jv71/8X/5P5D/mj/1P/eAJQBYP6N/i8BogCKAfEAXP/zAfoBdAB2AIP/MwExAUH/wgHzAF7/aQHi/lj/YQIR/+L/jQAG/UgBFgGg+0cB3QJj/W4AoABy+9v9ewGHAMb/yP93/xT/8v7o/gkASgLSAfv/QwDkAK0ByAHaAMwBbQEPAFMC2AFF/sP/7wGzAdECCQHG/S0BGAQLAG//JQLO/4H/MwINALT+ZP/i/nkBfwGC/aj+YACk/0UAif+Y/9gAWQAxAdr/iv0LAe0BFv8WAWUCyQA2AMH+eP55AJwAxv+cAMkAbP+eANAB//6J/zgCqgCSARkCJv5//zECAwGQAWQBUgGrAbL+tf8AAvX/awHjAV7/HgFsABb/igLjAdr/awHsAH3/9/5O//8ATAHkAPH/u/5a/0n+If49AS4ABf9lAbIA4//G/7T+TgHTAlQBbwHO/2//IwKuADP/oQFKApYAO//t/9wAHgA/ATMCAQE5AWgAYgAqA/UBSwBnAdr/Df+U/xr/FgG3AUcAOwBX/vD9t/92/gX/wQAZADUBngAD/7cB1AE0AG8CEAK9/w0Au/+5/zsBbQEeAbkApP/r/04B9QD3//sA2gHgAAUBzgF/ADP/Q/+S/7IAQwCe/Hf8DgG7AV7/4/8oAL/+bv4P//f/bgDxAJABAAAa/8MASgF3AQsBz/63/xQCOwGmAL0A4v9LAKoAr//9//cA8f8//+wA4ABD/6T/mP9Q/07/p/xk/H//B/+R/pQAKAAP//n+nv4D/+X/DAGlAdgAvQCgAPP/8wCQASQAEf/5/kP/bP9k/9z/iQC7ADoAcf8q/4X/YgDDADYA1v9a/xL/8f9XAOn/xv8BAFkA+/+i/8P/uf/uAC0B7P5Q/xQBDQAW/6j+fv65//v/vf86ACIAdADaAE0As/9t/7cABgLLAAUAbgAZAPf/CQBsAHkAJP+J/yIBrgBuAOIAKACp/+n////l/08AsADS/6v/JADy/qD+Sf+D/gf/gwAwAH3/Sf/S/4EAOAB0AE8Ab/82AGoAyv+zAKIAWQAoAUEAEQBKAXIA8f+oADQAhf/k/v/+OwBuAEkAfwD1/8P/xv+D/87/5f9HAKYACf9d/vX/u/9k/iD/aABTABkAkwCLAG4AXgF1AVkA/f/p/5T/lv+r/5z/kv8LAH0Alv/i/sH/bgBNAM7/MP95/6oAeQGuAJX+Jv4oACYBBwBH/4X/nP+x/8H/KP8J/w8ArgByAA8ALABFAcQBCQHDAAwBuQGfAggCkQAZAIEARwEQAev/bABEAiEDnwIHAZD/hf9XAGQBFgJtASYABwDFALAAdABaAdIBVAFtAWQBVwDO/9AAOAKIAVb/Qf/xAD0BAwAi/2j/zv/l/8sAAQGU/63/QwFnAaAAMgAoAJgARQHdAbcBLwFSARoBbgCUALsAxwBiAasBewHkAEMAeQBuADsADAF3ARgBkQD7/3AA+QCWALkAFQD9/s7/HQCc/zQA9//G/6oA1v8D////nAD3APcAlAB/AesBWgHOAZoBswDxAMEAMABuAI0AmABeAIX/b/+x/4P/1P8FAJL/df+9/wcA7/95/8P/WgALAKL/g/9c/6v/BwDF/4n/oP/1/8UAHAFkADIAtQCmAIsAuwBuACwAOAANAA8AJADp//H/GQD3/+3/+//9//3/4P/5/yoAAQDj/wcABwDr/+D/5////wMA8//r/xcARQAXAAAAIAD//+3/FQD9/+3/+f/i/wMAMgANAAEAHQAFAOD/7f8FAOn/6/8HANz/yv/7//n/BQAZAOX/4//9/+v/AwAXAOv/4v/z//X///8AAPn/+f8AAAkAFwAHAOv//f8dABMAGQAkABEAFQANAPf/CwAAAN7/AwAZAPn/6f/t//n/BQD7//f/AQD//+n/1v/l//3///8LAP//4/8AABMABwAHAPn///8XAPf/5f/7/+//7//5//H/BQALAPP/9/8BAAkADwAAAP//FQAVAP//4//U/+X/7//p//f/AQDz//X/AADr/+//AwABABkAIAAAAAMAAwDp//3/DQADAAUA9//v//3/9/8LABkA9//z//v//f8XAAEA2P/l/+P/3P/7//3/8//7/+v/3v/g/9r/4P/n/+3/9f/1//P/AAABAAAABwAFAPv/7f/e/9z/BQATAOv/4P/n/+D/9f///+f/8/8BAPn//f////f/DQAeAAUA9/8LABEA9f/l/+f/8f8LABUACwATAAkA//8JAAUA+//3//P//f/7/+n/7f/z//H/+f/x/+P/8/8BAAAA9//x//X//f8AAPX/7/8AAP//7f/z//H/7f8AAAEA/f8LAA8AAQD5//n/BQAJAP3/7f/3/w8AAQDp//H/+f8AAAsAAQAAAAsABQANAA8A+/8BABUABwDz/+3/+/8NABEA///1/wEADQAPABUACQADABsAFwAAAAAA//8JABsAAADr//P/6f/v//f/7/8AAAkAAAAHAAUAAAARABEADQAbAA0A9//9/wcACwARAA0ABQAHAAMAAQAJABEADwAHAP//+f/3//n/AwD5/+P/7f/p/+X/9f/n/+D/9f/z//X/AwDz//P/CwAPAAcA+//1/wkAEQALAAcA+/8HAA8A/f8BAA0AAwAAAPP/5f/5/wEA9//x/+//9/8DAAkAAQD1//f/AAD///3/AAD///3/+//7/wUAEQALAAEAAwADAAAAAAAFAAsADQAPAAkA/f/z//f/+//9/wAA+f/5/wEA9f/z/wMA/////wcA+//3/wEA8//t//X/8////wcA///5//n/8//x//X/9f/1//3/AwD///v/+f///wcAAwD//wcACwAPABMACQAFAAkACwATAAkA/f8BAAsABwD///3/CQAJAP//+//9////AwD7//P/8//v//X/+//x/+//+f/7//n/9f/v//X/+//7/wAAAwAAAAEAAwD5//P//f/9/wMADQADAAMADQABAAAAAwD5//3/CQAAAP//BQABAAAAAQADAAsADwAJAAEA///9//v//f8BAAEA/f8AAAEA+//1//n//f/9/////f/9////+//9/wMAAwD7//X/9//9/wAABQAAAPn/AQAJAAcABwABAP//BwABAPv/AQADAAAA+//1//3/AwAAAPv/8f/1////+f/3//v/9f/7/wMA/f8AAAEAAQAJAA0AAwADAAcABwANAAsABwABAP//AQAFAAMAAQADAAAA/f//////AwAFAAAA//////v//f////v////9//f///////3/AQABAAUACQADAP3/AQABAAMAAwD9////AQD///3/+//7////AQD///n/+f///wEAAQD///3/AAD///v////9//3////7//v////9/wAAAAD9//3/AAAAAP3/+//9////AAAAAP3///////v///8BAAAAAAAAAP3///8BAP///f///wAAAAD///3//f///wAA//8AAAEAAAABAAAA//8AAAEAAAD//wAAAAABAAAA//8AAP//AAD//wAAAQABAAEAAwABAAAAAAABAAAAAAD///3///8AAAAAAQAAAAAAAQAAAAEAAAABAAAAAQABAAAAAAABAAAAAQAAAAEAAAABAAAAAQAAAAEAAAABAAAAAQAAAAEAAAABAAAAAAD//wAA//8AAP//AAD/////AAABAAAAAQAAAAEAAAABAAAAAQAAAAEAAAAAAP//AAD//wAA//8AAP//AAD//wAA//8AAP//AAD//wAA/////wAA//8AAP//AAD//wAA//8AAP//AAD//wAA//8AAP//AAD//wAAAAD//wAA//8AAP//AAD//wAA//8AAP//AAAAAAAAAAAAAAAAAAAAAAAAAAAAAAAAAAAAAAAAAAAAAAAAAAAAAAAAAAAAAAAAAAAAAAAAAAAAAAAAAAAAAAAAAAAAAAAAAAAAAAAAAAAAAAAAAAAAAAAAAAAAAAAAAAAAAAAAAAAAAAAAAAAAAAAAAAAAAAAAAAAAAAAAAAAAAAAAAAAAAAAAAAAAAAAAAAAAAAAAAAAAAAAAAAAAAAAAAAAAAAAAAAAAAAAAAAAAAAAAAAAAAAAAAAAAAAAAAAAAAAAAAAAAAAAAAAAAAAAAAAAAAAAAAAAAAAAAAAAAAAAAAAAAAAAAAAAAAAAAAAAAAAAAAAAAAAAAAAAAAAAAAAAAAAAAAAAAAAAAAAAAAAAAAAAAAAAAAAAAAAAAAAAAAAAAAAAAAAAAAAAAAAAAAAAAAAAAAAAAAAAAAAAAAAAAAAAAAAAAAAAAAAAAAAAAAAAAAAAAAAAAAAAAAAAAAAAAAAAAAAAAAAAAAAAAAAAAAAAAAAAAAAAAAAAAAAAAAAAAAAAAAAAAAAAAAAAAAAAAAAAAAAAAAAAAAAAAAAAAAAAAAAAAAAAAAAAAAAAAAAAAAAAAAAAAAAAAAAAAAAAAAAAAAAAAAAAAAAAAAAAAAAAAAAAAAAAAAAAAAAAAAAAAAAAAAAAAAAAAAAAAAAAAAAAAAAAAAAAAAAAAAAAAAAAAAAAAAAAAAAAAAAAAAAAAAAAAAAAAAAAAAAAAAAAAAAAAAAAAAAAAAAAAAAAAAAAAAAAAAAAAAAAAAAAAAAAAAAAAAAAAAAAAAAAAAAAAAAAAAAAAAAAAAAAAAAAAAAAAAAAAAAAAAAAAAAAAAAAAAAAAAAAAAAAAAAAAAAAAAAAAAAAAAAAAAAAAAAAAAAAAAAAAAAAAAAAAAAAAAAAAAAAAAAAAAAAAAAAAAAAAAAAAAAAAAAAAAAAAAAAAAAAAAAAAAAAAAAAAAAAAAAAAAAAAAAAAAAAAAAAAAAAAAAAAAAAAAAAAAAAAAAAAAAAAAAAAAAAAAAAAAAAAAAAAAAAAAAAAAAAAAAAAAAAAAAAAAAAAAAAAAAAAAAAAAAAAAAAAAAAAAAAAAAAAAAAAAAAAAAAAAAAAAAAAAAAAAAAAAAAAAAAAAAAAAAAAAAAAAAAAAAAAAAAAAAAAAAAAAAAAAAAAAAAAAAAAAAAAAAAAAAAAAAAAAAAAAAAAAAAAAAAAAAAAAAAAAAAAAAAAAAAAAAAAAAAAAAAAAAAAAAAAAAAAAAAAAAAAAAAAAAAAAAAAAAAAAAAAAAAAAAAAAAAAAAAAAAAAAAAAAAAAAAAAAAAAAAAAAAAAAAAAAAAAAAAAAAAAAAAAAAAAAAAAAAAAAAAAAAAAAAAAAAAAAAAAAAAAAAAAAAAAAAAAAAAAAAAAAAAAAAAAAAAAAAAAAAAAAAAAAAAAAAAAAAAAAAAAAAAAAAAAAAAAAAAAAAAAAAAAAAAAAAAAAAAAAAAAAAAAAAAAAAAAAAAAAAAAAAAAAAAAAAAAAAAAAAAAAAAAAAAAAAAAAAAAAAAAAAAAAAAAAAAAAAAAAAAAAAAAAAAAAAAAAAAAAAAAAAAAAAAAAAAAAAAAAAAAAAAAAAAAAAAAAAAAAAAAAAAAAAAAAAAAAAAAAAAAAAAAAAAAAAAAAAAAAAAAAAAAAAAAAAAAAAAAAAAAAAAAAAAAAAAAAAAAAAAAAAAAAAAAAAAAAAAAAAAAAAAAAAAAAAAAAAAAAAAAAAAAAAAAAAAAAAAAAAAAAAAAAAAAAAAAAAAAAAAAAAAAAAAAAAAAAAAAAAAAAAAAAAAAAAAAAAAAAAAAAAAAAAAAAAAAAAAAAAAAAAAAAAAAAAAAAAAAAAAAAAAAAAAAAAAAAAAAAAAAAAAAAAAAAAAAAAAAAAAAAAAAAAAAAAAAAAAAAAAAAAAAAAAAAAAAAAAAAAAAAAAAAAAAAAAAAAAAAAAAAAAAAAAAAAAAAAAAAAAAAAAAAAAAAAAAAAAAAAAAAAAAAAAAAAAAAAAAAAAAAAAAAAAAAAAAAAAAAAAAAAAAAAAAAAAAAAAAAAAAAAAAAAAAAAAAAAAAAAAAAAAAAAAAAAAAAAAAAAAAAAAAAAAAAAAAAAAAAAAAAAAAAAAAAAAAAAAAAAAAAAAAAAAAAAAAAAAAAAAAAAAAAAAAAAAAAAAAAAAAAAAAAAAAAAAAAAAAAAAAAAAAAAAAAAAAAAAAAAAAAAAAAAAAAAAAAAAAAAAAAAAAAAAAAAAAAAAAAAAAAAAAAAAAAAAAAAAAAAAAAAAAAAAAAAAAAAAAAAAAAAAAAAAAAAAAAAAAAAAAAAAAAAAAAAAAAAAAAAAAAAAAAAAAAAAAAAAAAAAAAAAAAAAAAAAAAAAAAAAAAAAAAAAAAAAAAAAAAAAAAAAAAAAAAAAAAAAAAAAAAAAAAAAAAAAAAAAAAAAAAAAAAAAAAAAAAAAAAAAAAAAAAAAAAAAAAAAAAAAAAAAAAAAAAAAAAAAAAAAAAAAAAAAAAAAAAAAAAAAAAAAAAAAAAAAAAAAAAAAAAAAAAAAAAAAAAAAAAAAAAAAAAAAAAAAAAAAAAAAAAAAAAAAAAAAAAAAAAAAAAAAAAAAAAAAAAAAAAAAAAAAAAAAAAAAAAAAAAAAAAAAAAAAAAAAAAAAAAAAAAAAAAAAAAAAAAAAAAAAAAAAAAAAAAAAAAAAAAAAAAAAAAAAAAAAAAAAAAAAAAAAAAAAAAAAAAAAAAAAAAAAAAAAAAAAAAAAAAAAAAAAAAAAAAAAAAAAAAAAAAAAAAAAAAAAAAAAAAAAAAAAAAAAAAAAAAAAAAAAAAAAAAAAAAAAAAAAAAAAAAAAAAAAAAAAAAAAAAAAAAAAAAAAAAAAAAAAAAAAAAAAAAAAAAAAAAAAAAAAAAAAAAAAAAAAAAAAAAAAAAAAAAAAAAAAAAAAAAAAAAAAAAAAAAAAAAAAAAAAAAAAAAAAAAAAAAAAAAAAAAAAAAAAAAAAAAAAAAAAAAAAAAAAAAAAAAAAAAAAAAAAAAAAAAAAAAAAAAAAAAAAAAAAAAAAAAAAAAAAAAAAAAAAAAAAAAAAAAAAAAAAAAAAAAAAAAAAAAAAAAAAAAAAAAAAAAAAAAAAAAAAAAAAAAAAAAAAAAAAAAAAAAAAAAAAAAAAAAAAAAAAAAAAAAAAAAAAAAAAAAAAAAAAAAAAAAAAAAAAAAAAAAAAAAAAAAAAAAAAAAAAAAAAAAAAAAAAAAAAAAAAAAAAAAAAAAAAAAAAAAAAAAAAAAAAAAAAAAAAAAAAAAAAAAAAAAAAAAAAAAAAAAAAAAAAAAAAAAAAAAAAAAAAAAAAAAAAAAAAAAAAAAAAAAAAAAAAAAAAAAAAAAAAAAAAAAAAAAAAAAAAAAAAAAAAAAAAAAAAAAAAAAAAAAAAAAAAAAAAAAAAAAAAAAAAAAAAAAAAAAAAAAAAAAAAAAAAAAAAAAAAAAAAAAAAAAAAAAAAAAAAAAAAAAAAAAAAAAAAAAAAAAAAAAAAAAAAAAAAAAAAAAAAAAAAAAAAAAAAAAAAAAAAAAAAAAAAAAAAAAAAAAAAAAAAAAAAAAAAAAAAAAAAAAAAAAAAAAAAAAAAAAAAAAAAAAAAAAAAAAAAAAAAAAAAAAAAAAAAAAAAAAAAAAAAAAAAAAAAAAAAAAAAAAAAAAAAAAAAAAAAAAAAAAAAAAAAAAAAAAAAAAAAAAAAAAAAAAAAAAAAAAAAAAAAAAAAAAAAAAAAAAAAAAAAAAAAAAAAAAAAAAAAAAAAAAAAAAAAAAAAAAAAAAAAAAAAAAAAAAAAAAAAAAAAAAAAAAAAAAAAAAAAAAAAAAAAAAAAAAAAAAAAAAAAAAAAAAAAAAAAAAAAAAAAAAAAAAAAAAAAAAAAAAAAAAAAAAAAAAAAAAAAAAAAAAAAAAAAAAAAAAAAAAAAAAAAAAAAAAAAAAAAAAAAAAAAAAAAAAAAAAAAAAAAAAAAAAAAAAAAAAAAAAAAAAAAAAAAAAAAAAAAAAAAAAAAAAAAAAAAAAAAAAAAAAAAAAAAAAAAAAAAAAAAAAAAAAAAAAAAAAAAAAAAAAAAAAAAAAAAAAAAAAAAAAAAAAAAAAAAAAAAAAAAAAAAAAAAAAAAAAAAAAAAAAAAAAAAAAAAAAAAAAAAAAAAAAAAAAAAAAAAAAAAAAAAAAAAAAAAAAAAAAAAAAAAAAAAAAAAAAAAAAAAAAAAAAAAAAAAAAAAAAAAAAAAAAAAAAAAAAAAAAAAAAAAAAAAAAAAAAAAAAAAAAAAAAAAAAAAAAAAAAAAAAAAAAAAAAAAAAAAAAAAAAAAAAAAAAAAAAAAAAAAAAAAAAAAAAAAAAAAAAAAAAAAAAAAAAAAAAAAAAAAAAAAAAAAAAAAAAAAAAAAAAAAAAAAAAAAAAAAAAAAAAAAAAAAAAAAAAAAAAAAAAAAAAAAAAAAAAAAAAAAAAAAAAAAAAAAAAAAAAAAAAAAAAAAAAAAAAAAAAAAAAAAAAAAAAAAAAAAAAAAAAAAAAAAAAAAAAAAAAAAAAAAAAAAAAAAAAAAAAAAAAAAAAAAAAAAAAAAAAAAAAAAAAAAAAAAAAAAAAAAAAAAAAAAAAAAAAAAAAAAAAAAAAAAAAAAAAAAAAAAAAAAAAAAAAAAAAAAAAAAAAAAAAAAAAAAAAAAAAAAAAAAAAAAAAAAAAAAAAAAAAAAAAAAAAAAAAAAAAAAAAAAAAAAAAAAAAAAAAAAAAAAAAAAAAAAAAAAAAAAAAAAAAAAAAAAAAAAAAAAAAAAAAAAAAAAAAAAAAAAAAAAAAAAAAAAAAAAAAAAAAAAAAAAAAAAAAAAAAAAAAAAAAAAAAAAAAAAAAAAAAAAAAAAAAAAAAAAAAAAAAAAAAAAAAAAAAAAAAAAAAAAAAAAAAAAAAAAAAAAAAAAAAAAAAAAAAAAAAAAAAAAAAAAAAAAAAAAAAAAAAAAAAAAAAAAAAAAAAAAAAAAAAAAAAAAAAAAAAAAAAAAAAAAAAAAAAAAAAAAAAAAAAAAAAAAAAAAAAAAAAAAAAAAAAAAAAAAAAAAAAAAAAAAAAAAAAAAAAAAAAAAAAAAAAAAAAAAAAAAAAAAAAAAAAAAAAAAAAAAAAAAAAAAAAAAAAAAAAAAAAAAAAAAAAAAAAAAAAAAAAAAAAAAAAAAAAAAAAAAAAAAAAAAAAAAAAAAAAAAAAAAAAAAAAAAAAAAAAAAAAAAAAAAAAAAAAAAAAAAAAAAAAAAAAAAAAAAAAAAAAAAAAAAAAAAAAAAAAAAAAAAAAAAAAAAAAAAAAAAAAAAAAAAAAAAAAAAAAAAAAAAAAAAAAAAAAAAAAAAAAAAAAAAAAAAAAAAAAAAAAAAAAAAAAAAAAAAAAAAAAAAAAAAAAAAAAAAAAAAAAAAAAAAAAAAAAAAAAAAAAAAAAAAAAAAAAAAAAAAAAAAAAAAAAAAAAAAAAAAAAAAAAAAAAAAAAAAAAAAAAAAAAAAAAAAAAAAAAAAAAAAAAAAAAAAAAAAAAAAAAAAAAAAAAAAAAAAAAAAAAAAAAAAAAAAAAAAAAAAAAAAAAAAAAAAAAAAAAAAAAAAAAAAAAAAAAAAAAAAAAAAAAAAAAAAAAAAAAAAAAAAAAAAAAAAAAAAAAAAAAAAAAAAAAAAAAAAAAAAAAAAAAAAAAAAAAAAAAAAAAAAAAAAAAAAAAAAAAAAAAAAAAAAAAAAAAAAAAAAAAAAAAAAAAAAAAAAAAAAAAAAAAAAAAAAAAAAAAAAAAAAAAAAAAAAAAAAAAAAAAAAAAAAAAAAAAAAAAAAAAAAAAAAAAAAAAAAAAAAAAAAAAAAAAAAAAAAAAAAAAAAAAAAAAAAAAAAAAAAAAAAAAAAAAAAAAAAAAAAAAAAAAAAAAAAAAAAAAAAAAAAAAAAAAAAAAAAAAAAAAAAAAAAAAAAAAAAAAAAAAAAAAAAAAAAAAAAAAAAAAAAAAAAAAAAAAAAAAAAAAAAAAAAAAAAAAAAAAAAAAAAAAAAAAAAAAAAAAAAAAAAAAAAAAAAAAAAAAAAAAAAAAAAAAAAAAAAAAAAAAAAAAAAAAAAAAAAAAAAAAAAAAAAAAAAAAAAAAAAAAAAAAAAAAAAAAAAAAAAAAAAAAAAAAAAAAAAAAAAAAAAAAAAAAAAAAAAAAAAAAAAAAAAAAAAAAAAAAAAAAAAAAAAAAAAAAAAAAAAAAAAAAAAAAAAAAAAAAAAAAAAAAAAAAAAAAAAAAAAAAAAAAAAAAAAAAAAAAAAAAAAAAAAAAAAAAAAAAAAAAAAAAAAAAAAAAAAAAAAAAAAAAAAAAAAAAAAAAAAAAAAAAAAAAAAAAAAAAAAAAAAAAAAAAAAAAAAAAAAAAAAAAAAAAAAAAAAAAAAAAAAAAAAAAAAAAAAAAAAAAAAAAAAAAAAAAAAAAAAAAAAAAAAAAAAAAAAAAAAAAAAAAAAAAAAAAAAAAAAAAAAAAAAAAAAAAAAAAAAAAAAAAAAAAAAAAAAAAAAAAAAAAAAAAAAAAAAAAAAAAAAAAAAAAAAAAAAAAAAAAAAAAAAAAAAAAAAAAAAAAAAAAAAAAAAAAAAAAAAAAAAAAAAAAAAAAAAAAAAAAAAAAAAAAAAAAAAAAAAAAAAAAAAAAAAAAAAAAAAAAAAAAAAAAAAAAAAAAAAAAAAAAAAAAAAAAAAAAAAAAAAAAAAAAAAAAAAAAAAAAAAAAAAAAAAAAAAAAAAAAAAAAAAAAAAAAAAAAAAAAAAAAAAAAAAAAAAAAAAAAAAAAAAAAAAAAAAAAAAAAAAAAAAAAAAAAAAAAAAAAAAAAAAAAAAAAAAAAAAAAAAAAAAAAAAAAAAAAAAAAAAAAAAAAAAAAAAAAAAAAAAAAAAAAAAAAAAAAAAAAAAAAAAAAAAAAAAAAAAAAAAAAAAAAAAAAAAAAAAAAAAAAAAAAAAAAAAAAAAAAAAAAAAAAAAAAAAAAAAAAAAAAAAAAAAAAAAAAAAAAAAAAAAAAAAAAAAAAAAAAAAAAAAAAAAAAAAAAAAAAAAAAAAAAAAAAAAAAAAAAAAAAAAAAAAAAAAAAAAAAAAAAAAAAAAAAAAAAAAAAAAAAAAAAAAAAAAAAAAAAAAAAAAAAAAAAAAAAAAAAAAAAAAAAAAAAAAAAAAAAAAAAAAAAAAAAAAAAAAAAAAAAAAAAAAAAAAAAAAAAAAAAAAAAAAAAAAAAAAAAAAAAAAAAAAAAAAAAAAAAAAAAAAAAAAAAAAAAAAAAAAAAAAAAAAAAAAAAAAAAAAAAAAAAAAAAAAAAAAAAAAAAAAAAAAAAAAAAAAAAAAAAAAAAAAAAAAAAAAAAAAAAAAAAAAAAAAAAAAAAAAAAAAAAAAAAAAAAAAAAAAAAAAAAAAAAAAAAAAAAAAAAAAAAAAAAAAAAAAAAAAAAAAAAAAAAAAAAAAAAAAAAAAAAAAAAAAAAAAAAAAAAAAAAAAAAAAAAAAAAAAAAAAAAAAAAAAAAAAAAAAAAAAAAAAAAAAAAAAAAAAAAAAAAAAAAAAAAAAAAAAAAAAAAAAAAAAAAAAAAAAAAAAAAAAAAAAAAAAAAAAAAAAAAAAAAAAAAAAAAAAAAAAAAAAAAAAAAAAAAAAAAAAAAAAAAAAAAAAAAAAAAAAAAAAAAAAAAAAAAAAAAAAAAAAAAAAAAAAAAAAAAAAAAAAAAAAAAAAAAAAAAAAAAAAAAAAAAAAAAAAAAAAAAAAAAAAAAAAAAAAAAAAAAAAAAAAAAAAAAAAAAAAAAAAAAAAAAAAAAAAAAAAAAAAAAAAAAAAAAAAAAAAAAAAAAAAAAAAAAAAAAAAAAAAAAAAAAAAAAAAAAAAAAAAAAAAAAAAAAAAAAAAAAAAAAAAAAAAAAAAAAAAAAAAAAAAAAAAAAAAAAAAAAAAAAAAAAAAAAAAAAAAAAAAAAAAAAAAAAAAAAAAAAAAAAAAAAAAAAAAAAAAAAAAAAAAAAAAAAAAAAAAAAAAAAAAAAAAAAAAAAAAAAAAAAAAAAAAAAAAAAAAAAAAAAAAAAAAAAAAAAAAAAAAAAAAAAAAAAAAAAAAAAAAAAAAAAAAAAAAAAAAAAAAAAAAAAAAAAAAAAAAAAAAAAAAAAAAAAAAAAAAAAAAAAAAAAAAAAAAAAAAAAAAAAAAAAAAAAAAAAAAAAAAAAAAAAAAAAAAAAAAAAAAAAAAAAAAAAAAAAAAAAAAAAAAAAAAAAAAAAAAAAAAAAAAAAAAAAAAAAAAAAAAAAAAAAAAAAAAAAAAAAAAAAAAAAAAAAAAAAAAAAAAAAAAAAAAAAAAAAAAAAAAAAAAAAAAAAAAAAAAAAAAAAAAAAAAAAAAAAAAAAAAAAAAAAAAAAAAAAAAAAAAAAAAAAAAAAAAAAAAAAAAAAAAAAAAAAAAAAAAAAAAAAAAAAAAAAAAAAAAAAAAAAAAAAAAAAAAAAAAAAAAAAAAAAAAAAAAAAAAAAAAAAAAAAAAAAAAAAAAAAAAAAAAAAAAAAAAAAAAAAAAAAAAAAAAAAAAAAAAAAAAAAAAAAAAAAAAAAAAAAAAAAAAAAAAAAAAAAAAAAAAAAAAAAAAAAAAAAAAAAAAAAAAAAAAAAAAAAAAAAAAAAAAAAAAAAAAAAAAAAAAAAAAAAAAAAAAAAAAAAAAAAAAAAAAAAAAAAAAAAAAAAAAAAAAAAAAAAAAAAAAAAAAAAAAAAAAAAAAAAAAAAAAAAAAAAAAAAAAAAAAAAAAAAAAAAAAAAAAAAAAAAAAAAAAAAAAAAAAAAAAAAAAAAAAAAAAAAAAAAAAAAAAAAAD//wAA//8AAP//AAD//wAA//8AAP//AAD//wAA//8AAAAA//8AAP//AAD//wAA//8AAP//AAD//wAA//8AAP//AAD//wAA/////wAA//8AAP//AAD//wAA//8AAP//AAD//wAAAQADAAMABQAFAAcABQAHAAUAAwADAAUAAwABAAAAAQADAAMAAQABAAMAAQAAAAEAAAAAAP//AAD//wAA//8AAP////8AAP///f/9/////f//////AAABAAEAAwABAAMAAQABAAAAAQAAAP//AAAAAP//AAD//////f/9//v//f///////f/9/////f/9//3//f/7//3/+//5//n/+//5//v/+f/7//v//f////3///8AAP//AAAAAP///f8AAP//AAD/////AAD//wAA///9//v//f/7//3/+//9//v//f/7//3/+//9//v//f/7//3/+//9//v//f/7//3/+//9//v//f/7//v//f/7//3/+//9//3/+//9//v//f/7//n/+//7//n/+//7//n/+//5//3///////3///8AAP//AAD/////AAD//wAA//////3/+//9//v/+//9//3///8AAP//AAD/////AAD//wAA//8AAP//AAD//wAA//8AAP//AAD//wAA//8AAAAA//8AAP//AAD/////AAD//wAA//8AAP//AAAAAP//AAABAAAAAQAAAAAA//8AAP//AAD//wAA//8AAP//AAD/////AAAAAP//AAD//wAA//8AAP//AAD//wAA//8AAP//AAD//wAA//8AAAAA//8AAP//AAD//wAA//8AAP//AAD//wAA//8AAP//AAD//wAAAAD//wAA//8AAP//AAD//wAA//8AAP//AAD//wAAAAAAAAAAAAAAAAAAAAAAAAAAAAAAAAAAAAAAAAAAAAAAAAAAAAAAAAAAAAAAAAAAAAAAAAAAAAAAAAAAAAAAAAAAAAAAAAAAAAAAAAAAAAAAAAAAAAAAAAAAAAAAAAAAAAAAAAAAAAAAAAAAAAAAAAAAAAAAAAAAAAAAAAAAAAAAAAAAAAAAAAAAAAAAAAAAAAAAAAAAAAAAAAAAAAAAAAAAAAAAAAAAAAAAAAAAAAAAAAAAAAAAAAAAAAAAAAAAAAAAAAAAAAAAAAAAAAAAAAAAAAAAAAAAAAAAAAAAAAAAAAAAAAAAAAAAAAAAAAAAAAAAAAAAAAAAAAAAAAAAAAAAAAAAAAAAAAAAAAAAAAAAAAAAAAAAAAAAAAAAAAAAAAAAAAAAAAAAAAAAAAAAAAAAAAAAAAAAAAAAAAAAAAAAAAAAAAAAAAAAAAAAAAAAAAAAAAAAAAAAAAAAAAAAAAAAAAAAAAAAAAAAAAAAAAAAAAAAAAAAAAAAAAAAAAAAAAAAAAAAAAAAAAAAAAAAAAAAAAAAAAAAAAAAAAAAAAAAAAAAAAAAAAAAAAAAAAAAAAAAAAAAAAAAAAAAAAAAAAAAAAAAAAAAAAAAAAAAAAAAAAAAAAAAAAAAAAAAAAAAAAAAAAAAAAAAAAAAAAAAAAAAAAAAAAAAAAAAAAAAAAAAAAAAAAAAAAAAAAAAAAAAAAAAAAAAAAAAAAAAAAAAAAAAAAAAAAAAAAAAAAAAAAAAAAAAAAAAAAAAAAAAAAAAAAAAAAAAAAAAAAAAAAAAAAAAAAAAAAAAAAAAAAAAAAAAAAAAAAAAAAAAAAAAAAAAAAAAAAAAAAAAAAAAAAAAAAAAAAAAAAAAAAAAAAAAAAAAAAAAAAAAAAAAAAAAAAAAAAAAAAAAAAAAAAAAAAAAAAAAAAAAAAAAAAAAAAAAAAAAAAAAAAAAAAAAAAAAAAAAAAAAAAAAAAAAAAAAAAAAAAAAAAAAAAAAAAAAAAAAAAAAAAAAAAAAAAAAAAAAAAAAAAAAAAAAAAAAAAAAAAAAAAAAAAAAAAAAAAAAAAAAAAAAAAAAAAAAAAAAAAAAAAAAAAAAAAAAAAAAAAAAAAAAAAAAAAAAAAAAAAAAAAAAAAAAAAAAAAAAAAAAAAAAAAAAAAAAAAAAAAAAAAAAAAAAAAAAAAAAAAAAAAAAAAAAAAAAAAAAAAAAAAAAAAAAAAAAAAAAAAAAAAAAAAAAAAAAAAAAAAAAAAAAAAAAAAAAAAAAAAAAAAAAAAAAAAAAAAAAAAAAAAAAAAAAAAAAAAAAAAAAAAAAAAAAAAAAAAAAAAAAAAAAAAAAAAAAAAAAAAAAAAAAAAAAAAAAAAAAAAAAAAAAAAAAAAAAAAAAAAAAAAAAAAAAAAAAAAAAAAAAAAAAAAAAAAAAAAAAAAAAAAAAAAAAAAAAAAAAAAAAAAAAAAAAAAAAAAAAAAAAAAAAAAAAAAAAAAAAAAAAAAAAAAAAAAAAAAAAAAAAAAAAAAAAAAAAAAAAAAAAAAAAAAAAAAAAAAAAAAAAAAAAAAAAAAAAAAAAAAAAAAAAAAAAAAAAAAAAAAAAAAAAAAAAAAAAAAAAAAAAAAAAAAAAAAAAAAAAAAAAAAAAAAAAAAAAAAAAAAAAAAAAAAAAAAAAAAAAAAAAAAAAAAAAAAAAAAAAAAAAAAAAAAAAAAAAAAAAAAAAAAAAAAAAAAAAAAAAAAAAAAAAAAAAAAAAAAAAAAAAAAAAAAAAAAAAAAAAAAAAAAAAAAAAAAAAAAAAAAAAAAAAAAAAAAAAAAAAAAAAAAAAAAAAAAAAAAAAAAAAAAAAAAAAAAAAAAAAAAAAAAAAAAAAAAAAAAAAAAAAAAAAAAAAAAAAAAAAAAAAAAAAAAAAAAAAAAAAAAAAAAAAAAAAAAAAAAAAAAAAAAAAAAAAAAAAAAAAAAAAAAAAAAAAAAAAAAAAAAAAAAAAAAAAAAAAAAAAAAAAAAAAAAAAAAAAAAAAAAAAAAAAAAAAAAAAAAAAAAAAAAAAAAAAAAAAAAAAAAAAAAAAAAAAAAAAAAAAAAAAAAAAAAAAAAAAAAAAAAAAAAAAAAAAAAAAAAAAAAAAAAAAAAAAAAAAAAAAAAAAAAAAAAAAAAAAAAAAAAAAAAAAAAAAAAAAAAAAAAAAAAAAAAAAAAAAAAAAAAAAAAAAAAAAAAAAAAAAAAAAAAAAAAAAAAAAAAAAAAAAAAAAAAAAAAAAAAAAAAAAAAAAAAAAAAAAAAAAAAAAAAAAAAAAAAAAAAAAAAAAAAAAAAAAAAAAAAAAAAAAAAAAAAAAAAAAAAAAAAAAAAAAAAAAAAAAAAAAAAAAAAAAAAAAAAAAAAAAAAAAAAAAAAAAAAAAAAAAAAAAAAAAAAAAAAAAAAAAAAAAAAAAAAAAAAAAAAAAAAAAAAAAAAAAAAAAAAAAAAAAAAAAAAAAAAAAAAAAAAAAAAAAAAAAAAAAAAAAAAAAAAAAAAAAAAAAAAAAAAAAAAAAAAAAAAAAAAAAAAAAAAAAAAAAAAAAAAAAAAAAAAAAAAAAAAAAAAAAAAAAAAAAAAAAAAAAAAAAAAAAAAAAAAAAAAAAAAAAAAAAAAAAAAAAAAAAAAAAAAAAAAAAAAAAAAAAAAAAAAAAAAAAAAAAAAAAAAAAAAAAAAAAAAAAAAAAAAAAAAAAAAAAAAAAAAAAAAAAAAAAAAAAAAAAAAAAAAAAAAAAAAAAAAAAAAAAAAAAAAAAAAAAAAAAAAAAAAAAAAAAAAAAAAAAAAAAAAAAAAAAAAAAAAAAAAAAAAAAAAAAAAAAAAAAAAAAAAAAAAAAAAAAAAAAAAAAAAAAAAAAAAAAAAAAAAAAAAAAAAAAAAAAAAAAAAAAAAAAAAAAAAAAAAAAAAAAAAAAAAAAAAAAAAAAAAAAAAAAAAAAAAAAAAAAAAAAAAAAAAAAAAAAAAAAAAAAAAAAAAAAAAAAAAAAAAAAAAAAAAAAAAAAAAAAAAAAAAAAAAAAAAAAAAAAAAAAAAAAAAAAAAAAAAAAAAAAAAAAAAAAAAAAAAAAAAAAAAAAAAAAAAAAAAAAAAAAAAAAAAAAAAAAAAAAAAAAAAAAAAAAAAAAAAAAAAAAAAAAAAAAAAAAAAAAAAAAAAAAAAAAAAAAAAAAAAAAAAAAAAAAAAAAAAAAAAAAAAAAAAAAAAAAAAAAAAAAAAAAAAAAAAAAAAAAAAAAAAAAAAAAAAAAAAAAAAAAAAAAAAAAAAAAAAAAAAAAAAAAAAAAAAAAAAAAAAAAAAAAAAAAAAAA\" type=\"audio/wav\" />\n",
       "                    Your browser does not support the audio element.\n",
       "                </audio>\n",
       "              "
      ],
      "text/plain": [
       "<IPython.lib.display.Audio object>"
      ]
     },
     "execution_count": 402,
     "metadata": {},
     "output_type": "execute_result"
    }
   ],
   "source": [
    "IPython.display.Audio(data=y, rate=sr)"
   ]
  },
  {
   "cell_type": "code",
   "execution_count": 420,
   "metadata": {
    "hidden": true
   },
   "outputs": [
    {
     "data": {
      "text/html": [
       "\n",
       "                <audio  controls=\"controls\" >\n",
       "                    <source src=\"data:audio/wav;base64,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\" type=\"audio/wav\" />\n",
       "                    Your browser does not support the audio element.\n",
       "                </audio>\n",
       "              "
      ],
      "text/plain": [
       "<IPython.lib.display.Audio object>"
      ]
     },
     "execution_count": 420,
     "metadata": {},
     "output_type": "execute_result"
    }
   ],
   "source": [
    "IPython.display.Audio(data=noising(y, 0, 7), rate=sr)"
   ]
  },
  {
   "cell_type": "markdown",
   "metadata": {},
   "source": [
    "# Results"
   ]
  },
  {
   "cell_type": "markdown",
   "metadata": {},
   "source": [
    "## Parameters changing"
   ]
  },
  {
   "cell_type": "markdown",
   "metadata": {},
   "source": [
    "- accents [com.au, com, co.in]<br><br>\n",
    "\n",
    "- train model with clean/ a bit noised observations<br><br>\n",
    "\n",
    "    - random horizontal shift [0.1, 0.25, 0.4]\n",
    "        - random vertical rescaling [0.5, 1, 10]<br><br>\n",
    "\n",
    "    - how many training examples - [20, 100, 200]<br><br>\n",
    "\n",
    "        - M - number of mfcc - [13]\n",
    "        - R - [0.025, 0.04] \n",
    "        - S - [0.01, 0.03, 0.05]<br><br>\n",
    "\n",
    "    - crosswalidacja k=5<br><br>\n",
    "\n",
    "    - number of iterations - [15, 30, 50]\n",
    "    - n hidden states - [4, 6, 12]<br><br>\n",
    "    \n",
    "    - different nosies [-2, -1, 0, 1, 2]\n",
    "    - different SNR [-3, 0, 3, 9] <br><br>\n",
    "\n",
    "    - different metrics [acc, prec, rec, f1]"
   ]
  },
  {
   "cell_type": "markdown",
   "metadata": {},
   "source": [
    "- znajdź dobre jak jeset dobrze, a później udziwniaj\n",
    "- pamiętaj nie wszystko jest wykorzystywane do trenowania modeli, ale głównie do testu\n",
    "- random shifting dawać dopiero po wytrenowaniu"
   ]
  },
  {
   "cell_type": "markdown",
   "metadata": {},
   "source": [
    "- confusion matrix\n",
    "- boxplots\n",
    "- tables"
   ]
  },
  {
   "cell_type": "markdown",
   "metadata": {},
   "source": [
    "## Choosing model params"
   ]
  },
  {
   "cell_type": "code",
   "execution_count": 12,
   "metadata": {},
   "outputs": [],
   "source": [
    "params = {'n_samples':[20, 100, 200],\n",
    "          'n_mfcc':[13],\n",
    "          'hop_wins':[0.01, 0.03, 0.05],\n",
    "          'len_wins':[0.025, 0.04],\n",
    "          'n_iters':[15, 30, 50],\n",
    "          'n_hiddens':[4, 6, 12]}\n",
    "\n",
    "gs = GridSearch(random_state=7)"
   ]
  },
  {
   "cell_type": "code",
   "execution_count": 29,
   "metadata": {},
   "outputs": [
    {
     "name": "stdout",
     "output_type": "stream",
     "text": [
      "Iteration 1/162.\n",
      "Iteration 5/162.\n",
      "Iteration 10/162.\n",
      "Iteration 15/162.\n",
      "Iteration 20/162.\n",
      "Iteration 25/162.\n",
      "Iteration 30/162.\n",
      "Iteration 35/162.\n",
      "Iteration 40/162.\n",
      "Iteration 45/162.\n",
      "Iteration 50/162.\n",
      "Iteration 55/162.\n",
      "Iteration 60/162.\n",
      "Iteration 65/162.\n",
      "Iteration 70/162.\n",
      "Iteration 75/162.\n",
      "Iteration 80/162.\n",
      "Iteration 85/162.\n",
      "Iteration 90/162.\n",
      "Iteration 95/162.\n",
      "Iteration 100/162.\n",
      "Iteration 105/162.\n",
      "Iteration 110/162.\n",
      "Iteration 115/162.\n",
      "Iteration 120/162.\n",
      "Iteration 125/162.\n",
      "Iteration 130/162.\n",
      "Iteration 135/162.\n",
      "Iteration 140/162.\n",
      "Iteration 145/162.\n",
      "Iteration 150/162.\n",
      "Iteration 155/162.\n",
      "Iteration 160/162.\n"
     ]
    }
   ],
   "source": [
    "results = gs.grid_search_model(params, k=5)"
   ]
  },
  {
   "cell_type": "code",
   "execution_count": 31,
   "metadata": {},
   "outputs": [],
   "source": [
    "# results.to_csv(r'results\\result_choose_model_params.csv')"
   ]
  },
  {
   "cell_type": "markdown",
   "metadata": {},
   "source": [
    "## Adding randomness"
   ]
  },
  {
   "cell_type": "markdown",
   "metadata": {},
   "source": [
    "- train model with clean/ a bit noised observations<br><br>\n",
    "\n",
    "    - random horizontal shift [0.1, 0.25, 0.4]\n",
    "    - random vertical rescaling [0.5, 1, 10]<br><br>\n",
    "\n",
    "    - number of iterations - [15, 30, 50]\n",
    "    - n hidden states - [4, 6, 12]<br><br>\n",
    "    \n",
    "    - different nosies [-2, -1, 0, 1, 2]\n",
    "    - different SNR [-3, 0, 3, 9] <br><br>"
   ]
  },
  {
   "cell_type": "code",
   "execution_count": 67,
   "metadata": {
    "scrolled": true
   },
   "outputs": [
    {
     "name": "stderr",
     "output_type": "stream",
     "text": [
      "D:\\studia\\jupyter notebook\\inzynierka\\src\\models\\model_setup.py:32: RuntimeWarning: invalid value encountered in true_divide\n",
      "  alpha[:, t] /= alpha_sum\n",
      "D:\\studia\\jupyter notebook\\inzynierka\\src\\models\\model_setup.py:33: RuntimeWarning: divide by zero encountered in log\n",
      "  log_likelihood = log_likelihood + np.log(alpha_sum)\n",
      "D:\\studia\\jupyter notebook\\inzynierka\\src\\models\\model_setup.py:44: RuntimeWarning: invalid value encountered in true_divide\n",
      "  beta[:, t] /= np.sum(beta[:, t])\n",
      "D:\\studia\\jupyter notebook\\inzynierka\\src\\models\\model_setup.py:32: RuntimeWarning: invalid value encountered in true_divide\n",
      "  alpha[:, t] /= alpha_sum\n",
      "D:\\studia\\jupyter notebook\\inzynierka\\src\\models\\model_setup.py:33: RuntimeWarning: divide by zero encountered in log\n",
      "  log_likelihood = log_likelihood + np.log(alpha_sum)\n",
      "D:\\studia\\jupyter notebook\\inzynierka\\src\\models\\model_setup.py:44: RuntimeWarning: invalid value encountered in true_divide\n",
      "  beta[:, t] /= np.sum(beta[:, t])\n",
      "D:\\studia\\jupyter notebook\\inzynierka\\src\\models\\model_setup.py:32: RuntimeWarning: invalid value encountered in true_divide\n",
      "  alpha[:, t] /= alpha_sum\n",
      "D:\\studia\\jupyter notebook\\inzynierka\\src\\models\\model_setup.py:33: RuntimeWarning: divide by zero encountered in log\n",
      "  log_likelihood = log_likelihood + np.log(alpha_sum)\n",
      "D:\\studia\\jupyter notebook\\inzynierka\\src\\models\\model_setup.py:44: RuntimeWarning: invalid value encountered in true_divide\n",
      "  beta[:, t] /= np.sum(beta[:, t])\n",
      "D:\\studia\\jupyter notebook\\inzynierka\\src\\models\\model_setup.py:32: RuntimeWarning: invalid value encountered in true_divide\n",
      "  alpha[:, t] /= alpha_sum\n",
      "D:\\studia\\jupyter notebook\\inzynierka\\src\\models\\model_setup.py:33: RuntimeWarning: divide by zero encountered in log\n",
      "  log_likelihood = log_likelihood + np.log(alpha_sum)\n",
      "D:\\studia\\jupyter notebook\\inzynierka\\src\\models\\model_setup.py:44: RuntimeWarning: invalid value encountered in true_divide\n",
      "  beta[:, t] /= np.sum(beta[:, t])\n",
      "D:\\studia\\jupyter notebook\\inzynierka\\src\\models\\model_setup.py:32: RuntimeWarning: invalid value encountered in true_divide\n",
      "  alpha[:, t] /= alpha_sum\n",
      "D:\\studia\\jupyter notebook\\inzynierka\\src\\models\\model_setup.py:33: RuntimeWarning: divide by zero encountered in log\n",
      "  log_likelihood = log_likelihood + np.log(alpha_sum)\n",
      "D:\\studia\\jupyter notebook\\inzynierka\\src\\models\\model_setup.py:44: RuntimeWarning: invalid value encountered in true_divide\n",
      "  beta[:, t] /= np.sum(beta[:, t])\n",
      "D:\\studia\\jupyter notebook\\inzynierka\\src\\models\\model_setup.py:32: RuntimeWarning: invalid value encountered in true_divide\n",
      "  alpha[:, t] /= alpha_sum\n",
      "D:\\studia\\jupyter notebook\\inzynierka\\src\\models\\model_setup.py:33: RuntimeWarning: divide by zero encountered in log\n",
      "  log_likelihood = log_likelihood + np.log(alpha_sum)\n",
      "D:\\studia\\jupyter notebook\\inzynierka\\src\\models\\model_setup.py:44: RuntimeWarning: invalid value encountered in true_divide\n",
      "  beta[:, t] /= np.sum(beta[:, t])\n",
      "D:\\studia\\jupyter notebook\\inzynierka\\src\\models\\model_setup.py:32: RuntimeWarning: invalid value encountered in true_divide\n",
      "  alpha[:, t] /= alpha_sum\n",
      "D:\\studia\\jupyter notebook\\inzynierka\\src\\models\\model_setup.py:33: RuntimeWarning: divide by zero encountered in log\n",
      "  log_likelihood = log_likelihood + np.log(alpha_sum)\n",
      "D:\\studia\\jupyter notebook\\inzynierka\\src\\models\\model_setup.py:44: RuntimeWarning: invalid value encountered in true_divide\n",
      "  beta[:, t] /= np.sum(beta[:, t])\n",
      "D:\\studia\\jupyter notebook\\inzynierka\\src\\models\\model_setup.py:32: RuntimeWarning: invalid value encountered in true_divide\n",
      "  alpha[:, t] /= alpha_sum\n",
      "D:\\studia\\jupyter notebook\\inzynierka\\src\\models\\model_setup.py:33: RuntimeWarning: divide by zero encountered in log\n",
      "  log_likelihood = log_likelihood + np.log(alpha_sum)\n",
      "D:\\studia\\jupyter notebook\\inzynierka\\src\\models\\model_setup.py:44: RuntimeWarning: invalid value encountered in true_divide\n",
      "  beta[:, t] /= np.sum(beta[:, t])\n",
      "D:\\studia\\jupyter notebook\\inzynierka\\src\\models\\model_setup.py:32: RuntimeWarning: invalid value encountered in true_divide\n",
      "  alpha[:, t] /= alpha_sum\n",
      "D:\\studia\\jupyter notebook\\inzynierka\\src\\models\\model_setup.py:33: RuntimeWarning: divide by zero encountered in log\n",
      "  log_likelihood = log_likelihood + np.log(alpha_sum)\n",
      "D:\\studia\\jupyter notebook\\inzynierka\\src\\models\\model_setup.py:44: RuntimeWarning: invalid value encountered in true_divide\n",
      "  beta[:, t] /= np.sum(beta[:, t])\n",
      "D:\\studia\\jupyter notebook\\inzynierka\\src\\models\\model_setup.py:32: RuntimeWarning: invalid value encountered in true_divide\n",
      "  alpha[:, t] /= alpha_sum\n",
      "D:\\studia\\jupyter notebook\\inzynierka\\src\\models\\model_setup.py:33: RuntimeWarning: divide by zero encountered in log\n",
      "  log_likelihood = log_likelihood + np.log(alpha_sum)\n",
      "D:\\studia\\jupyter notebook\\inzynierka\\src\\models\\model_setup.py:32: RuntimeWarning: invalid value encountered in true_divide\n",
      "  alpha[:, t] /= alpha_sum\n",
      "D:\\studia\\jupyter notebook\\inzynierka\\src\\models\\model_setup.py:33: RuntimeWarning: divide by zero encountered in log\n",
      "  log_likelihood = log_likelihood + np.log(alpha_sum)\n",
      "D:\\studia\\jupyter notebook\\inzynierka\\src\\models\\model_setup.py:32: RuntimeWarning: invalid value encountered in true_divide\n",
      "  alpha[:, t] /= alpha_sum\n",
      "D:\\studia\\jupyter notebook\\inzynierka\\src\\models\\model_setup.py:33: RuntimeWarning: divide by zero encountered in log\n",
      "  log_likelihood = log_likelihood + np.log(alpha_sum)\n",
      "D:\\studia\\jupyter notebook\\inzynierka\\src\\models\\model_setup.py:32: RuntimeWarning: invalid value encountered in true_divide\n",
      "  alpha[:, t] /= alpha_sum\n",
      "D:\\studia\\jupyter notebook\\inzynierka\\src\\models\\model_setup.py:33: RuntimeWarning: divide by zero encountered in log\n",
      "  log_likelihood = log_likelihood + np.log(alpha_sum)\n",
      "D:\\studia\\jupyter notebook\\inzynierka\\src\\models\\model_setup.py:32: RuntimeWarning: invalid value encountered in true_divide\n",
      "  alpha[:, t] /= alpha_sum\n",
      "D:\\studia\\jupyter notebook\\inzynierka\\src\\models\\model_setup.py:33: RuntimeWarning: divide by zero encountered in log\n",
      "  log_likelihood = log_likelihood + np.log(alpha_sum)\n",
      "D:\\studia\\jupyter notebook\\inzynierka\\src\\models\\model_setup.py:32: RuntimeWarning: invalid value encountered in true_divide\n",
      "  alpha[:, t] /= alpha_sum\n",
      "D:\\studia\\jupyter notebook\\inzynierka\\src\\models\\model_setup.py:33: RuntimeWarning: divide by zero encountered in log\n",
      "  log_likelihood = log_likelihood + np.log(alpha_sum)\n",
      "D:\\studia\\jupyter notebook\\inzynierka\\src\\models\\model_setup.py:32: RuntimeWarning: invalid value encountered in true_divide\n",
      "  alpha[:, t] /= alpha_sum\n",
      "D:\\studia\\jupyter notebook\\inzynierka\\src\\models\\model_setup.py:33: RuntimeWarning: divide by zero encountered in log\n",
      "  log_likelihood = log_likelihood + np.log(alpha_sum)\n",
      "D:\\studia\\jupyter notebook\\inzynierka\\src\\models\\model_setup.py:32: RuntimeWarning: invalid value encountered in true_divide\n",
      "  alpha[:, t] /= alpha_sum\n",
      "D:\\studia\\jupyter notebook\\inzynierka\\src\\models\\model_setup.py:33: RuntimeWarning: divide by zero encountered in log\n",
      "  log_likelihood = log_likelihood + np.log(alpha_sum)\n",
      "D:\\studia\\jupyter notebook\\inzynierka\\src\\models\\model_setup.py:32: RuntimeWarning: invalid value encountered in true_divide\n",
      "  alpha[:, t] /= alpha_sum\n",
      "D:\\studia\\jupyter notebook\\inzynierka\\src\\models\\model_setup.py:33: RuntimeWarning: divide by zero encountered in log\n",
      "  log_likelihood = log_likelihood + np.log(alpha_sum)\n",
      "D:\\studia\\jupyter notebook\\inzynierka\\src\\models\\model_setup.py:32: RuntimeWarning: invalid value encountered in true_divide\n",
      "  alpha[:, t] /= alpha_sum\n",
      "D:\\studia\\jupyter notebook\\inzynierka\\src\\models\\model_setup.py:33: RuntimeWarning: divide by zero encountered in log\n",
      "  log_likelihood = log_likelihood + np.log(alpha_sum)\n",
      "D:\\studia\\jupyter notebook\\inzynierka\\src\\models\\model_setup.py:32: RuntimeWarning: invalid value encountered in true_divide\n",
      "  alpha[:, t] /= alpha_sum\n",
      "D:\\studia\\jupyter notebook\\inzynierka\\src\\models\\model_setup.py:33: RuntimeWarning: divide by zero encountered in log\n",
      "  log_likelihood = log_likelihood + np.log(alpha_sum)\n",
      "D:\\studia\\jupyter notebook\\inzynierka\\src\\models\\model_setup.py:32: RuntimeWarning: invalid value encountered in true_divide\n",
      "  alpha[:, t] /= alpha_sum\n",
      "D:\\studia\\jupyter notebook\\inzynierka\\src\\models\\model_setup.py:33: RuntimeWarning: divide by zero encountered in log\n",
      "  log_likelihood = log_likelihood + np.log(alpha_sum)\n"
     ]
    },
    {
     "name": "stderr",
     "output_type": "stream",
     "text": [
      "D:\\studia\\jupyter notebook\\inzynierka\\src\\models\\model_setup.py:32: RuntimeWarning: invalid value encountered in true_divide\n",
      "  alpha[:, t] /= alpha_sum\n",
      "D:\\studia\\jupyter notebook\\inzynierka\\src\\models\\model_setup.py:33: RuntimeWarning: divide by zero encountered in log\n",
      "  log_likelihood = log_likelihood + np.log(alpha_sum)\n",
      "D:\\studia\\jupyter notebook\\inzynierka\\src\\models\\model_setup.py:32: RuntimeWarning: invalid value encountered in true_divide\n",
      "  alpha[:, t] /= alpha_sum\n",
      "D:\\studia\\jupyter notebook\\inzynierka\\src\\models\\model_setup.py:33: RuntimeWarning: divide by zero encountered in log\n",
      "  log_likelihood = log_likelihood + np.log(alpha_sum)\n",
      "D:\\studia\\jupyter notebook\\inzynierka\\src\\models\\model_setup.py:32: RuntimeWarning: invalid value encountered in true_divide\n",
      "  alpha[:, t] /= alpha_sum\n",
      "D:\\studia\\jupyter notebook\\inzynierka\\src\\models\\model_setup.py:33: RuntimeWarning: divide by zero encountered in log\n",
      "  log_likelihood = log_likelihood + np.log(alpha_sum)\n",
      "D:\\studia\\jupyter notebook\\inzynierka\\src\\models\\model_setup.py:32: RuntimeWarning: invalid value encountered in true_divide\n",
      "  alpha[:, t] /= alpha_sum\n",
      "D:\\studia\\jupyter notebook\\inzynierka\\src\\models\\model_setup.py:33: RuntimeWarning: divide by zero encountered in log\n",
      "  log_likelihood = log_likelihood + np.log(alpha_sum)\n",
      "D:\\studia\\jupyter notebook\\inzynierka\\src\\models\\model_setup.py:32: RuntimeWarning: invalid value encountered in true_divide\n",
      "  alpha[:, t] /= alpha_sum\n",
      "D:\\studia\\jupyter notebook\\inzynierka\\src\\models\\model_setup.py:33: RuntimeWarning: divide by zero encountered in log\n",
      "  log_likelihood = log_likelihood + np.log(alpha_sum)\n",
      "D:\\studia\\jupyter notebook\\inzynierka\\src\\models\\model_setup.py:32: RuntimeWarning: invalid value encountered in true_divide\n",
      "  alpha[:, t] /= alpha_sum\n",
      "D:\\studia\\jupyter notebook\\inzynierka\\src\\models\\model_setup.py:33: RuntimeWarning: divide by zero encountered in log\n",
      "  log_likelihood = log_likelihood + np.log(alpha_sum)\n",
      "D:\\studia\\jupyter notebook\\inzynierka\\src\\models\\model_setup.py:32: RuntimeWarning: invalid value encountered in true_divide\n",
      "  alpha[:, t] /= alpha_sum\n",
      "D:\\studia\\jupyter notebook\\inzynierka\\src\\models\\model_setup.py:33: RuntimeWarning: divide by zero encountered in log\n",
      "  log_likelihood = log_likelihood + np.log(alpha_sum)\n",
      "D:\\studia\\jupyter notebook\\inzynierka\\src\\models\\model_setup.py:44: RuntimeWarning: invalid value encountered in true_divide\n",
      "  beta[:, t] /= np.sum(beta[:, t])\n",
      "D:\\studia\\jupyter notebook\\inzynierka\\src\\models\\model_setup.py:32: RuntimeWarning: invalid value encountered in true_divide\n",
      "  alpha[:, t] /= alpha_sum\n",
      "D:\\studia\\jupyter notebook\\inzynierka\\src\\models\\model_setup.py:33: RuntimeWarning: divide by zero encountered in log\n",
      "  log_likelihood = log_likelihood + np.log(alpha_sum)\n",
      "D:\\studia\\jupyter notebook\\inzynierka\\src\\models\\model_setup.py:44: RuntimeWarning: invalid value encountered in true_divide\n",
      "  beta[:, t] /= np.sum(beta[:, t])\n",
      "D:\\studia\\jupyter notebook\\inzynierka\\src\\models\\model_setup.py:32: RuntimeWarning: invalid value encountered in true_divide\n",
      "  alpha[:, t] /= alpha_sum\n",
      "D:\\studia\\jupyter notebook\\inzynierka\\src\\models\\model_setup.py:33: RuntimeWarning: divide by zero encountered in log\n",
      "  log_likelihood = log_likelihood + np.log(alpha_sum)\n",
      "D:\\studia\\jupyter notebook\\inzynierka\\src\\models\\model_setup.py:44: RuntimeWarning: invalid value encountered in true_divide\n",
      "  beta[:, t] /= np.sum(beta[:, t])\n",
      "D:\\studia\\jupyter notebook\\inzynierka\\src\\models\\model_setup.py:32: RuntimeWarning: invalid value encountered in true_divide\n",
      "  alpha[:, t] /= alpha_sum\n",
      "D:\\studia\\jupyter notebook\\inzynierka\\src\\models\\model_setup.py:33: RuntimeWarning: divide by zero encountered in log\n",
      "  log_likelihood = log_likelihood + np.log(alpha_sum)\n",
      "D:\\studia\\jupyter notebook\\inzynierka\\src\\models\\model_setup.py:44: RuntimeWarning: invalid value encountered in true_divide\n",
      "  beta[:, t] /= np.sum(beta[:, t])\n",
      "D:\\studia\\jupyter notebook\\inzynierka\\src\\models\\model_setup.py:32: RuntimeWarning: invalid value encountered in true_divide\n",
      "  alpha[:, t] /= alpha_sum\n",
      "D:\\studia\\jupyter notebook\\inzynierka\\src\\models\\model_setup.py:33: RuntimeWarning: divide by zero encountered in log\n",
      "  log_likelihood = log_likelihood + np.log(alpha_sum)\n",
      "D:\\studia\\jupyter notebook\\inzynierka\\src\\models\\model_setup.py:44: RuntimeWarning: invalid value encountered in true_divide\n",
      "  beta[:, t] /= np.sum(beta[:, t])\n",
      "D:\\studia\\jupyter notebook\\inzynierka\\src\\models\\model_setup.py:32: RuntimeWarning: invalid value encountered in true_divide\n",
      "  alpha[:, t] /= alpha_sum\n",
      "D:\\studia\\jupyter notebook\\inzynierka\\src\\models\\model_setup.py:33: RuntimeWarning: divide by zero encountered in log\n",
      "  log_likelihood = log_likelihood + np.log(alpha_sum)\n",
      "D:\\studia\\jupyter notebook\\inzynierka\\src\\models\\model_setup.py:44: RuntimeWarning: invalid value encountered in true_divide\n",
      "  beta[:, t] /= np.sum(beta[:, t])\n",
      "D:\\studia\\jupyter notebook\\inzynierka\\src\\models\\model_setup.py:32: RuntimeWarning: invalid value encountered in true_divide\n",
      "  alpha[:, t] /= alpha_sum\n",
      "D:\\studia\\jupyter notebook\\inzynierka\\src\\models\\model_setup.py:33: RuntimeWarning: divide by zero encountered in log\n",
      "  log_likelihood = log_likelihood + np.log(alpha_sum)\n",
      "D:\\studia\\jupyter notebook\\inzynierka\\src\\models\\model_setup.py:44: RuntimeWarning: invalid value encountered in true_divide\n",
      "  beta[:, t] /= np.sum(beta[:, t])\n",
      "D:\\studia\\jupyter notebook\\inzynierka\\src\\models\\model_setup.py:32: RuntimeWarning: invalid value encountered in true_divide\n",
      "  alpha[:, t] /= alpha_sum\n",
      "D:\\studia\\jupyter notebook\\inzynierka\\src\\models\\model_setup.py:33: RuntimeWarning: divide by zero encountered in log\n",
      "  log_likelihood = log_likelihood + np.log(alpha_sum)\n",
      "D:\\studia\\jupyter notebook\\inzynierka\\src\\models\\model_setup.py:44: RuntimeWarning: invalid value encountered in true_divide\n",
      "  beta[:, t] /= np.sum(beta[:, t])\n",
      "D:\\studia\\jupyter notebook\\inzynierka\\src\\models\\model_setup.py:32: RuntimeWarning: invalid value encountered in true_divide\n",
      "  alpha[:, t] /= alpha_sum\n",
      "D:\\studia\\jupyter notebook\\inzynierka\\src\\models\\model_setup.py:33: RuntimeWarning: divide by zero encountered in log\n",
      "  log_likelihood = log_likelihood + np.log(alpha_sum)\n",
      "D:\\studia\\jupyter notebook\\inzynierka\\src\\models\\model_setup.py:44: RuntimeWarning: invalid value encountered in true_divide\n",
      "  beta[:, t] /= np.sum(beta[:, t])\n",
      "D:\\studia\\jupyter notebook\\inzynierka\\src\\models\\model_setup.py:32: RuntimeWarning: invalid value encountered in true_divide\n",
      "  alpha[:, t] /= alpha_sum\n",
      "D:\\studia\\jupyter notebook\\inzynierka\\src\\models\\model_setup.py:33: RuntimeWarning: divide by zero encountered in log\n",
      "  log_likelihood = log_likelihood + np.log(alpha_sum)\n",
      "D:\\studia\\jupyter notebook\\inzynierka\\src\\models\\model_setup.py:32: RuntimeWarning: invalid value encountered in true_divide\n",
      "  alpha[:, t] /= alpha_sum\n",
      "D:\\studia\\jupyter notebook\\inzynierka\\src\\models\\model_setup.py:33: RuntimeWarning: divide by zero encountered in log\n",
      "  log_likelihood = log_likelihood + np.log(alpha_sum)\n",
      "D:\\studia\\jupyter notebook\\inzynierka\\src\\models\\model_setup.py:64: RuntimeWarning: divide by zero encountered in true_divide\n",
      "  return (x + (x == 0)) / np.sum(x)\n",
      "D:\\studia\\jupyter notebook\\inzynierka\\src\\models\\model_setup.py:69: RuntimeWarning: invalid value encountered in true_divide\n",
      "  return (x + (x == 0)) / sum_of_rows[:, np.newaxis]\n",
      "D:\\studia\\jupyter notebook\\inzynierka\\src\\models\\model_setup.py:32: RuntimeWarning: invalid value encountered in true_divide\n",
      "  alpha[:, t] /= alpha_sum\n",
      "D:\\studia\\jupyter notebook\\inzynierka\\src\\models\\model_setup.py:33: RuntimeWarning: divide by zero encountered in log\n",
      "  log_likelihood = log_likelihood + np.log(alpha_sum)\n",
      "D:\\studia\\jupyter notebook\\inzynierka\\src\\models\\model_setup.py:64: RuntimeWarning: divide by zero encountered in true_divide\n",
      "  return (x + (x == 0)) / np.sum(x)\n",
      "D:\\studia\\jupyter notebook\\inzynierka\\src\\models\\model_setup.py:69: RuntimeWarning: invalid value encountered in true_divide\n",
      "  return (x + (x == 0)) / sum_of_rows[:, np.newaxis]\n",
      "D:\\studia\\jupyter notebook\\inzynierka\\src\\models\\model_setup.py:32: RuntimeWarning: invalid value encountered in true_divide\n",
      "  alpha[:, t] /= alpha_sum\n",
      "D:\\studia\\jupyter notebook\\inzynierka\\src\\models\\model_setup.py:33: RuntimeWarning: divide by zero encountered in log\n",
      "  log_likelihood = log_likelihood + np.log(alpha_sum)\n"
     ]
    },
    {
     "name": "stderr",
     "output_type": "stream",
     "text": [
      "D:\\studia\\jupyter notebook\\inzynierka\\src\\models\\model_setup.py:32: RuntimeWarning: invalid value encountered in true_divide\n",
      "  alpha[:, t] /= alpha_sum\n",
      "D:\\studia\\jupyter notebook\\inzynierka\\src\\models\\model_setup.py:33: RuntimeWarning: divide by zero encountered in log\n",
      "  log_likelihood = log_likelihood + np.log(alpha_sum)\n",
      "D:\\studia\\jupyter notebook\\inzynierka\\src\\models\\model_setup.py:64: RuntimeWarning: divide by zero encountered in true_divide\n",
      "  return (x + (x == 0)) / np.sum(x)\n",
      "D:\\studia\\jupyter notebook\\inzynierka\\src\\models\\model_setup.py:69: RuntimeWarning: invalid value encountered in true_divide\n",
      "  return (x + (x == 0)) / sum_of_rows[:, np.newaxis]\n",
      "D:\\studia\\jupyter notebook\\inzynierka\\src\\models\\model_setup.py:32: RuntimeWarning: invalid value encountered in true_divide\n",
      "  alpha[:, t] /= alpha_sum\n",
      "D:\\studia\\jupyter notebook\\inzynierka\\src\\models\\model_setup.py:33: RuntimeWarning: divide by zero encountered in log\n",
      "  log_likelihood = log_likelihood + np.log(alpha_sum)\n",
      "D:\\studia\\jupyter notebook\\inzynierka\\src\\models\\model_setup.py:64: RuntimeWarning: divide by zero encountered in true_divide\n",
      "  return (x + (x == 0)) / np.sum(x)\n",
      "D:\\studia\\jupyter notebook\\inzynierka\\src\\models\\model_setup.py:69: RuntimeWarning: invalid value encountered in true_divide\n",
      "  return (x + (x == 0)) / sum_of_rows[:, np.newaxis]\n",
      "D:\\studia\\jupyter notebook\\inzynierka\\src\\models\\model_setup.py:32: RuntimeWarning: invalid value encountered in true_divide\n",
      "  alpha[:, t] /= alpha_sum\n",
      "D:\\studia\\jupyter notebook\\inzynierka\\src\\models\\model_setup.py:33: RuntimeWarning: divide by zero encountered in log\n",
      "  log_likelihood = log_likelihood + np.log(alpha_sum)\n",
      "D:\\studia\\jupyter notebook\\inzynierka\\src\\models\\model_setup.py:32: RuntimeWarning: invalid value encountered in true_divide\n",
      "  alpha[:, t] /= alpha_sum\n",
      "D:\\studia\\jupyter notebook\\inzynierka\\src\\models\\model_setup.py:33: RuntimeWarning: divide by zero encountered in log\n",
      "  log_likelihood = log_likelihood + np.log(alpha_sum)\n",
      "D:\\studia\\jupyter notebook\\inzynierka\\src\\models\\model_setup.py:64: RuntimeWarning: divide by zero encountered in true_divide\n",
      "  return (x + (x == 0)) / np.sum(x)\n",
      "D:\\studia\\jupyter notebook\\inzynierka\\src\\models\\model_setup.py:69: RuntimeWarning: invalid value encountered in true_divide\n",
      "  return (x + (x == 0)) / sum_of_rows[:, np.newaxis]\n",
      "D:\\studia\\jupyter notebook\\inzynierka\\src\\models\\model_setup.py:32: RuntimeWarning: invalid value encountered in true_divide\n",
      "  alpha[:, t] /= alpha_sum\n",
      "D:\\studia\\jupyter notebook\\inzynierka\\src\\models\\model_setup.py:33: RuntimeWarning: divide by zero encountered in log\n",
      "  log_likelihood = log_likelihood + np.log(alpha_sum)\n",
      "D:\\studia\\jupyter notebook\\inzynierka\\src\\models\\model_setup.py:64: RuntimeWarning: divide by zero encountered in true_divide\n",
      "  return (x + (x == 0)) / np.sum(x)\n",
      "D:\\studia\\jupyter notebook\\inzynierka\\src\\models\\model_setup.py:69: RuntimeWarning: invalid value encountered in true_divide\n",
      "  return (x + (x == 0)) / sum_of_rows[:, np.newaxis]\n",
      "D:\\studia\\jupyter notebook\\inzynierka\\src\\models\\model_setup.py:32: RuntimeWarning: invalid value encountered in true_divide\n",
      "  alpha[:, t] /= alpha_sum\n",
      "D:\\studia\\jupyter notebook\\inzynierka\\src\\models\\model_setup.py:33: RuntimeWarning: divide by zero encountered in log\n",
      "  log_likelihood = log_likelihood + np.log(alpha_sum)\n",
      "D:\\studia\\jupyter notebook\\inzynierka\\src\\models\\model_setup.py:32: RuntimeWarning: invalid value encountered in true_divide\n",
      "  alpha[:, t] /= alpha_sum\n",
      "D:\\studia\\jupyter notebook\\inzynierka\\src\\models\\model_setup.py:33: RuntimeWarning: divide by zero encountered in log\n",
      "  log_likelihood = log_likelihood + np.log(alpha_sum)\n",
      "D:\\studia\\jupyter notebook\\inzynierka\\src\\models\\model_setup.py:64: RuntimeWarning: divide by zero encountered in true_divide\n",
      "  return (x + (x == 0)) / np.sum(x)\n",
      "D:\\studia\\jupyter notebook\\inzynierka\\src\\models\\model_setup.py:69: RuntimeWarning: invalid value encountered in true_divide\n",
      "  return (x + (x == 0)) / sum_of_rows[:, np.newaxis]\n",
      "D:\\studia\\jupyter notebook\\inzynierka\\src\\models\\model_setup.py:32: RuntimeWarning: invalid value encountered in true_divide\n",
      "  alpha[:, t] /= alpha_sum\n",
      "D:\\studia\\jupyter notebook\\inzynierka\\src\\models\\model_setup.py:33: RuntimeWarning: divide by zero encountered in log\n",
      "  log_likelihood = log_likelihood + np.log(alpha_sum)\n",
      "D:\\studia\\jupyter notebook\\inzynierka\\src\\models\\model_setup.py:64: RuntimeWarning: divide by zero encountered in true_divide\n",
      "  return (x + (x == 0)) / np.sum(x)\n",
      "D:\\studia\\jupyter notebook\\inzynierka\\src\\models\\model_setup.py:69: RuntimeWarning: invalid value encountered in true_divide\n",
      "  return (x + (x == 0)) / sum_of_rows[:, np.newaxis]\n",
      "D:\\studia\\jupyter notebook\\inzynierka\\src\\models\\model_setup.py:32: RuntimeWarning: invalid value encountered in true_divide\n",
      "  alpha[:, t] /= alpha_sum\n",
      "D:\\studia\\jupyter notebook\\inzynierka\\src\\models\\model_setup.py:33: RuntimeWarning: divide by zero encountered in log\n",
      "  log_likelihood = log_likelihood + np.log(alpha_sum)\n",
      "D:\\studia\\jupyter notebook\\inzynierka\\src\\models\\model_setup.py:32: RuntimeWarning: invalid value encountered in true_divide\n",
      "  alpha[:, t] /= alpha_sum\n",
      "D:\\studia\\jupyter notebook\\inzynierka\\src\\models\\model_setup.py:33: RuntimeWarning: divide by zero encountered in log\n",
      "  log_likelihood = log_likelihood + np.log(alpha_sum)\n",
      "D:\\studia\\jupyter notebook\\inzynierka\\src\\models\\model_setup.py:64: RuntimeWarning: divide by zero encountered in true_divide\n",
      "  return (x + (x == 0)) / np.sum(x)\n",
      "D:\\studia\\jupyter notebook\\inzynierka\\src\\models\\model_setup.py:69: RuntimeWarning: invalid value encountered in true_divide\n",
      "  return (x + (x == 0)) / sum_of_rows[:, np.newaxis]\n",
      "D:\\studia\\jupyter notebook\\inzynierka\\src\\models\\model_setup.py:32: RuntimeWarning: invalid value encountered in true_divide\n",
      "  alpha[:, t] /= alpha_sum\n",
      "D:\\studia\\jupyter notebook\\inzynierka\\src\\models\\model_setup.py:33: RuntimeWarning: divide by zero encountered in log\n",
      "  log_likelihood = log_likelihood + np.log(alpha_sum)\n",
      "D:\\studia\\jupyter notebook\\inzynierka\\src\\models\\model_setup.py:64: RuntimeWarning: divide by zero encountered in true_divide\n",
      "  return (x + (x == 0)) / np.sum(x)\n",
      "D:\\studia\\jupyter notebook\\inzynierka\\src\\models\\model_setup.py:69: RuntimeWarning: invalid value encountered in true_divide\n",
      "  return (x + (x == 0)) / sum_of_rows[:, np.newaxis]\n",
      "D:\\studia\\jupyter notebook\\inzynierka\\src\\models\\model_setup.py:32: RuntimeWarning: invalid value encountered in true_divide\n",
      "  alpha[:, t] /= alpha_sum\n",
      "D:\\studia\\jupyter notebook\\inzynierka\\src\\models\\model_setup.py:33: RuntimeWarning: divide by zero encountered in log\n",
      "  log_likelihood = log_likelihood + np.log(alpha_sum)\n",
      "D:\\studia\\jupyter notebook\\inzynierka\\src\\models\\model_setup.py:32: RuntimeWarning: invalid value encountered in true_divide\n",
      "  alpha[:, t] /= alpha_sum\n",
      "D:\\studia\\jupyter notebook\\inzynierka\\src\\models\\model_setup.py:33: RuntimeWarning: divide by zero encountered in log\n",
      "  log_likelihood = log_likelihood + np.log(alpha_sum)\n",
      "D:\\studia\\jupyter notebook\\inzynierka\\src\\models\\model_setup.py:64: RuntimeWarning: divide by zero encountered in true_divide\n",
      "  return (x + (x == 0)) / np.sum(x)\n",
      "D:\\studia\\jupyter notebook\\inzynierka\\src\\models\\model_setup.py:69: RuntimeWarning: invalid value encountered in true_divide\n",
      "  return (x + (x == 0)) / sum_of_rows[:, np.newaxis]\n",
      "D:\\studia\\jupyter notebook\\inzynierka\\src\\models\\model_setup.py:32: RuntimeWarning: invalid value encountered in true_divide\n",
      "  alpha[:, t] /= alpha_sum\n",
      "D:\\studia\\jupyter notebook\\inzynierka\\src\\models\\model_setup.py:33: RuntimeWarning: divide by zero encountered in log\n",
      "  log_likelihood = log_likelihood + np.log(alpha_sum)\n",
      "D:\\studia\\jupyter notebook\\inzynierka\\src\\models\\model_setup.py:64: RuntimeWarning: divide by zero encountered in true_divide\n",
      "  return (x + (x == 0)) / np.sum(x)\n",
      "D:\\studia\\jupyter notebook\\inzynierka\\src\\models\\model_setup.py:69: RuntimeWarning: invalid value encountered in true_divide\n",
      "  return (x + (x == 0)) / sum_of_rows[:, np.newaxis]\n",
      "D:\\studia\\jupyter notebook\\inzynierka\\src\\models\\model_setup.py:32: RuntimeWarning: invalid value encountered in true_divide\n",
      "  alpha[:, t] /= alpha_sum\n",
      "D:\\studia\\jupyter notebook\\inzynierka\\src\\models\\model_setup.py:33: RuntimeWarning: divide by zero encountered in log\n",
      "  log_likelihood = log_likelihood + np.log(alpha_sum)\n",
      "D:\\studia\\jupyter notebook\\inzynierka\\src\\models\\model_setup.py:44: RuntimeWarning: invalid value encountered in true_divide\n",
      "  beta[:, t] /= np.sum(beta[:, t])\n"
     ]
    },
    {
     "name": "stderr",
     "output_type": "stream",
     "text": [
      "D:\\studia\\jupyter notebook\\inzynierka\\src\\models\\model_setup.py:32: RuntimeWarning: invalid value encountered in true_divide\n",
      "  alpha[:, t] /= alpha_sum\n",
      "D:\\studia\\jupyter notebook\\inzynierka\\src\\models\\model_setup.py:33: RuntimeWarning: divide by zero encountered in log\n",
      "  log_likelihood = log_likelihood + np.log(alpha_sum)\n",
      "D:\\studia\\jupyter notebook\\inzynierka\\src\\models\\model_setup.py:44: RuntimeWarning: invalid value encountered in true_divide\n",
      "  beta[:, t] /= np.sum(beta[:, t])\n",
      "D:\\studia\\jupyter notebook\\inzynierka\\src\\models\\model_setup.py:64: RuntimeWarning: divide by zero encountered in true_divide\n",
      "  return (x + (x == 0)) / np.sum(x)\n",
      "D:\\studia\\jupyter notebook\\inzynierka\\src\\models\\model_setup.py:69: RuntimeWarning: invalid value encountered in true_divide\n",
      "  return (x + (x == 0)) / sum_of_rows[:, np.newaxis]\n",
      "D:\\studia\\jupyter notebook\\inzynierka\\src\\models\\model_setup.py:32: RuntimeWarning: invalid value encountered in true_divide\n",
      "  alpha[:, t] /= alpha_sum\n",
      "D:\\studia\\jupyter notebook\\inzynierka\\src\\models\\model_setup.py:33: RuntimeWarning: divide by zero encountered in log\n",
      "  log_likelihood = log_likelihood + np.log(alpha_sum)\n",
      "D:\\studia\\jupyter notebook\\inzynierka\\src\\models\\model_setup.py:44: RuntimeWarning: invalid value encountered in true_divide\n",
      "  beta[:, t] /= np.sum(beta[:, t])\n",
      "D:\\studia\\jupyter notebook\\inzynierka\\src\\models\\model_setup.py:64: RuntimeWarning: divide by zero encountered in true_divide\n",
      "  return (x + (x == 0)) / np.sum(x)\n",
      "D:\\studia\\jupyter notebook\\inzynierka\\src\\models\\model_setup.py:69: RuntimeWarning: invalid value encountered in true_divide\n",
      "  return (x + (x == 0)) / sum_of_rows[:, np.newaxis]\n",
      "D:\\studia\\jupyter notebook\\inzynierka\\src\\models\\model_setup.py:32: RuntimeWarning: invalid value encountered in true_divide\n",
      "  alpha[:, t] /= alpha_sum\n",
      "D:\\studia\\jupyter notebook\\inzynierka\\src\\models\\model_setup.py:33: RuntimeWarning: divide by zero encountered in log\n",
      "  log_likelihood = log_likelihood + np.log(alpha_sum)\n",
      "D:\\studia\\jupyter notebook\\inzynierka\\src\\models\\model_setup.py:44: RuntimeWarning: invalid value encountered in true_divide\n",
      "  beta[:, t] /= np.sum(beta[:, t])\n",
      "D:\\studia\\jupyter notebook\\inzynierka\\src\\models\\model_setup.py:32: RuntimeWarning: invalid value encountered in true_divide\n",
      "  alpha[:, t] /= alpha_sum\n",
      "D:\\studia\\jupyter notebook\\inzynierka\\src\\models\\model_setup.py:33: RuntimeWarning: divide by zero encountered in log\n",
      "  log_likelihood = log_likelihood + np.log(alpha_sum)\n",
      "D:\\studia\\jupyter notebook\\inzynierka\\src\\models\\model_setup.py:44: RuntimeWarning: invalid value encountered in true_divide\n",
      "  beta[:, t] /= np.sum(beta[:, t])\n",
      "D:\\studia\\jupyter notebook\\inzynierka\\src\\models\\model_setup.py:64: RuntimeWarning: divide by zero encountered in true_divide\n",
      "  return (x + (x == 0)) / np.sum(x)\n",
      "D:\\studia\\jupyter notebook\\inzynierka\\src\\models\\model_setup.py:69: RuntimeWarning: invalid value encountered in true_divide\n",
      "  return (x + (x == 0)) / sum_of_rows[:, np.newaxis]\n",
      "D:\\studia\\jupyter notebook\\inzynierka\\src\\models\\model_setup.py:32: RuntimeWarning: invalid value encountered in true_divide\n",
      "  alpha[:, t] /= alpha_sum\n",
      "D:\\studia\\jupyter notebook\\inzynierka\\src\\models\\model_setup.py:33: RuntimeWarning: divide by zero encountered in log\n",
      "  log_likelihood = log_likelihood + np.log(alpha_sum)\n",
      "D:\\studia\\jupyter notebook\\inzynierka\\src\\models\\model_setup.py:44: RuntimeWarning: invalid value encountered in true_divide\n",
      "  beta[:, t] /= np.sum(beta[:, t])\n",
      "D:\\studia\\jupyter notebook\\inzynierka\\src\\models\\model_setup.py:64: RuntimeWarning: divide by zero encountered in true_divide\n",
      "  return (x + (x == 0)) / np.sum(x)\n",
      "D:\\studia\\jupyter notebook\\inzynierka\\src\\models\\model_setup.py:69: RuntimeWarning: invalid value encountered in true_divide\n",
      "  return (x + (x == 0)) / sum_of_rows[:, np.newaxis]\n",
      "D:\\studia\\jupyter notebook\\inzynierka\\src\\models\\model_setup.py:32: RuntimeWarning: invalid value encountered in true_divide\n",
      "  alpha[:, t] /= alpha_sum\n",
      "D:\\studia\\jupyter notebook\\inzynierka\\src\\models\\model_setup.py:33: RuntimeWarning: divide by zero encountered in log\n",
      "  log_likelihood = log_likelihood + np.log(alpha_sum)\n",
      "D:\\studia\\jupyter notebook\\inzynierka\\src\\models\\model_setup.py:44: RuntimeWarning: invalid value encountered in true_divide\n",
      "  beta[:, t] /= np.sum(beta[:, t])\n",
      "D:\\studia\\jupyter notebook\\inzynierka\\src\\models\\model_setup.py:32: RuntimeWarning: invalid value encountered in true_divide\n",
      "  alpha[:, t] /= alpha_sum\n",
      "D:\\studia\\jupyter notebook\\inzynierka\\src\\models\\model_setup.py:33: RuntimeWarning: divide by zero encountered in log\n",
      "  log_likelihood = log_likelihood + np.log(alpha_sum)\n",
      "D:\\studia\\jupyter notebook\\inzynierka\\src\\models\\model_setup.py:44: RuntimeWarning: invalid value encountered in true_divide\n",
      "  beta[:, t] /= np.sum(beta[:, t])\n",
      "D:\\studia\\jupyter notebook\\inzynierka\\src\\models\\model_setup.py:64: RuntimeWarning: divide by zero encountered in true_divide\n",
      "  return (x + (x == 0)) / np.sum(x)\n",
      "D:\\studia\\jupyter notebook\\inzynierka\\src\\models\\model_setup.py:69: RuntimeWarning: invalid value encountered in true_divide\n",
      "  return (x + (x == 0)) / sum_of_rows[:, np.newaxis]\n",
      "D:\\studia\\jupyter notebook\\inzynierka\\src\\models\\model_setup.py:32: RuntimeWarning: invalid value encountered in true_divide\n",
      "  alpha[:, t] /= alpha_sum\n",
      "D:\\studia\\jupyter notebook\\inzynierka\\src\\models\\model_setup.py:33: RuntimeWarning: divide by zero encountered in log\n",
      "  log_likelihood = log_likelihood + np.log(alpha_sum)\n",
      "D:\\studia\\jupyter notebook\\inzynierka\\src\\models\\model_setup.py:44: RuntimeWarning: invalid value encountered in true_divide\n",
      "  beta[:, t] /= np.sum(beta[:, t])\n",
      "D:\\studia\\jupyter notebook\\inzynierka\\src\\models\\model_setup.py:64: RuntimeWarning: divide by zero encountered in true_divide\n",
      "  return (x + (x == 0)) / np.sum(x)\n",
      "D:\\studia\\jupyter notebook\\inzynierka\\src\\models\\model_setup.py:69: RuntimeWarning: invalid value encountered in true_divide\n",
      "  return (x + (x == 0)) / sum_of_rows[:, np.newaxis]\n"
     ]
    }
   ],
   "source": [
    "params = {\n",
    "    'random_horizontal_shift': [0.1, 0.25, 0.4],\n",
    "    'random_vertical_scaling': [0.5, 1, 10],\n",
    "    'n_iter' : [15, 30, 50],\n",
    "    'n_hiddens': [5, 6, 7]\n",
    "}\n",
    "\n",
    "gs = GridSearch(random_state=7)\n",
    "\n",
    "results = gs.grid_search_randomness(params)"
   ]
  },
  {
   "cell_type": "code",
   "execution_count": 68,
   "metadata": {},
   "outputs": [],
   "source": [
    "# results.to_csv(r'results\\result_randomness.csv')"
   ]
  },
  {
   "cell_type": "markdown",
   "metadata": {},
   "source": [
    "## Noising"
   ]
  },
  {
   "cell_type": "code",
   "execution_count": 123,
   "metadata": {},
   "outputs": [],
   "source": [
    "params = {\n",
    "    'beta': [-2, -1, 0, 1, 2],\n",
    "    'SNR': [-2, -1, 0, 1, 2, 3, 4, 5, 6, 7, 8, 9],\n",
    "    'n_iters' : [15],\n",
    "    'n_hiddens': [6]\n",
    "}"
   ]
  },
  {
   "cell_type": "code",
   "execution_count": 99,
   "metadata": {},
   "outputs": [],
   "source": [
    "noise_gs = Noiser(random_state=7)"
   ]
  },
  {
   "cell_type": "code",
   "execution_count": 100,
   "metadata": {},
   "outputs": [
    {
     "name": "stdout",
     "output_type": "stream",
     "text": [
      "Iteration 1/60.\n",
      "Iteration 5/60.\n",
      "Iteration 10/60.\n",
      "Iteration 15/60.\n",
      "Iteration 20/60.\n",
      "Iteration 25/60.\n",
      "Iteration 30/60.\n",
      "Iteration 35/60.\n",
      "Iteration 40/60.\n",
      "Iteration 45/60.\n",
      "Iteration 50/60.\n",
      "Iteration 55/60.\n",
      "Iteration 60/60.\n"
     ]
    }
   ],
   "source": [
    "results = noise_gs.noise_hmm_results(params)"
   ]
  },
  {
   "cell_type": "code",
   "execution_count": 101,
   "metadata": {},
   "outputs": [],
   "source": [
    "# results.to_csv(r'results\\result_noise.csv')"
   ]
  },
  {
   "cell_type": "code",
   "execution_count": 106,
   "metadata": {},
   "outputs": [
    {
     "name": "stdout",
     "output_type": "stream",
     "text": [
      "Iteration 1/60.\n",
      "Iteration 5/60.\n",
      "Iteration 10/60.\n",
      "Iteration 15/60.\n",
      "Iteration 20/60.\n",
      "Iteration 25/60.\n",
      "Iteration 30/60.\n",
      "Iteration 35/60.\n",
      "Iteration 40/60.\n",
      "Iteration 45/60.\n",
      "Iteration 50/60.\n",
      "Iteration 55/60.\n",
      "Iteration 60/60.\n"
     ]
    }
   ],
   "source": [
    "results = noise_gs.noise_hmm_results(params, train_on_noise=True, beta_noise=0, snr_noise=5)"
   ]
  },
  {
   "cell_type": "code",
   "execution_count": 107,
   "metadata": {},
   "outputs": [],
   "source": [
    "results.to_csv(r'results\\result_noise_on_noise.csv')"
   ]
  },
  {
   "cell_type": "markdown",
   "metadata": {},
   "source": [
    "## Noise to noise"
   ]
  },
  {
   "cell_type": "code",
   "execution_count": 12,
   "metadata": {},
   "outputs": [
    {
     "name": "stdout",
     "output_type": "stream",
     "text": [
      "Training base result...\n",
      "Iteration 0/1500.\n",
      "Iteration 60/1500. Evaluation time: 12 min 37.87 s\n",
      "Iteration 120/1500. Evaluation time: 12 min 44.58 s\n",
      "Iteration 180/1500. Evaluation time: 11 min 34.16 s\n",
      "Iteration 240/1500. Evaluation time: 11 min 28.92 s\n",
      "Iteration 300/1500. Evaluation time: 11 min 24.34 s\n",
      "Iteration 360/1500. Evaluation time: 11 min 27.97 s\n",
      "Iteration 420/1500. Evaluation time: 11 min 30.47 s\n",
      "Iteration 480/1500. Evaluation time: 11 min 31.47 s\n",
      "Iteration 540/1500. Evaluation time: 11 min 29.73 s\n",
      "Iteration 600/1500. Evaluation time: 11 min 27.12 s\n",
      "Iteration 660/1500. Evaluation time: 11 min 27.20 s\n",
      "Iteration 720/1500. Evaluation time: 11 min 47.52 s\n",
      "Iteration 780/1500. Evaluation time: 11 min 40.21 s\n",
      "Iteration 840/1500. Evaluation time: 12 min 1.23 s\n",
      "Iteration 900/1500. Evaluation time: 11 min 23.76 s\n",
      "Iteration 960/1500. Evaluation time: 11 min 38.72 s\n",
      "Iteration 1020/1500. Evaluation time: 11 min 58.57 s\n",
      "Iteration 1080/1500. Evaluation time: 11 min 31.12 s\n",
      "Iteration 1140/1500. Evaluation time: 11 min 27.61 s\n",
      "Iteration 1200/1500. Evaluation time: 11 min 46.39 s\n",
      "Iteration 1260/1500. Evaluation time: 11 min 51.98 s\n",
      "Iteration 1320/1500. Evaluation time: 11 min 48.75 s\n",
      "Iteration 1380/1500. Evaluation time: 11 min 43.32 s\n",
      "Iteration 1440/1500. Evaluation time: 12 min 1.03 s\n",
      "Iteration 1500/1500. Evaluation time: 11 min 36.21 s\n"
     ]
    }
   ],
   "source": [
    "params = {\n",
    "    'beta': [-2, -1, 0, 1, 2],\n",
    "    'SNR': [-2, -1, 0, 1, 2, 3, 4, 5, 6, 7, 8, 9],\n",
    "    'chosen_snr': [5, 6, 7, 8, 9], \n",
    "    'n_iters' : [15],\n",
    "    'n_hiddens': [6]\n",
    "}\n",
    "\n",
    "noise_gs = Noiser(random_state=7)\n",
    "best, cost = noise_gs.best_noise_on_noise_grid_search(params)"
   ]
  },
  {
   "cell_type": "code",
   "execution_count": 13,
   "metadata": {},
   "outputs": [
    {
     "data": {
      "text/plain": [
       "beta_-2_snr_5    36\n",
       "beta_-2_snr_6    36\n",
       "beta_-2_snr_7    38\n",
       "beta_-2_snr_8    39\n",
       "beta_-2_snr_9    46\n",
       "beta_-1_snr_5    36\n",
       "beta_-1_snr_6    36\n",
       "beta_-1_snr_7    37\n",
       "beta_-1_snr_8    43\n",
       "beta_-1_snr_9    38\n",
       "beta_0_snr_5     39\n",
       "beta_0_snr_6     27\n",
       "beta_0_snr_7     38\n",
       "beta_0_snr_8     38\n",
       "beta_0_snr_9     37\n",
       "beta_1_snr_5     20\n",
       "beta_1_snr_6     30\n",
       "beta_1_snr_7     26\n",
       "beta_1_snr_8     29\n",
       "beta_1_snr_9     30\n",
       "beta_2_snr_5     18\n",
       "beta_2_snr_6     19\n",
       "beta_2_snr_7     20\n",
       "beta_2_snr_8     26\n",
       "beta_2_snr_9     20\n",
       "dtype: int64"
      ]
     },
     "execution_count": 13,
     "metadata": {},
     "output_type": "execute_result"
    }
   ],
   "source": [
    "cost"
   ]
  },
  {
   "cell_type": "code",
   "execution_count": 14,
   "metadata": {},
   "outputs": [
    {
     "data": {
      "text/plain": [
       "beta_-2_snr_9    46\n",
       "dtype: int64"
      ]
     },
     "execution_count": 14,
     "metadata": {},
     "output_type": "execute_result"
    }
   ],
   "source": [
    "best"
   ]
  },
  {
   "cell_type": "code",
   "execution_count": 15,
   "metadata": {},
   "outputs": [],
   "source": [
    "# cost.to_csv(r'results\\cost_search_noise_on_noise.csv')"
   ]
  },
  {
   "cell_type": "code",
   "execution_count": 17,
   "metadata": {},
   "outputs": [
    {
     "name": "stdout",
     "output_type": "stream",
     "text": [
      "Training base result...\n",
      "Iteration 0/2.\n",
      "Iteration 2/2. Evaluation time: 3 min 38.54 s\n"
     ]
    },
    {
     "data": {
      "text/plain": [
       "(beta_-2_snr_6    2\n",
       " dtype: int64,\n",
       " beta_-2_snr_6    2\n",
       " dtype: int64)"
      ]
     },
     "execution_count": 17,
     "metadata": {},
     "output_type": "execute_result"
    }
   ],
   "source": [
    "params = {\n",
    "    'beta': [-2],\n",
    "    'SNR': [-1, 0],\n",
    "    'chosen_snr': [6], \n",
    "    'n_iters' : [15],\n",
    "    'n_hiddens': [6]\n",
    "}\n",
    "\n",
    "noise_gs = Noiser(random_state=7)\n",
    "\n",
    "noise_gs.best_noise_on_noise_grid_search(params)"
   ]
  },
  {
   "cell_type": "code",
   "execution_count": 18,
   "metadata": {},
   "outputs": [],
   "source": [
    "params = {\n",
    "    'random_horizontal_shift': [0.1],\n",
    "    'random_vertical_scaling': [1],\n",
    "    'n_iter' : [15],\n",
    "    'n_hiddens': [7]\n",
    "}\n",
    "\n",
    "gs = GridSearch(random_state=7)\n",
    "\n",
    "results = gs.grid_search_randomness(params)"
   ]
  },
  {
   "cell_type": "code",
   "execution_count": 19,
   "metadata": {},
   "outputs": [
    {
     "data": {
      "text/plain": [
       "['data']"
      ]
     },
     "execution_count": 19,
     "metadata": {},
     "output_type": "execute_result"
    }
   ],
   "source": [
    "gs.create_random_datasets(params)"
   ]
  },
  {
   "cell_type": "code",
   "execution_count": 20,
   "metadata": {},
   "outputs": [
    {
     "name": "stdout",
     "output_type": "stream",
     "text": [
      "Iteration 1/1.\n"
     ]
    }
   ],
   "source": [
    "params = {'n_samples':[20],\n",
    "          'n_mfcc':[13],\n",
    "          'hop_wins':[0.01],\n",
    "          'len_wins':[0.025],\n",
    "          'n_iters':[15],\n",
    "          'n_hiddens':[4]}\n",
    "\n",
    "gs = GridSearch(random_state=7)\n",
    "results = gs.grid_search_model(params, k=5)"
   ]
  }
 ],
 "metadata": {
  "kernelspec": {
   "display_name": "inzynierka",
   "language": "python",
   "name": "inzynierka"
  },
  "language_info": {
   "codemirror_mode": {
    "name": "ipython",
    "version": 3
   },
   "file_extension": ".py",
   "mimetype": "text/x-python",
   "name": "python",
   "nbconvert_exporter": "python",
   "pygments_lexer": "ipython3",
   "version": "3.9.7"
  },
  "toc": {
   "base_numbering": 1,
   "nav_menu": {},
   "number_sections": true,
   "sideBar": true,
   "skip_h1_title": false,
   "title_cell": "Table of Contents",
   "title_sidebar": "Contents",
   "toc_cell": false,
   "toc_position": {
    "height": "calc(100% - 180px)",
    "left": "10px",
    "top": "150px",
    "width": "384px"
   },
   "toc_section_display": true,
   "toc_window_display": true
  }
 },
 "nbformat": 4,
 "nbformat_minor": 2
}
